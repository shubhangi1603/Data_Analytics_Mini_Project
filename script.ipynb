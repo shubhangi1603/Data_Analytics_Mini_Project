{
 "cells": [
  {
   "cell_type": "code",
   "execution_count": 1,
   "metadata": {},
   "outputs": [],
   "source": [
    "import pandas as pd\n",
    "import plotly.express as px\n",
    "import plotly.graph_objs as go"
   ]
  },
  {
   "cell_type": "code",
   "execution_count": 2,
   "metadata": {},
   "outputs": [],
   "source": [
    "df=pd.read_csv('most_followed_ig.csv')"
   ]
  },
  {
   "cell_type": "code",
   "execution_count": 3,
   "metadata": {},
   "outputs": [
    {
     "data": {
      "text/html": [
       "<div>\n",
       "<style scoped>\n",
       "    .dataframe tbody tr th:only-of-type {\n",
       "        vertical-align: middle;\n",
       "    }\n",
       "\n",
       "    .dataframe tbody tr th {\n",
       "        vertical-align: top;\n",
       "    }\n",
       "\n",
       "    .dataframe thead th {\n",
       "        text-align: right;\n",
       "    }\n",
       "</style>\n",
       "<table border=\"1\" class=\"dataframe\">\n",
       "  <thead>\n",
       "    <tr style=\"text-align: right;\">\n",
       "      <th></th>\n",
       "      <th>RANK</th>\n",
       "      <th>BRAND</th>\n",
       "      <th>CATEGORIES 1</th>\n",
       "      <th>CATEGORIES 2</th>\n",
       "      <th>FOLLOWERS</th>\n",
       "      <th>ER</th>\n",
       "      <th>iPOSTS ON HASHTAG</th>\n",
       "      <th>MEDIA POSTED</th>\n",
       "    </tr>\n",
       "  </thead>\n",
       "  <tbody>\n",
       "    <tr>\n",
       "      <th>0</th>\n",
       "      <td>1</td>\n",
       "      <td>Selena Gomez</td>\n",
       "      <td>celebrities</td>\n",
       "      <td>musicians</td>\n",
       "      <td>105.4M�(=)</td>\n",
       "      <td>2.62%�(1342)</td>\n",
       "      <td>14.5M�(48)</td>\n",
       "      <td>1.2k�(2135)</td>\n",
       "    </tr>\n",
       "    <tr>\n",
       "      <th>1</th>\n",
       "      <td>2</td>\n",
       "      <td>Taylor Swift</td>\n",
       "      <td>celebrities</td>\n",
       "      <td>musicians</td>\n",
       "      <td>95.2M�(=)</td>\n",
       "      <td>1.96%�(2040)</td>\n",
       "      <td>10.5M�(66)</td>\n",
       "      <td>958�(2669)</td>\n",
       "    </tr>\n",
       "    <tr>\n",
       "      <th>2</th>\n",
       "      <td>3</td>\n",
       "      <td>Ariana Grande</td>\n",
       "      <td>celebrities</td>\n",
       "      <td>musicians</td>\n",
       "      <td>92.3M�(=)</td>\n",
       "      <td>1.43%�(2759)</td>\n",
       "      <td>16.9M�(41)</td>\n",
       "      <td>2.8k�(824)</td>\n",
       "    </tr>\n",
       "    <tr>\n",
       "      <th>3</th>\n",
       "      <td>4</td>\n",
       "      <td>Beyonce</td>\n",
       "      <td>celebrities</td>\n",
       "      <td>musicians</td>\n",
       "      <td>90.6M�(=)</td>\n",
       "      <td>2.53%�(1427)</td>\n",
       "      <td>9.2M�(70)</td>\n",
       "      <td>1.4k�(1897)</td>\n",
       "    </tr>\n",
       "    <tr>\n",
       "      <th>4</th>\n",
       "      <td>5</td>\n",
       "      <td>Kim Kardashian West</td>\n",
       "      <td>celebrities</td>\n",
       "      <td>tv</td>\n",
       "      <td>89.3M�(=)</td>\n",
       "      <td>1.39%�(2812)</td>\n",
       "      <td>5.1M�(130)</td>\n",
       "      <td>3.6k�(550)</td>\n",
       "    </tr>\n",
       "  </tbody>\n",
       "</table>\n",
       "</div>"
      ],
      "text/plain": [
       "   RANK                BRAND CATEGORIES 1 CATEGORIES 2   FOLLOWERS  \\\n",
       "0     1         Selena Gomez  celebrities    musicians  105.4M�(=)   \n",
       "1     2         Taylor Swift  celebrities    musicians   95.2M�(=)   \n",
       "2     3        Ariana Grande  celebrities    musicians   92.3M�(=)   \n",
       "3     4              Beyonce  celebrities    musicians   90.6M�(=)   \n",
       "4     5  Kim Kardashian West  celebrities           tv   89.3M�(=)   \n",
       "\n",
       "             ER iPOSTS ON HASHTAG MEDIA POSTED  \n",
       "0  2.62%�(1342)        14.5M�(48)  1.2k�(2135)  \n",
       "1  1.96%�(2040)        10.5M�(66)   958�(2669)  \n",
       "2  1.43%�(2759)        16.9M�(41)   2.8k�(824)  \n",
       "3  2.53%�(1427)         9.2M�(70)  1.4k�(1897)  \n",
       "4  1.39%�(2812)        5.1M�(130)   3.6k�(550)  "
      ]
     },
     "execution_count": 3,
     "metadata": {},
     "output_type": "execute_result"
    }
   ],
   "source": [
    "df.head()"
   ]
  },
  {
   "cell_type": "code",
   "execution_count": 34,
   "metadata": {},
   "outputs": [],
   "source": [
    "df['MEDIA POSTED']= df['MEDIA POSTED'].apply(lambda a: str(a.split('k')[0]))"
   ]
  },
  {
   "cell_type": "code",
   "execution_count": 5,
   "metadata": {},
   "outputs": [
    {
     "data": {
      "text/plain": [
       "0           1.2\n",
       "1    958�(2669)\n",
       "2           2.8\n",
       "3           1.4\n",
       "4           3.6\n",
       "Name: MEDIA POSTED, dtype: object"
      ]
     },
     "execution_count": 5,
     "metadata": {},
     "output_type": "execute_result"
    }
   ],
   "source": [
    "df['MEDIA POSTED'].head()"
   ]
  },
  {
   "cell_type": "code",
   "execution_count": 49,
   "metadata": {},
   "outputs": [
    {
     "data": {
      "application/vnd.plotly.v1+json": {
       "config": {
        "plotlyServerURL": "https://plot.ly"
       },
       "data": [
        {
         "coloraxis": "coloraxis",
         "hovertemplate": "MEDIA POSTED=%{x}<br>index=%{y}<br>count=%{z}<extra></extra>",
         "name": "",
         "type": "histogram2d",
         "x": [
          "1.2",
          "958�(2669)",
          "2.8",
          "1.4",
          "3.6",
          "1.6",
          "4.9",
          "3.8",
          "2.5",
          "2.7",
          "4.2",
          "880�(2832)",
          "12.7",
          "3.6",
          "180�(4909)",
          "3.1",
          "507�(3846)",
          "5.8",
          "1.6",
          "1.5",
          "3",
          "4.3",
          "3.7",
          "4",
          "8.9",
          "1",
          "498�(3888)",
          "4.3",
          "3.2",
          "3",
          "11.4",
          "476�(3955)",
          "3.4",
          "986�(2599)",
          "664�(3369)",
          "634�(3454)",
          "2.3",
          "1.3",
          "509�(3838)",
          "1.4",
          "361�(4339)",
          "1.9",
          "314�(4476)",
          "40�(5340)",
          "2.4",
          "17.8",
          "391�(4235)",
          "777�(3062)",
          "176�(4922)",
          "797�(3008)",
          "1.8",
          "3",
          "2.3",
          "726�(3189)",
          "583�(3621)",
          "1.5",
          "3",
          "4.9",
          "833�(2924)",
          "2.1",
          "3.1",
          "1.5",
          "378�(4276)",
          "4",
          "1.2",
          "5.5",
          "4.3",
          "1.3",
          "4.1",
          "2.9",
          "1.5",
          "5.9",
          "1.7",
          "27.1",
          "505�(3856)",
          "2.9",
          "577�(3639)",
          "2.1",
          "3.2",
          "1.5",
          "1.9",
          "3.3",
          "718�(3207)",
          "133�(5050)",
          "3.6",
          "1.4",
          "1.3",
          "8.9",
          "2.7",
          "2.4",
          "1",
          "3.8",
          "2.6",
          "148�(5008)",
          "1.9",
          "1.7",
          "3.9",
          "2.5",
          "396�(4219)",
          "231�(4753)"
         ],
         "xaxis": "x",
         "xbingroup": "x",
         "y": [
          0,
          1,
          2,
          3,
          4,
          5,
          6,
          7,
          8,
          9,
          10,
          11,
          12,
          13,
          14,
          15,
          16,
          17,
          18,
          19,
          20,
          21,
          22,
          23,
          24,
          25,
          26,
          27,
          28,
          29,
          30,
          31,
          32,
          33,
          34,
          35,
          36,
          37,
          38,
          39,
          40,
          41,
          42,
          43,
          44,
          45,
          46,
          47,
          48,
          49,
          50,
          51,
          52,
          53,
          54,
          55,
          56,
          57,
          58,
          59,
          60,
          61,
          62,
          63,
          64,
          65,
          66,
          67,
          68,
          69,
          70,
          71,
          72,
          73,
          74,
          75,
          76,
          77,
          78,
          79,
          80,
          81,
          82,
          83,
          84,
          85,
          86,
          87,
          88,
          89,
          90,
          91,
          92,
          93,
          94,
          95,
          96,
          97,
          98,
          99
         ],
         "yaxis": "y",
         "ybingroup": "y"
        }
       ],
       "layout": {
        "coloraxis": {
         "colorbar": {
          "title": {
           "text": "count"
          }
         },
         "colorscale": [
          [
           0,
           "#440154"
          ],
          [
           0.1111111111111111,
           "#482878"
          ],
          [
           0.2222222222222222,
           "#3e4989"
          ],
          [
           0.3333333333333333,
           "#31688e"
          ],
          [
           0.4444444444444444,
           "#26828e"
          ],
          [
           0.5555555555555556,
           "#1f9e89"
          ],
          [
           0.6666666666666666,
           "#35b779"
          ],
          [
           0.7777777777777778,
           "#6ece58"
          ],
          [
           0.8888888888888888,
           "#b5de2b"
          ],
          [
           1,
           "#fde725"
          ]
         ]
        },
        "legend": {
         "tracegroupgap": 0
        },
        "margin": {
         "t": 60
        },
        "template": {
         "data": {
          "pie": [
           {
            "automargin": true,
            "type": "pie"
           }
          ]
         },
         "layout": {
          "yaxis": {
           "showgrid": false
          }
         }
        },
        "xaxis": {
         "anchor": "y",
         "domain": [
          0,
          1
         ],
         "title": {
          "text": "MEDIA POSTED"
         }
        },
        "yaxis": {
         "anchor": "x",
         "domain": [
          0,
          1
         ],
         "title": {
          "text": "index"
         }
        }
       }
      }
     },
     "metadata": {},
     "output_type": "display_data"
    }
   ],
   "source": [
    "px.density_heatmap(df,x='MEDIA POSTED',template='ygridoff')"
   ]
  },
  {
   "cell_type": "code",
   "execution_count": 35,
   "metadata": {},
   "outputs": [],
   "source": [
    "df['MEDIA POSTED']= df['MEDIA POSTED'].apply(lambda a: str(a.split('M')[0]))"
   ]
  },
  {
   "cell_type": "code",
   "execution_count": 36,
   "metadata": {},
   "outputs": [
    {
     "data": {
      "text/plain": [
       "0           1.2\n",
       "1    958�(2669)\n",
       "2           2.8\n",
       "3           1.4\n",
       "4           3.6\n",
       "Name: MEDIA POSTED, dtype: object"
      ]
     },
     "execution_count": 36,
     "metadata": {},
     "output_type": "execute_result"
    }
   ],
   "source": [
    "df['MEDIA POSTED'].head()"
   ]
  },
  {
   "cell_type": "code",
   "execution_count": 14,
   "metadata": {},
   "outputs": [],
   "source": [
    "df['ER']= df['ER'].apply(lambda a: float(a.split('%')[0]))"
   ]
  },
  {
   "cell_type": "code",
   "execution_count": 15,
   "metadata": {},
   "outputs": [
    {
     "data": {
      "text/plain": [
       "0    2.62\n",
       "1    1.96\n",
       "2    1.43\n",
       "3    2.53\n",
       "4    1.39\n",
       "Name: ER, dtype: float64"
      ]
     },
     "execution_count": 15,
     "metadata": {},
     "output_type": "execute_result"
    }
   ],
   "source": [
    "df['ER'].head()"
   ]
  },
  {
   "cell_type": "code",
   "execution_count": 6,
   "metadata": {},
   "outputs": [
    {
     "data": {
      "text/plain": [
       "array(['celebrities', 'fashion', 'media', 'sport', 'entertainment',\n",
       "       'other', 'beauty', 'beverages'], dtype=object)"
      ]
     },
     "execution_count": 6,
     "metadata": {},
     "output_type": "execute_result"
    }
   ],
   "source": [
    "df['CATEGORIES 1'].unique()"
   ]
  },
  {
   "cell_type": "code",
   "execution_count": null,
   "metadata": {},
   "outputs": [],
   "source": [
    "px.histogram(data_frame = df, x ='BRAND', y ='RANK', color='FOLLOWERS',template='plotly_dark' )"
   ]
  },
  {
   "cell_type": "code",
   "execution_count": null,
   "metadata": {},
   "outputs": [],
   "source": [
    "fig =  px.bar(data_frame= df ,  x='RANK', y='BRAND',\n",
    "             hover_data=['MEDIA POSTED', 'FOLLOWERS'], color='RANK' ,\n",
    "             labels={'BRAND':'BRAND'}, template='plotly_dark')\n",
    "\n",
    "fig.show()\n"
   ]
  },
  {
   "cell_type": "code",
   "execution_count": null,
   "metadata": {},
   "outputs": [],
   "source": [
    "px.scatter_3d(data_frame=df, x='CATEGORIES 2',z='MEDIA POSTED',y='CATEGORIES 1',color='BRAND',template='plotly_dark',hover_data=['FOLLOWERS','RANK'])\n",
    "\n"
   ]
  },
  {
   "cell_type": "code",
   "execution_count": null,
   "metadata": {},
   "outputs": [],
   "source": [
    "fig =  px.bar(data_frame= df ,  x='BRAND', y=  'CATEGORIES 2',\n",
    "             hover_data=['MEDIA POSTED', 'ER'], color='FOLLOWERS' ,\n",
    "             labels={'FOLLOWERS':'FOLLOWERS'}, template='plotly_white')\n",
    "\n",
    "fig.show()\n"
   ]
  },
  {
   "cell_type": "code",
   "execution_count": 51,
   "metadata": {},
   "outputs": [
    {
     "data": {
      "application/vnd.plotly.v1+json": {
       "config": {
        "plotlyServerURL": "https://plot.ly"
       },
       "data": [
        {
         "hovertemplate": "FOLLOWERS=105.4M�(=)<br>BRAND=%{x}<br>CATEGORIES 1=%{y}<br>CATEGORIES 2=%{z}<extra></extra>",
         "legendgroup": "105.4M�(=)",
         "marker": {
          "color": "#636efa",
          "symbol": "circle"
         },
         "mode": "markers",
         "name": "105.4M�(=)",
         "scene": "scene",
         "showlegend": true,
         "type": "scatter3d",
         "x": [
          "Selena Gomez"
         ],
         "y": [
          "celebrities"
         ],
         "z": [
          "musicians"
         ]
        },
        {
         "hovertemplate": "FOLLOWERS=95.2M�(=)<br>BRAND=%{x}<br>CATEGORIES 1=%{y}<br>CATEGORIES 2=%{z}<extra></extra>",
         "legendgroup": "95.2M�(=)",
         "marker": {
          "color": "#EF553B",
          "symbol": "circle"
         },
         "mode": "markers",
         "name": "95.2M�(=)",
         "scene": "scene",
         "showlegend": true,
         "type": "scatter3d",
         "x": [
          "Taylor Swift"
         ],
         "y": [
          "celebrities"
         ],
         "z": [
          "musicians"
         ]
        },
        {
         "hovertemplate": "FOLLOWERS=92.3M�(=)<br>BRAND=%{x}<br>CATEGORIES 1=%{y}<br>CATEGORIES 2=%{z}<extra></extra>",
         "legendgroup": "92.3M�(=)",
         "marker": {
          "color": "#00cc96",
          "symbol": "circle"
         },
         "mode": "markers",
         "name": "92.3M�(=)",
         "scene": "scene",
         "showlegend": true,
         "type": "scatter3d",
         "x": [
          "Ariana Grande"
         ],
         "y": [
          "celebrities"
         ],
         "z": [
          "musicians"
         ]
        },
        {
         "hovertemplate": "FOLLOWERS=90.6M�(=)<br>BRAND=%{x}<br>CATEGORIES 1=%{y}<br>CATEGORIES 2=%{z}<extra></extra>",
         "legendgroup": "90.6M�(=)",
         "marker": {
          "color": "#ab63fa",
          "symbol": "circle"
         },
         "mode": "markers",
         "name": "90.6M�(=)",
         "scene": "scene",
         "showlegend": true,
         "type": "scatter3d",
         "x": [
          "Beyonce"
         ],
         "y": [
          "celebrities"
         ],
         "z": [
          "musicians"
         ]
        },
        {
         "hovertemplate": "FOLLOWERS=89.3M�(=)<br>BRAND=%{x}<br>CATEGORIES 1=%{y}<br>CATEGORIES 2=%{z}<extra></extra>",
         "legendgroup": "89.3M�(=)",
         "marker": {
          "color": "#FFA15A",
          "symbol": "circle"
         },
         "mode": "markers",
         "name": "89.3M�(=)",
         "scene": "scene",
         "showlegend": true,
         "type": "scatter3d",
         "x": [
          "Kim Kardashian West"
         ],
         "y": [
          "celebrities"
         ],
         "z": [
          "tv"
         ]
        },
        {
         "hovertemplate": "FOLLOWERS=85.1M�(=)<br>BRAND=%{x}<br>CATEGORIES 1=%{y}<br>CATEGORIES 2=%{z}<extra></extra>",
         "legendgroup": "85.1M�(=)",
         "marker": {
          "color": "#19d3f3",
          "symbol": "circle"
         },
         "mode": "markers",
         "name": "85.1M�(=)",
         "scene": "scene",
         "showlegend": true,
         "type": "scatter3d",
         "x": [
          "Cristiano Ronaldo"
         ],
         "y": [
          "celebrities"
         ],
         "z": [
          "athletes"
         ]
        },
        {
         "hovertemplate": "FOLLOWERS=81.8M�(=)<br>BRAND=%{x}<br>CATEGORIES 1=%{y}<br>CATEGORIES 2=%{z}<extra></extra>",
         "legendgroup": "81.8M�(=)",
         "marker": {
          "color": "#FF6692",
          "symbol": "circle"
         },
         "mode": "markers",
         "name": "81.8M�(=)",
         "scene": "scene",
         "showlegend": true,
         "type": "scatter3d",
         "x": [
          "Kylie"
         ],
         "y": [
          "celebrities"
         ],
         "z": [
          "models"
         ]
        },
        {
         "hovertemplate": "FOLLOWERS=77.9M�(=)<br>BRAND=%{x}<br>CATEGORIES 1=%{y}<br>CATEGORIES 2=%{z}<extra></extra>",
         "legendgroup": "77.9M�(=)",
         "marker": {
          "color": "#B6E880",
          "symbol": "circle"
         },
         "mode": "markers",
         "name": "77.9M�(=)",
         "scene": "scene",
         "showlegend": true,
         "type": "scatter3d",
         "x": [
          "Justin Bieber"
         ],
         "y": [
          "celebrities"
         ],
         "z": [
          "musicians"
         ]
        },
        {
         "hovertemplate": "FOLLOWERS=73.3M�(=)<br>BRAND=%{x}<br>CATEGORIES 1=%{y}<br>CATEGORIES 2=%{z}<extra></extra>",
         "legendgroup": "73.3M�(=)",
         "marker": {
          "color": "#FF97FF",
          "symbol": "circle"
         },
         "mode": "markers",
         "name": "73.3M�(=)",
         "scene": "scene",
         "showlegend": true,
         "type": "scatter3d",
         "x": [
          "therock"
         ],
         "y": [
          "celebrities"
         ],
         "z": [
          "athletes"
         ]
        },
        {
         "hovertemplate": "FOLLOWERS=70.9M�(=)<br>BRAND=%{x}<br>CATEGORIES 1=%{y}<br>CATEGORIES 2=%{z}<extra></extra>",
         "legendgroup": "70.9M�(=)",
         "marker": {
          "color": "#FECB52",
          "symbol": "circle"
         },
         "mode": "markers",
         "name": "70.9M�(=)",
         "scene": "scene",
         "showlegend": true,
         "type": "scatter3d",
         "x": [
          "Kendall"
         ],
         "y": [
          "celebrities"
         ],
         "z": [
          "models"
         ]
        },
        {
         "hovertemplate": "FOLLOWERS=70.8M�(=)<br>BRAND=%{x}<br>CATEGORIES 1=%{y}<br>CATEGORIES 2=%{z}<extra></extra>",
         "legendgroup": "70.8M�(=)",
         "marker": {
          "color": "#636efa",
          "symbol": "circle"
         },
         "mode": "markers",
         "name": "70.8M�(=)",
         "scene": "scene",
         "showlegend": true,
         "type": "scatter3d",
         "x": [
          "Nicki Minaj"
         ],
         "y": [
          "celebrities"
         ],
         "z": [
          "musicians"
         ]
        },
        {
         "hovertemplate": "FOLLOWERS=68.2M�(=)<br>BRAND=%{x}<br>CATEGORIES 1=%{y}<br>CATEGORIES 2=%{z}<extra></extra>",
         "legendgroup": "68.2M�(=)",
         "marker": {
          "color": "#EF553B",
          "symbol": "circle"
         },
         "mode": "markers",
         "name": "68.2M�(=)",
         "scene": "scene",
         "showlegend": true,
         "type": "scatter3d",
         "x": [
          "nike"
         ],
         "y": [
          "fashion"
         ],
         "z": [
          "sport"
         ]
        },
        {
         "hovertemplate": "FOLLOWERS=65.8M�(=)<br>BRAND=%{x}<br>CATEGORIES 1=%{y}<br>CATEGORIES 2=%{z}<extra></extra>",
         "legendgroup": "65.8M�(=)",
         "marker": {
          "color": "#00cc96",
          "symbol": "circle"
         },
         "mode": "markers",
         "name": "65.8M�(=)",
         "scene": "scene",
         "showlegend": true,
         "type": "scatter3d",
         "x": [
          "National Geographic"
         ],
         "y": [
          "media"
         ],
         "z": [
          null
         ]
        },
        {
         "hovertemplate": "FOLLOWERS=64M�(=)<br>BRAND=%{x}<br>CATEGORIES 1=%{y}<br>CATEGORIES 2=%{z}<extra></extra>",
         "legendgroup": "64M�(=)",
         "marker": {
          "color": "#ab63fa",
          "symbol": "circle"
         },
         "mode": "markers",
         "name": "64M�(=)",
         "scene": "scene",
         "showlegend": true,
         "type": "scatter3d",
         "x": [
          "Nj"
         ],
         "y": [
          "celebrities"
         ],
         "z": [
          "athletes"
         ]
        },
        {
         "hovertemplate": "FOLLOWERS=61.9M�(=)<br>BRAND=%{x}<br>CATEGORIES 1=%{y}<br>CATEGORIES 2=%{z}<extra></extra>",
         "legendgroup": "61.9M�(=)",
         "marker": {
          "color": "#FFA15A",
          "symbol": "circle"
         },
         "mode": "markers",
         "name": "61.9M�(=)",
         "scene": "scene",
         "showlegend": true,
         "type": "scatter3d",
         "x": [
          "Leo Messi"
         ],
         "y": [
          "celebrities"
         ],
         "z": [
          "athletes"
         ]
        },
        {
         "hovertemplate": "FOLLOWERS=60.2M�(=)<br>BRAND=%{x}<br>CATEGORIES 1=%{y}<br>CATEGORIES 2=%{z}<extra></extra>",
         "legendgroup": "60.2M�(=)",
         "marker": {
          "color": "#19d3f3",
          "symbol": "circle"
         },
         "mode": "markers",
         "name": "60.2M�(=)",
         "scene": "scene",
         "showlegend": true,
         "type": "scatter3d",
         "x": [
          "Khloe"
         ],
         "y": [
          "celebrities"
         ],
         "z": [
          "tv"
         ]
        },
        {
         "hovertemplate": "FOLLOWERS=59.6M�(=)<br>BRAND=%{x}<br>CATEGORIES 1=%{y}<br>CATEGORIES 2=%{z}<extra></extra>",
         "legendgroup": "59.6M�(=)",
         "marker": {
          "color": "#FF6692",
          "symbol": "circle"
         },
         "mode": "markers",
         "name": "59.6M�(=)",
         "scene": "scene",
         "showlegend": true,
         "type": "scatter3d",
         "x": [
          "KATY PERRY"
         ],
         "y": [
          "celebrities"
         ],
         "z": [
          "musicians"
         ]
        },
        {
         "hovertemplate": "FOLLOWERS=57.8M�(=)<br>BRAND=%{x}<br>CATEGORIES 1=%{y}<br>CATEGORIES 2=%{z}<extra></extra>",
         "legendgroup": "57.8M�(=)",
         "marker": {
          "color": "#B6E880",
          "symbol": "circle"
         },
         "mode": "markers",
         "name": "57.8M�(=)",
         "scene": "scene",
         "showlegend": true,
         "type": "scatter3d",
         "x": [
          "Miley Cyrus"
         ],
         "y": [
          "celebrities"
         ],
         "z": [
          "musicians"
         ]
        },
        {
         "hovertemplate": "FOLLOWERS=55.1M�(=)<br>BRAND=%{x}<br>CATEGORIES 1=%{y}<br>CATEGORIES 2=%{z}<extra></extra>",
         "legendgroup": "55.1M�(=)",
         "marker": {
          "color": "#FF97FF",
          "symbol": "circle"
         },
         "mode": "markers",
         "name": "55.1M�(=)",
         "scene": "scene",
         "showlegend": true,
         "type": "scatter3d",
         "x": [
          "Jennifer Lopez"
         ],
         "y": [
          "celebrities"
         ],
         "z": [
          "musicians"
         ]
        },
        {
         "hovertemplate": "FOLLOWERS=51.3M�(=)<br>BRAND=%{x}<br>CATEGORIES 1=%{y}<br>CATEGORIES 2=%{z}<extra></extra>",
         "legendgroup": "51.3M�(=)",
         "marker": {
          "color": "#FECB52",
          "symbol": "circle"
         },
         "mode": "markers",
         "name": "51.3M�(=)",
         "scene": "scene",
         "showlegend": true,
         "type": "scatter3d",
         "x": [
          "Demi Lovato"
         ],
         "y": [
          "celebrities"
         ],
         "z": [
          "musicians"
         ]
        },
        {
         "hovertemplate": "FOLLOWERS=50.7M�(=)<br>BRAND=%{x}<br>CATEGORIES 1=%{y}<br>CATEGORIES 2=%{z}<extra></extra>",
         "legendgroup": "50.7M�(=)",
         "marker": {
          "color": "#636efa",
          "symbol": "circle"
         },
         "mode": "markers",
         "name": "50.7M�(=)",
         "scene": "scene",
         "showlegend": true,
         "type": "scatter3d",
         "x": [
          "Kourtney Kardashian"
         ],
         "y": [
          "celebrities"
         ],
         "z": [
          "tv"
         ]
        },
        {
         "hovertemplate": "FOLLOWERS=49.1M�(=)<br>BRAND=%{x}<br>CATEGORIES 1=%{y}<br>CATEGORIES 2=%{z}<extra></extra>",
         "legendgroup": "49.1M�(=)",
         "marker": {
          "color": "#EF553B",
          "symbol": "circle"
         },
         "mode": "markers",
         "name": "49.1M�(=)",
         "scene": "scene",
         "showlegend": true,
         "type": "scatter3d",
         "x": [
          "Victoria's Secret"
         ],
         "y": [
          "fashion"
         ],
         "z": [
          null
         ]
        },
        {
         "hovertemplate": "FOLLOWERS=47.3M�(=)<br>BRAND=%{x}<br>CATEGORIES 1=%{y}<br>CATEGORIES 2=%{z}<extra></extra>",
         "legendgroup": "47.3M�(=)",
         "marker": {
          "color": "#00cc96",
          "symbol": "circle"
         },
         "mode": "markers",
         "name": "47.3M�(=)",
         "scene": "scene",
         "showlegend": true,
         "type": "scatter3d",
         "x": [
          "badgalriri"
         ],
         "y": [
          "celebrities"
         ],
         "z": [
          "musicians"
         ]
        },
        {
         "hovertemplate": "FOLLOWERS=45.9M�(=)<br>BRAND=%{x}<br>CATEGORIES 1=%{y}<br>CATEGORIES 2=%{z}<extra></extra>",
         "legendgroup": "45.9M�(=)",
         "marker": {
          "color": "#ab63fa",
          "symbol": "circle"
         },
         "mode": "markers",
         "name": "45.9M�(=)",
         "scene": "scene",
         "showlegend": true,
         "type": "scatter3d",
         "x": [
          "Kevin Hart"
         ],
         "y": [
          "celebrities"
         ],
         "z": [
          "actors"
         ]
        },
        {
         "hovertemplate": "FOLLOWERS=43.3M�(=)<br>BRAND=%{x}<br>CATEGORIES 1=%{y}<br>CATEGORIES 2=%{z}<extra></extra>",
         "legendgroup": "43.3M�(=)",
         "marker": {
          "color": "#FFA15A",
          "symbol": "circle"
         },
         "mode": "markers",
         "name": "43.3M�(=)",
         "scene": "scene",
         "showlegend": true,
         "type": "scatter3d",
         "x": [
          "FC Barcelona"
         ],
         "y": [
          "sport"
         ],
         "z": [
          "football"
         ]
        },
        {
         "hovertemplate": "FOLLOWERS=41.8M�(=)<br>BRAND=%{x}<br>CATEGORIES 1=%{y}<br>CATEGORIES 2=%{z}<extra></extra>",
         "legendgroup": "41.8M�(=)",
         "marker": {
          "color": "#19d3f3",
          "symbol": "circle"
         },
         "mode": "markers",
         "name": "41.8M�(=)",
         "scene": "scene",
         "showlegend": true,
         "type": "scatter3d",
         "x": [
          "Real Madrid C.F."
         ],
         "y": [
          "sport"
         ],
         "z": [
          "football"
         ]
        },
        {
         "hovertemplate": "FOLLOWERS=39.6M�(=)<br>BRAND=%{x}<br>CATEGORIES 1=%{y}<br>CATEGORIES 2=%{z}<extra></extra>",
         "legendgroup": "39.6M�(=)",
         "marker": {
          "color": "#FF6692",
          "symbol": "circle"
         },
         "mode": "markers",
         "name": "39.6M�(=)",
         "scene": "scene",
         "showlegend": true,
         "type": "scatter3d",
         "x": [
          "Justin Timberlake"
         ],
         "y": [
          "celebrities"
         ],
         "z": [
          "musicians"
         ]
        },
        {
         "hovertemplate": "FOLLOWERS=38.2M�(=)<br>BRAND=%{x}<br>CATEGORIES 1=%{y}<br>CATEGORIES 2=%{z}<extra></extra>",
         "legendgroup": "38.2M�(=)",
         "marker": {
          "color": "#B6E880",
          "symbol": "circle"
         },
         "mode": "markers",
         "name": "38.2M�(=)",
         "scene": "scene",
         "showlegend": true,
         "type": "scatter3d",
         "x": [
          "Ellen"
         ],
         "y": [
          "celebrities"
         ],
         "z": [
          "tv"
         ]
        },
        {
         "hovertemplate": "FOLLOWERS=36.2M�(=)<br>BRAND=%{x}<br>CATEGORIES 1=%{y}<br>CATEGORIES 2=%{z}<extra></extra>",
         "legendgroup": "36.2M�(=)",
         "marker": {
          "color": "#FF97FF",
          "symbol": "circle"
         },
         "mode": "markers",
         "name": "36.2M�(=)",
         "scene": "scene",
         "showlegend": true,
         "type": "scatter3d",
         "x": [
          "Cara Delevingne"
         ],
         "y": [
          "celebrities"
         ],
         "z": [
          "models"
         ]
        },
        {
         "hovertemplate": "FOLLOWERS=36M�(=)<br>BRAND=%{x}<br>CATEGORIES 1=%{y}<br>CATEGORIES 2=%{z}<extra></extra>",
         "legendgroup": "36M�(=)",
         "marker": {
          "color": "#FECB52",
          "symbol": "circle"
         },
         "mode": "markers",
         "name": "36M�(=)",
         "scene": "scene",
         "showlegend": true,
         "type": "scatter3d",
         "x": [
          "Zendaya"
         ],
         "y": [
          "celebrities"
         ],
         "z": [
          "musicians"
         ]
        },
        {
         "hovertemplate": "FOLLOWERS=35M�(=)<br>BRAND=%{x}<br>CATEGORIES 1=%{y}<br>CATEGORIES 2=%{z}<extra></extra>",
         "legendgroup": "35M�(=)",
         "marker": {
          "color": "#636efa",
          "symbol": "circle"
         },
         "mode": "markers",
         "name": "35M�(=)",
         "scene": "scene",
         "showlegend": true,
         "type": "scatter3d",
         "x": [
          "9gag"
         ],
         "y": [
          "entertainment"
         ],
         "z": [
          null
         ]
        },
        {
         "hovertemplate": "FOLLOWERS=31.7M�(=)<br>BRAND=%{x}<br>CATEGORIES 1=%{y}<br>CATEGORIES 2=%{z}<extra></extra>",
         "legendgroup": "31.7M�(=)",
         "marker": {
          "color": "#EF553B",
          "symbol": "circle"
         },
         "mode": "markers",
         "name": "31.7M�(=)",
         "scene": "scene",
         "showlegend": true,
         "type": "scatter3d",
         "x": [
          "David Beckham"
         ],
         "y": [
          "celebrities"
         ],
         "z": [
          "athletes"
         ]
        },
        {
         "hovertemplate": "FOLLOWERS=31.1M�(=)<br>BRAND=%{x}<br>CATEGORIES 1=%{y}<br>CATEGORIES 2=%{z}<extra></extra>",
         "legendgroup": "31.1M�(=)",
         "marker": {
          "color": "#00cc96",
          "symbol": "circle"
         },
         "mode": "markers",
         "name": "31.1M�(=)",
         "scene": "scene",
         "showlegend": true,
         "type": "scatter3d",
         "x": [
          "champagnepapi"
         ],
         "y": [
          "celebrities"
         ],
         "z": [
          "musicians"
         ]
        },
        {
         "hovertemplate": "FOLLOWERS=30.2M�(=)<br>BRAND=%{x}<br>CATEGORIES 1=%{y}<br>CATEGORIES 2=%{z}<extra></extra>",
         "legendgroup": "30.2M�(=)",
         "marker": {
          "color": "#ab63fa",
          "symbol": "circle"
         },
         "mode": "markers",
         "name": "30.2M�(=)",
         "scene": "scene",
         "showlegend": true,
         "type": "scatter3d",
         "x": [
          "Vin Diesel"
         ],
         "y": [
          "celebrities"
         ],
         "z": [
          "actors"
         ]
        },
        {
         "hovertemplate": "FOLLOWERS=28.4M�(=)<br>BRAND=%{x}<br>CATEGORIES 1=%{y}<br>CATEGORIES 2=%{z}<extra></extra>",
         "legendgroup": "28.4M�(=)",
         "marker": {
          "color": "#FFA15A",
          "symbol": "circle"
         },
         "mode": "markers",
         "name": "28.4M�(=)",
         "scene": "scene",
         "showlegend": true,
         "type": "scatter3d",
         "x": [
          "Shakira"
         ],
         "y": [
          "celebrities"
         ],
         "z": [
          "musicians"
         ]
        },
        {
         "hovertemplate": "FOLLOWERS=27.8M�(=)<br>BRAND=%{x}<br>CATEGORIES 1=%{y}<br>CATEGORIES 2=%{z}<extra></extra>",
         "legendgroup": "27.8M�(=)",
         "marker": {
          "color": "#19d3f3",
          "symbol": "circle"
         },
         "mode": "markers",
         "name": "27.8M�(=)",
         "scene": "scene",
         "showlegend": true,
         "type": "scatter3d",
         "x": [
          "James Rodr�guez"
         ],
         "y": [
          "celebrities"
         ],
         "z": [
          "athletes"
         ]
        },
        {
         "hovertemplate": "FOLLOWERS=27.2M�(=)<br>BRAND=%{x}<br>CATEGORIES 1=%{y}<br>CATEGORIES 2=%{z}<extra></extra>",
         "legendgroup": "27.2M�(=)",
         "marker": {
          "color": "#FF6692",
          "symbol": "circle"
         },
         "mode": "markers",
         "name": "27.2M�(=)",
         "scene": "scene",
         "showlegend": true,
         "type": "scatter3d",
         "x": [
          "Gigi Hadid"
         ],
         "y": [
          "celebrities"
         ],
         "z": [
          "models"
         ]
        },
        {
         "hovertemplate": "FOLLOWERS=27M�(=)<br>BRAND=%{x}<br>CATEGORIES 1=%{y}<br>CATEGORIES 2=%{z}<extra></extra>",
         "legendgroup": "27M�(=)",
         "marker": {
          "color": "#B6E880",
          "symbol": "circle"
         },
         "mode": "markers",
         "name": "27M�(=)",
         "scene": "scene",
         "showlegend": true,
         "type": "scatter3d",
         "x": [
          "LeBron James"
         ],
         "y": [
          "celebrities"
         ],
         "z": [
          "athletes"
         ]
        },
        {
         "hovertemplate": "FOLLOWERS=25.3M�(=)<br>BRAND=%{x}<br>CATEGORIES 1=%{y}<br>CATEGORIES 2=%{z}<extra></extra>",
         "legendgroup": "25.3M�(=)",
         "marker": {
          "color": "#FF97FF",
          "symbol": "circle"
         },
         "mode": "markers",
         "name": "25.3M�(=)",
         "scene": "scene",
         "showlegend": true,
         "type": "scatter3d",
         "x": [
          "Gareth Bale"
         ],
         "y": [
          "celebrities"
         ],
         "z": [
          "athletes"
         ]
        },
        {
         "hovertemplate": "FOLLOWERS=25M�(=)<br>BRAND=%{x}<br>CATEGORIES 1=%{y}<br>CATEGORIES 2=%{z}<extra></extra>",
         "legendgroup": "25M�(=)",
         "marker": {
          "color": "#FECB52",
          "symbol": "circle"
         },
         "mode": "markers",
         "name": "25M�(=)",
         "scene": "scene",
         "showlegend": true,
         "type": "scatter3d",
         "x": [
          "Nike Football (Soccer)"
         ],
         "y": [
          "fashion"
         ],
         "z": [
          "sport"
         ]
        },
        {
         "hovertemplate": "FOLLOWERS=23.8M�(=)<br>BRAND=%{x}<br>CATEGORIES 1=%{y}<br>CATEGORIES 2=%{z}<extra></extra>",
         "legendgroup": "23.8M�(=)",
         "marker": {
          "color": "#636efa",
          "symbol": "circle"
         },
         "mode": "markers",
         "name": "23.8M�(=)",
         "scene": "scene",
         "showlegend": true,
         "type": "scatter3d",
         "x": [
          "Zac Efron"
         ],
         "y": [
          "celebrities"
         ],
         "z": [
          "actors"
         ]
        },
        {
         "hovertemplate": "FOLLOWERS=22.7M�(=)<br>BRAND=%{x}<br>CATEGORIES 1=%{y}<br>CATEGORIES 2=%{z}<extra></extra>",
         "legendgroup": "22.7M�(=)",
         "marker": {
          "color": "#EF553B",
          "symbol": "circle"
         },
         "mode": "markers",
         "name": "22.7M�(=)",
         "scene": "scene",
         "showlegend": true,
         "type": "scatter3d",
         "x": [
          "Vanessa Hudgens"
         ],
         "y": [
          "celebrities"
         ],
         "z": [
          "actors"
         ]
        },
        {
         "hovertemplate": "FOLLOWERS=21.7M�(=)<br>BRAND=%{x}<br>CATEGORIES 1=%{y}<br>CATEGORIES 2=%{z}<extra></extra>",
         "legendgroup": "21.7M�(=)",
         "marker": {
          "color": "#00cc96",
          "symbol": "circle"
         },
         "mode": "markers",
         "name": "21.7M�(=)",
         "scene": "scene",
         "showlegend": true,
         "type": "scatter3d",
         "x": [
          "IAmZlatan"
         ],
         "y": [
          "celebrities"
         ],
         "z": [
          "athletes"
         ]
        },
        {
         "hovertemplate": "FOLLOWERS=21.4M�(=)<br>BRAND=%{x}<br>CATEGORIES 1=%{y}<br>CATEGORIES 2=%{z}<extra></extra>",
         "legendgroup": "21.4M�(=)",
         "marker": {
          "color": "#ab63fa",
          "symbol": "circle"
         },
         "mode": "markers",
         "name": "21.4M�(=)",
         "scene": "scene",
         "showlegend": true,
         "type": "scatter3d",
         "x": [
          "Emma Watson"
         ],
         "y": [
          "celebrities"
         ],
         "z": [
          "actors"
         ]
        },
        {
         "hovertemplate": "FOLLOWERS=20.4M�(=)<br>BRAND=%{x}<br>CATEGORIES 1=%{y}<br>CATEGORIES 2=%{z}<extra></extra>",
         "legendgroup": "20.4M�(=)",
         "marker": {
          "color": "#FFA15A",
          "symbol": "circle"
         },
         "mode": "markers",
         "name": "20.4M�(=)",
         "scene": "scene",
         "showlegend": true,
         "type": "scatter3d",
         "x": [
          "xoxo, Joanne"
         ],
         "y": [
          "celebrities"
         ],
         "z": [
          "musicians"
         ]
        },
        {
         "hovertemplate": "FOLLOWERS=20.1M�(=)<br>BRAND=%{x}<br>CATEGORIES 1=%{y}<br>CATEGORIES 2=%{z}<extra></extra>",
         "legendgroup": "20.1M�(=)",
         "marker": {
          "color": "#19d3f3",
          "symbol": "circle"
         },
         "mode": "markers",
         "name": "20.1M�(=)",
         "scene": "scene",
         "showlegend": true,
         "type": "scatter3d",
         "x": [
          "NBA"
         ],
         "y": [
          "sport"
         ],
         "z": [
          "basketball"
         ]
        },
        {
         "hovertemplate": "FOLLOWERS=19.4M�(=)<br>BRAND=%{x}<br>CATEGORIES 1=%{y}<br>CATEGORIES 2=%{z}<extra></extra>",
         "legendgroup": "19.4M�(=)",
         "marker": {
          "color": "#FF6692",
          "symbol": "circle"
         },
         "mode": "markers",
         "name": "19.4M�(=)",
         "scene": "scene",
         "showlegend": true,
         "type": "scatter3d",
         "x": [
          "harrystyles"
         ],
         "y": [
          "celebrities"
         ],
         "z": [
          "musicians"
         ]
        },
        {
         "hovertemplate": "FOLLOWERS=18.7M�(=)<br>BRAND=%{x}<br>CATEGORIES 1=%{y}<br>CATEGORIES 2=%{z}<extra></extra>",
         "legendgroup": "18.7M�(=)",
         "marker": {
          "color": "#B6E880",
          "symbol": "circle"
         },
         "mode": "markers",
         "name": "18.7M�(=)",
         "scene": "scene",
         "showlegend": true,
         "type": "scatter3d",
         "x": [
          "Scott Disick",
          "Luis Suarez"
         ],
         "y": [
          "celebrities",
          "celebrities"
         ],
         "z": [
          "tv",
          "athletes"
         ]
        },
        {
         "hovertemplate": "FOLLOWERS=18.3M�(=)<br>BRAND=%{x}<br>CATEGORIES 1=%{y}<br>CATEGORIES 2=%{z}<extra></extra>",
         "legendgroup": "18.3M�(=)",
         "marker": {
          "color": "#FF97FF",
          "symbol": "circle"
         },
         "mode": "markers",
         "name": "18.3M�(=)",
         "scene": "scene",
         "showlegend": true,
         "type": "scatter3d",
         "x": [
          "Niall Horan"
         ],
         "y": [
          "celebrities"
         ],
         "z": [
          "musicians"
         ]
        },
        {
         "hovertemplate": "FOLLOWERS=18.2M�(=)<br>BRAND=%{x}<br>CATEGORIES 1=%{y}<br>CATEGORIES 2=%{z}<extra></extra>",
         "legendgroup": "18.2M�(=)",
         "marker": {
          "color": "#FECB52",
          "symbol": "circle"
         },
         "mode": "markers",
         "name": "18.2M�(=)",
         "scene": "scene",
         "showlegend": true,
         "type": "scatter3d",
         "x": [
          "NASA"
         ],
         "y": [
          "other"
         ],
         "z": [
          null
         ]
        },
        {
         "hovertemplate": "FOLLOWERS=18.1M�(=)<br>BRAND=%{x}<br>CATEGORIES 1=%{y}<br>CATEGORIES 2=%{z}<extra></extra>",
         "legendgroup": "18.1M�(=)",
         "marker": {
          "color": "#636efa",
          "symbol": "circle"
         },
         "mode": "markers",
         "name": "18.1M�(=)",
         "scene": "scene",
         "showlegend": true,
         "type": "scatter3d",
         "x": [
          "H&M"
         ],
         "y": [
          "fashion"
         ],
         "z": [
          "retail"
         ]
        },
        {
         "hovertemplate": "FOLLOWERS=17.7M�(=)<br>BRAND=%{x}<br>CATEGORIES 1=%{y}<br>CATEGORIES 2=%{z}<extra></extra>",
         "legendgroup": "17.7M�(=)",
         "marker": {
          "color": "#EF553B",
          "symbol": "circle"
         },
         "mode": "markers",
         "name": "17.7M�(=)",
         "scene": "scene",
         "showlegend": true,
         "type": "scatter3d",
         "x": [
          "Bruna Marquezine _"
         ],
         "y": [
          "celebrities"
         ],
         "z": [
          "models"
         ]
        },
        {
         "hovertemplate": "FOLLOWERS=17.2M�(=)<br>BRAND=%{x}<br>CATEGORIES 1=%{y}<br>CATEGORIES 2=%{z}<extra></extra>",
         "legendgroup": "17.2M�(=)",
         "marker": {
          "color": "#00cc96",
          "symbol": "circle"
         },
         "mode": "markers",
         "name": "17.2M�(=)",
         "scene": "scene",
         "showlegend": true,
         "type": "scatter3d",
         "x": [
          "One Direction"
         ],
         "y": [
          "celebrities"
         ],
         "z": [
          "musicians"
         ]
        },
        {
         "hovertemplate": "FOLLOWERS=17.1M�(=)<br>BRAND=%{x}<br>CATEGORIES 1=%{y}<br>CATEGORIES 2=%{z}<extra></extra>",
         "legendgroup": "17.1M�(=)",
         "marker": {
          "color": "#ab63fa",
          "symbol": "circle"
         },
         "mode": "markers",
         "name": "17.1M�(=)",
         "scene": "scene",
         "showlegend": true,
         "type": "scatter3d",
         "x": [
          "CHANEL"
         ],
         "y": [
          "fashion"
         ],
         "z": [
          "luxury"
         ]
        },
        {
         "hovertemplate": "FOLLOWERS=16.9M�(=)<br>BRAND=%{x}<br>CATEGORIES 1=%{y}<br>CATEGORIES 2=%{z}<extra></extra>",
         "legendgroup": "16.9M�(=)",
         "marker": {
          "color": "#FFA15A",
          "symbol": "circle"
         },
         "mode": "markers",
         "name": "16.9M�(=)",
         "scene": "scene",
         "showlegend": true,
         "type": "scatter3d",
         "x": [
          "Shawn Mendes"
         ],
         "y": [
          "celebrities"
         ],
         "z": [
          "musicians"
         ]
        },
        {
         "hovertemplate": "FOLLOWERS=16.6M�(=)<br>BRAND=%{x}<br>CATEGORIES 1=%{y}<br>CATEGORIES 2=%{z}<extra></extra>",
         "legendgroup": "16.6M�(=)",
         "marker": {
          "color": "#19d3f3",
          "symbol": "circle"
         },
         "mode": "markers",
         "name": "16.6M�(=)",
         "scene": "scene",
         "showlegend": true,
         "type": "scatter3d",
         "x": [
          "Lucy Hale",
          "euanitta"
         ],
         "y": [
          "celebrities",
          "celebrities"
         ],
         "z": [
          "actors",
          "musicians"
         ]
        },
        {
         "hovertemplate": "FOLLOWERS=16.5M�(=)<br>BRAND=%{x}<br>CATEGORIES 1=%{y}<br>CATEGORIES 2=%{z}<extra></extra>",
         "legendgroup": "16.5M�(=)",
         "marker": {
          "color": "#FF6692",
          "symbol": "circle"
         },
         "mode": "markers",
         "name": "16.5M�(=)",
         "scene": "scene",
         "showlegend": true,
         "type": "scatter3d",
         "x": [
          "Karim Benzema"
         ],
         "y": [
          "celebrities"
         ],
         "z": [
          "athletes"
         ]
        },
        {
         "hovertemplate": "FOLLOWERS=16.4M�(=)<br>BRAND=%{x}<br>CATEGORIES 1=%{y}<br>CATEGORIES 2=%{z}<extra></extra>",
         "legendgroup": "16.4M�(=)",
         "marker": {
          "color": "#B6E880",
          "symbol": "circle"
         },
         "mode": "markers",
         "name": "16.4M�(=)",
         "scene": "scene",
         "showlegend": true,
         "type": "scatter3d",
         "x": [
          "Marina Ruy Barbosa"
         ],
         "y": [
          "celebrities"
         ],
         "z": [
          "actors"
         ]
        },
        {
         "hovertemplate": "FOLLOWERS=16.3M�(=)<br>BRAND=%{x}<br>CATEGORIES 1=%{y}<br>CATEGORIES 2=%{z}<extra></extra>",
         "legendgroup": "16.3M�(=)",
         "marker": {
          "color": "#FF97FF",
          "symbol": "circle"
         },
         "mode": "markers",
         "name": "16.3M�(=)",
         "scene": "scene",
         "showlegend": true,
         "type": "scatter3d",
         "x": [
          "adidas Originals"
         ],
         "y": [
          "fashion"
         ],
         "z": [
          "sport"
         ]
        },
        {
         "hovertemplate": "FOLLOWERS=15.4M�(=)<br>BRAND=%{x}<br>CATEGORIES 1=%{y}<br>CATEGORIES 2=%{z}<extra></extra>",
         "legendgroup": "15.4M�(=)",
         "marker": {
          "color": "#FECB52",
          "symbol": "circle"
         },
         "mode": "markers",
         "name": "15.4M�(=)",
         "scene": "scene",
         "showlegend": true,
         "type": "scatter3d",
         "x": [
          "David Luiz"
         ],
         "y": [
          "celebrities"
         ],
         "z": [
          "athletes"
         ]
        },
        {
         "hovertemplate": "FOLLOWERS=15.3M�(=)<br>BRAND=%{x}<br>CATEGORIES 1=%{y}<br>CATEGORIES 2=%{z}<extra></extra>",
         "legendgroup": "15.3M�(=)",
         "marker": {
          "color": "#636efa",
          "symbol": "circle"
         },
         "mode": "markers",
         "name": "15.3M�(=)",
         "scene": "scene",
         "showlegend": true,
         "type": "scatter3d",
         "x": [
          "Andres Iniesta"
         ],
         "y": [
          "celebrities"
         ],
         "z": [
          "athletes"
         ]
        },
        {
         "hovertemplate": "FOLLOWERS=15.2M�(=)<br>BRAND=%{x}<br>CATEGORIES 1=%{y}<br>CATEGORIES 2=%{z}<extra></extra>",
         "legendgroup": "15.2M�(=)",
         "marker": {
          "color": "#EF553B",
          "symbol": "circle"
         },
         "mode": "markers",
         "name": "15.2M�(=)",
         "scene": "scene",
         "showlegend": true,
         "type": "scatter3d",
         "x": [
          "Ashley Benson",
          "ZARA Official"
         ],
         "y": [
          "celebrities",
          "fashion"
         ],
         "z": [
          "actors",
          "retail"
         ]
        },
        {
         "hovertemplate": "FOLLOWERS=15.1M�(=)<br>BRAND=%{x}<br>CATEGORIES 1=%{y}<br>CATEGORIES 2=%{z}<extra></extra>",
         "legendgroup": "15.1M�(=)",
         "marker": {
          "color": "#00cc96",
          "symbol": "circle"
         },
         "mode": "markers",
         "name": "15.1M�(=)",
         "scene": "scene",
         "showlegend": true,
         "type": "scatter3d",
         "x": [
          "Manchester United"
         ],
         "y": [
          "sport"
         ],
         "z": [
          "football"
         ]
        },
        {
         "hovertemplate": "FOLLOWERS=15M�(=)<br>BRAND=%{x}<br>CATEGORIES 1=%{y}<br>CATEGORIES 2=%{z}<extra></extra>",
         "legendgroup": "15M�(=)",
         "marker": {
          "color": "#ab63fa",
          "symbol": "circle"
         },
         "mode": "markers",
         "name": "15M�(=)",
         "scene": "scene",
         "showlegend": true,
         "type": "scatter3d",
         "x": [
          "Shay Mitchell"
         ],
         "y": [
          "celebrities"
         ],
         "z": [
          "actors"
         ]
        },
        {
         "hovertemplate": "FOLLOWERS=14.7M�(=)<br>BRAND=%{x}<br>CATEGORIES 1=%{y}<br>CATEGORIES 2=%{z}<extra></extra>",
         "legendgroup": "14.7M�(=)",
         "marker": {
          "color": "#FFA15A",
          "symbol": "circle"
         },
         "mode": "markers",
         "name": "14.7M�(=)",
         "scene": "scene",
         "showlegend": true,
         "type": "scatter3d",
         "x": [
          "Marcelo Vieira Jr."
         ],
         "y": [
          "celebrities"
         ],
         "z": [
          "athletes"
         ]
        },
        {
         "hovertemplate": "FOLLOWERS=14.6M�(=)<br>BRAND=%{x}<br>CATEGORIES 1=%{y}<br>CATEGORIES 2=%{z}<extra></extra>",
         "legendgroup": "14.6M�(=)",
         "marker": {
          "color": "#19d3f3",
          "symbol": "circle"
         },
         "mode": "markers",
         "name": "14.6M�(=)",
         "scene": "scene",
         "showlegend": true,
         "type": "scatter3d",
         "x": [
          "BELLA",
          "Ciara"
         ],
         "y": [
          "celebrities",
          "celebrities"
         ],
         "z": [
          "media",
          "musicians"
         ]
        },
        {
         "hovertemplate": "FOLLOWERS=14.5M�(=)<br>BRAND=%{x}<br>CATEGORIES 1=%{y}<br>CATEGORIES 2=%{z}<extra></extra>",
         "legendgroup": "14.5M�(=)",
         "marker": {
          "color": "#FF6692",
          "symbol": "circle"
         },
         "mode": "markers",
         "name": "14.5M�(=)",
         "scene": "scene",
         "showlegend": true,
         "type": "scatter3d",
         "x": [
          "Britney Spears"
         ],
         "y": [
          "celebrities"
         ],
         "z": [
          "musicians"
         ]
        },
        {
         "hovertemplate": "FOLLOWERS=14.3M�(=)<br>BRAND=%{x}<br>CATEGORIES 1=%{y}<br>CATEGORIES 2=%{z}<extra></extra>",
         "legendgroup": "14.3M�(=)",
         "marker": {
          "color": "#B6E880",
          "symbol": "circle"
         },
         "mode": "markers",
         "name": "14.3M�(=)",
         "scene": "scene",
         "showlegend": true,
         "type": "scatter3d",
         "x": [
          "National Geographic Travel"
         ],
         "y": [
          "media"
         ],
         "z": [
          null
         ]
        },
        {
         "hovertemplate": "FOLLOWERS=14.2M�(=)<br>BRAND=%{x}<br>CATEGORIES 1=%{y}<br>CATEGORIES 2=%{z}<extra></extra>",
         "legendgroup": "14.2M�(=)",
         "marker": {
          "color": "#FF97FF",
          "symbol": "circle"
         },
         "mode": "markers",
         "name": "14.2M�(=)",
         "scene": "scene",
         "showlegend": true,
         "type": "scatter3d",
         "x": [
          "Louis Vuitton Official"
         ],
         "y": [
          "fashion"
         ],
         "z": [
          "luxury"
         ]
        },
        {
         "hovertemplate": "FOLLOWERS=14M�(=)<br>BRAND=%{x}<br>CATEGORIES 1=%{y}<br>CATEGORIES 2=%{z}<extra></extra>",
         "legendgroup": "14M�(=)",
         "marker": {
          "color": "#FECB52",
          "symbol": "circle"
         },
         "mode": "markers",
         "name": "14M�(=)",
         "scene": "scene",
         "showlegend": true,
         "type": "scatter3d",
         "x": [
          "snoopdogg",
          "Floyd Mayweather"
         ],
         "y": [
          "celebrities",
          "celebrities"
         ],
         "z": [
          "musicians",
          "athletes"
         ]
        },
        {
         "hovertemplate": "FOLLOWERS=13.7M�(=)<br>BRAND=%{x}<br>CATEGORIES 1=%{y}<br>CATEGORIES 2=%{z}<extra></extra>",
         "legendgroup": "13.7M�(=)",
         "marker": {
          "color": "#636efa",
          "symbol": "circle"
         },
         "mode": "markers",
         "name": "13.7M�(=)",
         "scene": "scene",
         "showlegend": true,
         "type": "scatter3d",
         "x": [
          "Vogue",
          "Sergio Ramos"
         ],
         "y": [
          "media",
          "celebrities"
         ],
         "z": [
          null,
          "athletes"
         ]
        },
        {
         "hovertemplate": "FOLLOWERS=13.6M�(=)<br>BRAND=%{x}<br>CATEGORIES 1=%{y}<br>CATEGORIES 2=%{z}<extra></extra>",
         "legendgroup": "13.6M�(=)",
         "marker": {
          "color": "#EF553B",
          "symbol": "circle"
         },
         "mode": "markers",
         "name": "13.6M�(=)",
         "scene": "scene",
         "showlegend": true,
         "type": "scatter3d",
         "x": [
          "Tata Werneck"
         ],
         "y": [
          "celebrities"
         ],
         "z": [
          "tv"
         ]
        },
        {
         "hovertemplate": "FOLLOWERS=13.3M�(=)<br>BRAND=%{x}<br>CATEGORIES 1=%{y}<br>CATEGORIES 2=%{z}<extra></extra>",
         "legendgroup": "13.3M�(=)",
         "marker": {
          "color": "#00cc96",
          "symbol": "circle"
         },
         "mode": "markers",
         "name": "13.3M�(=)",
         "scene": "scene",
         "showlegend": true,
         "type": "scatter3d",
         "x": [
          "Daddy Yankee",
          "Victoria Beckham"
         ],
         "y": [
          "celebrities",
          "celebrities"
         ],
         "z": [
          "musicians",
          "entrepreneurs"
         ]
        },
        {
         "hovertemplate": "FOLLOWERS=13.1M�(=)<br>BRAND=%{x}<br>CATEGORIES 1=%{y}<br>CATEGORIES 2=%{z}<extra></extra>",
         "legendgroup": "13.1M�(=)",
         "marker": {
          "color": "#ab63fa",
          "symbol": "circle"
         },
         "mode": "markers",
         "name": "13.1M�(=)",
         "scene": "scene",
         "showlegend": true,
         "type": "scatter3d",
         "x": [
          "Dior Official"
         ],
         "y": [
          "fashion"
         ],
         "z": [
          "luxury"
         ]
        },
        {
         "hovertemplate": "FOLLOWERS=13M�(=)<br>BRAND=%{x}<br>CATEGORIES 1=%{y}<br>CATEGORIES 2=%{z}<extra></extra>",
         "legendgroup": "13M�(=)",
         "marker": {
          "color": "#FFA15A",
          "symbol": "circle"
         },
         "mode": "markers",
         "name": "13M�(=)",
         "scene": "scene",
         "showlegend": true,
         "type": "scatter3d",
         "x": [
          "M�A�C Cosmetics",
          "Channing Tatum"
         ],
         "y": [
          "beauty",
          "celebrities"
         ],
         "z": [
          "retail",
          "actors"
         ]
        },
        {
         "hovertemplate": "FOLLOWERS=12.9M�(+1)<br>BRAND=%{x}<br>CATEGORIES 1=%{y}<br>CATEGORIES 2=%{z}<extra></extra>",
         "legendgroup": "12.9M�(+1)",
         "marker": {
          "color": "#19d3f3",
          "symbol": "circle"
         },
         "mode": "markers",
         "name": "12.9M�(+1)",
         "scene": "scene",
         "showlegend": true,
         "type": "scatter3d",
         "x": [
          "Robert Downey Jr."
         ],
         "y": [
          "celebrities"
         ],
         "z": [
          "tv"
         ]
        },
        {
         "hovertemplate": "FOLLOWERS=12.9M�(-1)<br>BRAND=%{x}<br>CATEGORIES 1=%{y}<br>CATEGORIES 2=%{z}<extra></extra>",
         "legendgroup": "12.9M�(-1)",
         "marker": {
          "color": "#FF6692",
          "symbol": "circle"
         },
         "mode": "markers",
         "name": "12.9M�(-1)",
         "scene": "scene",
         "showlegend": true,
         "type": "scatter3d",
         "x": [
          "elliegoulding"
         ],
         "y": [
          "celebrities"
         ],
         "z": [
          "musicians"
         ]
        },
        {
         "hovertemplate": "FOLLOWERS=12.9M�(=)<br>BRAND=%{x}<br>CATEGORIES 1=%{y}<br>CATEGORIES 2=%{z}<extra></extra>",
         "legendgroup": "12.9M�(=)",
         "marker": {
          "color": "#B6E880",
          "symbol": "circle"
         },
         "mode": "markers",
         "name": "12.9M�(=)",
         "scene": "scene",
         "showlegend": true,
         "type": "scatter3d",
         "x": [
          "50 Cent"
         ],
         "y": [
          "celebrities"
         ],
         "z": [
          "musicians"
         ]
        },
        {
         "hovertemplate": "FOLLOWERS=12.6M�(=)<br>BRAND=%{x}<br>CATEGORIES 1=%{y}<br>CATEGORIES 2=%{z}<extra></extra>",
         "legendgroup": "12.6M�(=)",
         "marker": {
          "color": "#FF97FF",
          "symbol": "circle"
         },
         "mode": "markers",
         "name": "12.6M�(=)",
         "scene": "scene",
         "showlegend": true,
         "type": "scatter3d",
         "x": [
          "Starbucks Coffee"
         ],
         "y": [
          "beverages"
         ],
         "z": [
          null
         ]
        },
        {
         "hovertemplate": "FOLLOWERS=12.3M�(=)<br>BRAND=%{x}<br>CATEGORIES 1=%{y}<br>CATEGORIES 2=%{z}<extra></extra>",
         "legendgroup": "12.3M�(=)",
         "marker": {
          "color": "#FECB52",
          "symbol": "circle"
         },
         "mode": "markers",
         "name": "12.3M�(=)",
         "scene": "scene",
         "showlegend": true,
         "type": "scatter3d",
         "x": [
          "Anastasia Beverly Hills"
         ],
         "y": [
          "beauty"
         ],
         "z": [
          null
         ]
        },
        {
         "hovertemplate": "FOLLOWERS=12.2M�(=)<br>BRAND=%{x}<br>CATEGORIES 1=%{y}<br>CATEGORIES 2=%{z}<extra></extra>",
         "legendgroup": "12.2M�(=)",
         "marker": {
          "color": "#636efa",
          "symbol": "circle"
         },
         "mode": "markers",
         "name": "12.2M�(=)",
         "scene": "scene",
         "showlegend": true,
         "type": "scatter3d",
         "x": [
          "Luan Santana",
          "Chloe Grace Moretz"
         ],
         "y": [
          "celebrities",
          "celebrities"
         ],
         "z": [
          "musicians",
          "actors"
         ]
        },
        {
         "hovertemplate": "FOLLOWERS=12.1M�(=)<br>BRAND=%{x}<br>CATEGORIES 1=%{y}<br>CATEGORIES 2=%{z}<extra></extra>",
         "legendgroup": "12.1M�(=)",
         "marker": {
          "color": "#EF553B",
          "symbol": "circle"
         },
         "mode": "markers",
         "name": "12.1M�(=)",
         "scene": "scene",
         "showlegend": true,
         "type": "scatter3d",
         "x": [
          "adidas",
          "forever21"
         ],
         "y": [
          "fashion",
          "fashion"
         ],
         "z": [
          "sport",
          null
         ]
        },
        {
         "hovertemplate": "FOLLOWERS=12M�(=)<br>BRAND=%{x}<br>CATEGORIES 1=%{y}<br>CATEGORIES 2=%{z}<extra></extra>",
         "legendgroup": "12M�(=)",
         "marker": {
          "color": "#00cc96",
          "symbol": "circle"
         },
         "mode": "markers",
         "name": "12M�(=)",
         "scene": "scene",
         "showlegend": true,
         "type": "scatter3d",
         "x": [
          "Gucci"
         ],
         "y": [
          "fashion"
         ],
         "z": [
          "luxury"
         ]
        },
        {
         "hovertemplate": "FOLLOWERS=11.8M�(=)<br>BRAND=%{x}<br>CATEGORIES 1=%{y}<br>CATEGORIES 2=%{z}<extra></extra>",
         "legendgroup": "11.8M�(=)",
         "marker": {
          "color": "#ab63fa",
          "symbol": "circle"
         },
         "mode": "markers",
         "name": "11.8M�(=)",
         "scene": "scene",
         "showlegend": true,
         "type": "scatter3d",
         "x": [
          "Louis Tomlinson",
          "G-DRAGON"
         ],
         "y": [
          "celebrities",
          "celebrities"
         ],
         "z": [
          "musicians",
          "fashion"
         ]
        },
        {
         "hovertemplate": "FOLLOWERS=11.7M�(=)<br>BRAND=%{x}<br>CATEGORIES 1=%{y}<br>CATEGORIES 2=%{z}<extra></extra>",
         "legendgroup": "11.7M�(=)",
         "marker": {
          "color": "#FFA15A",
          "symbol": "circle"
         },
         "mode": "markers",
         "name": "11.7M�(=)",
         "scene": "scene",
         "showlegend": true,
         "type": "scatter3d",
         "x": [
          "DanialvesD2 My Twitter",
          "Dolce & Gabbana"
         ],
         "y": [
          "celebrities",
          "fashion"
         ],
         "z": [
          "athletes",
          "luxury"
         ]
        },
        {
         "hovertemplate": "FOLLOWERS=11.6M�(=)<br>BRAND=%{x}<br>CATEGORIES 1=%{y}<br>CATEGORIES 2=%{z}<extra></extra>",
         "legendgroup": "11.6M�(=)",
         "marker": {
          "color": "#19d3f3",
          "symbol": "circle"
         },
         "mode": "markers",
         "name": "11.6M�(=)",
         "scene": "scene",
         "showlegend": true,
         "type": "scatter3d",
         "x": [
          "Tyga / T-Raww"
         ],
         "y": [
          "celebrities"
         ],
         "z": [
          "musicians"
         ]
        },
        {
         "hovertemplate": "FOLLOWERS=11.5M�(=)<br>BRAND=%{x}<br>CATEGORIES 1=%{y}<br>CATEGORIES 2=%{z}<extra></extra>",
         "legendgroup": "11.5M�(=)",
         "marker": {
          "color": "#FF6692",
          "symbol": "circle"
         },
         "mode": "markers",
         "name": "11.5M�(=)",
         "scene": "scene",
         "showlegend": true,
         "type": "scatter3d",
         "x": [
          "Paul Labile Pogba",
          "Barack Obama"
         ],
         "y": [
          "celebrities",
          "celebrities"
         ],
         "z": [
          "athletes",
          "political"
         ]
        }
       ],
       "layout": {
        "height": 700,
        "legend": {
         "title": {
          "text": "FOLLOWERS"
         },
         "tracegroupgap": 0
        },
        "margin": {
         "t": 60
        },
        "scene": {
         "domain": {
          "x": [
           0,
           1
          ],
          "y": [
           0,
           1
          ]
         },
         "xaxis": {
          "title": {
           "text": "BRAND"
          }
         },
         "yaxis": {
          "title": {
           "text": "CATEGORIES 1"
          }
         },
         "zaxis": {
          "title": {
           "text": "CATEGORIES 2"
          }
         }
        },
        "template": {
         "data": {
          "bar": [
           {
            "error_x": {
             "color": "#f2f5fa"
            },
            "error_y": {
             "color": "#f2f5fa"
            },
            "marker": {
             "line": {
              "color": "rgb(17,17,17)",
              "width": 0.5
             }
            },
            "type": "bar"
           }
          ],
          "barpolar": [
           {
            "marker": {
             "line": {
              "color": "rgb(17,17,17)",
              "width": 0.5
             }
            },
            "type": "barpolar"
           }
          ],
          "carpet": [
           {
            "aaxis": {
             "endlinecolor": "#A2B1C6",
             "gridcolor": "#506784",
             "linecolor": "#506784",
             "minorgridcolor": "#506784",
             "startlinecolor": "#A2B1C6"
            },
            "baxis": {
             "endlinecolor": "#A2B1C6",
             "gridcolor": "#506784",
             "linecolor": "#506784",
             "minorgridcolor": "#506784",
             "startlinecolor": "#A2B1C6"
            },
            "type": "carpet"
           }
          ],
          "choropleth": [
           {
            "colorbar": {
             "outlinewidth": 0,
             "ticks": ""
            },
            "type": "choropleth"
           }
          ],
          "contour": [
           {
            "colorbar": {
             "outlinewidth": 0,
             "ticks": ""
            },
            "colorscale": [
             [
              0,
              "#0d0887"
             ],
             [
              0.1111111111111111,
              "#46039f"
             ],
             [
              0.2222222222222222,
              "#7201a8"
             ],
             [
              0.3333333333333333,
              "#9c179e"
             ],
             [
              0.4444444444444444,
              "#bd3786"
             ],
             [
              0.5555555555555556,
              "#d8576b"
             ],
             [
              0.6666666666666666,
              "#ed7953"
             ],
             [
              0.7777777777777778,
              "#fb9f3a"
             ],
             [
              0.8888888888888888,
              "#fdca26"
             ],
             [
              1,
              "#f0f921"
             ]
            ],
            "type": "contour"
           }
          ],
          "contourcarpet": [
           {
            "colorbar": {
             "outlinewidth": 0,
             "ticks": ""
            },
            "type": "contourcarpet"
           }
          ],
          "heatmap": [
           {
            "colorbar": {
             "outlinewidth": 0,
             "ticks": ""
            },
            "colorscale": [
             [
              0,
              "#0d0887"
             ],
             [
              0.1111111111111111,
              "#46039f"
             ],
             [
              0.2222222222222222,
              "#7201a8"
             ],
             [
              0.3333333333333333,
              "#9c179e"
             ],
             [
              0.4444444444444444,
              "#bd3786"
             ],
             [
              0.5555555555555556,
              "#d8576b"
             ],
             [
              0.6666666666666666,
              "#ed7953"
             ],
             [
              0.7777777777777778,
              "#fb9f3a"
             ],
             [
              0.8888888888888888,
              "#fdca26"
             ],
             [
              1,
              "#f0f921"
             ]
            ],
            "type": "heatmap"
           }
          ],
          "heatmapgl": [
           {
            "colorbar": {
             "outlinewidth": 0,
             "ticks": ""
            },
            "colorscale": [
             [
              0,
              "#0d0887"
             ],
             [
              0.1111111111111111,
              "#46039f"
             ],
             [
              0.2222222222222222,
              "#7201a8"
             ],
             [
              0.3333333333333333,
              "#9c179e"
             ],
             [
              0.4444444444444444,
              "#bd3786"
             ],
             [
              0.5555555555555556,
              "#d8576b"
             ],
             [
              0.6666666666666666,
              "#ed7953"
             ],
             [
              0.7777777777777778,
              "#fb9f3a"
             ],
             [
              0.8888888888888888,
              "#fdca26"
             ],
             [
              1,
              "#f0f921"
             ]
            ],
            "type": "heatmapgl"
           }
          ],
          "histogram": [
           {
            "marker": {
             "colorbar": {
              "outlinewidth": 0,
              "ticks": ""
             }
            },
            "type": "histogram"
           }
          ],
          "histogram2d": [
           {
            "colorbar": {
             "outlinewidth": 0,
             "ticks": ""
            },
            "colorscale": [
             [
              0,
              "#0d0887"
             ],
             [
              0.1111111111111111,
              "#46039f"
             ],
             [
              0.2222222222222222,
              "#7201a8"
             ],
             [
              0.3333333333333333,
              "#9c179e"
             ],
             [
              0.4444444444444444,
              "#bd3786"
             ],
             [
              0.5555555555555556,
              "#d8576b"
             ],
             [
              0.6666666666666666,
              "#ed7953"
             ],
             [
              0.7777777777777778,
              "#fb9f3a"
             ],
             [
              0.8888888888888888,
              "#fdca26"
             ],
             [
              1,
              "#f0f921"
             ]
            ],
            "type": "histogram2d"
           }
          ],
          "histogram2dcontour": [
           {
            "colorbar": {
             "outlinewidth": 0,
             "ticks": ""
            },
            "colorscale": [
             [
              0,
              "#0d0887"
             ],
             [
              0.1111111111111111,
              "#46039f"
             ],
             [
              0.2222222222222222,
              "#7201a8"
             ],
             [
              0.3333333333333333,
              "#9c179e"
             ],
             [
              0.4444444444444444,
              "#bd3786"
             ],
             [
              0.5555555555555556,
              "#d8576b"
             ],
             [
              0.6666666666666666,
              "#ed7953"
             ],
             [
              0.7777777777777778,
              "#fb9f3a"
             ],
             [
              0.8888888888888888,
              "#fdca26"
             ],
             [
              1,
              "#f0f921"
             ]
            ],
            "type": "histogram2dcontour"
           }
          ],
          "mesh3d": [
           {
            "colorbar": {
             "outlinewidth": 0,
             "ticks": ""
            },
            "type": "mesh3d"
           }
          ],
          "parcoords": [
           {
            "line": {
             "colorbar": {
              "outlinewidth": 0,
              "ticks": ""
             }
            },
            "type": "parcoords"
           }
          ],
          "pie": [
           {
            "automargin": true,
            "type": "pie"
           }
          ],
          "scatter": [
           {
            "marker": {
             "line": {
              "color": "#283442"
             }
            },
            "type": "scatter"
           }
          ],
          "scatter3d": [
           {
            "line": {
             "colorbar": {
              "outlinewidth": 0,
              "ticks": ""
             }
            },
            "marker": {
             "colorbar": {
              "outlinewidth": 0,
              "ticks": ""
             }
            },
            "type": "scatter3d"
           }
          ],
          "scattercarpet": [
           {
            "marker": {
             "colorbar": {
              "outlinewidth": 0,
              "ticks": ""
             }
            },
            "type": "scattercarpet"
           }
          ],
          "scattergeo": [
           {
            "marker": {
             "colorbar": {
              "outlinewidth": 0,
              "ticks": ""
             }
            },
            "type": "scattergeo"
           }
          ],
          "scattergl": [
           {
            "marker": {
             "line": {
              "color": "#283442"
             }
            },
            "type": "scattergl"
           }
          ],
          "scattermapbox": [
           {
            "marker": {
             "colorbar": {
              "outlinewidth": 0,
              "ticks": ""
             }
            },
            "type": "scattermapbox"
           }
          ],
          "scatterpolar": [
           {
            "marker": {
             "colorbar": {
              "outlinewidth": 0,
              "ticks": ""
             }
            },
            "type": "scatterpolar"
           }
          ],
          "scatterpolargl": [
           {
            "marker": {
             "colorbar": {
              "outlinewidth": 0,
              "ticks": ""
             }
            },
            "type": "scatterpolargl"
           }
          ],
          "scatterternary": [
           {
            "marker": {
             "colorbar": {
              "outlinewidth": 0,
              "ticks": ""
             }
            },
            "type": "scatterternary"
           }
          ],
          "surface": [
           {
            "colorbar": {
             "outlinewidth": 0,
             "ticks": ""
            },
            "colorscale": [
             [
              0,
              "#0d0887"
             ],
             [
              0.1111111111111111,
              "#46039f"
             ],
             [
              0.2222222222222222,
              "#7201a8"
             ],
             [
              0.3333333333333333,
              "#9c179e"
             ],
             [
              0.4444444444444444,
              "#bd3786"
             ],
             [
              0.5555555555555556,
              "#d8576b"
             ],
             [
              0.6666666666666666,
              "#ed7953"
             ],
             [
              0.7777777777777778,
              "#fb9f3a"
             ],
             [
              0.8888888888888888,
              "#fdca26"
             ],
             [
              1,
              "#f0f921"
             ]
            ],
            "type": "surface"
           }
          ],
          "table": [
           {
            "cells": {
             "fill": {
              "color": "#506784"
             },
             "line": {
              "color": "rgb(17,17,17)"
             }
            },
            "header": {
             "fill": {
              "color": "#2a3f5f"
             },
             "line": {
              "color": "rgb(17,17,17)"
             }
            },
            "type": "table"
           }
          ]
         },
         "layout": {
          "annotationdefaults": {
           "arrowcolor": "#f2f5fa",
           "arrowhead": 0,
           "arrowwidth": 1
          },
          "autotypenumbers": "strict",
          "coloraxis": {
           "colorbar": {
            "outlinewidth": 0,
            "ticks": ""
           }
          },
          "colorscale": {
           "diverging": [
            [
             0,
             "#8e0152"
            ],
            [
             0.1,
             "#c51b7d"
            ],
            [
             0.2,
             "#de77ae"
            ],
            [
             0.3,
             "#f1b6da"
            ],
            [
             0.4,
             "#fde0ef"
            ],
            [
             0.5,
             "#f7f7f7"
            ],
            [
             0.6,
             "#e6f5d0"
            ],
            [
             0.7,
             "#b8e186"
            ],
            [
             0.8,
             "#7fbc41"
            ],
            [
             0.9,
             "#4d9221"
            ],
            [
             1,
             "#276419"
            ]
           ],
           "sequential": [
            [
             0,
             "#0d0887"
            ],
            [
             0.1111111111111111,
             "#46039f"
            ],
            [
             0.2222222222222222,
             "#7201a8"
            ],
            [
             0.3333333333333333,
             "#9c179e"
            ],
            [
             0.4444444444444444,
             "#bd3786"
            ],
            [
             0.5555555555555556,
             "#d8576b"
            ],
            [
             0.6666666666666666,
             "#ed7953"
            ],
            [
             0.7777777777777778,
             "#fb9f3a"
            ],
            [
             0.8888888888888888,
             "#fdca26"
            ],
            [
             1,
             "#f0f921"
            ]
           ],
           "sequentialminus": [
            [
             0,
             "#0d0887"
            ],
            [
             0.1111111111111111,
             "#46039f"
            ],
            [
             0.2222222222222222,
             "#7201a8"
            ],
            [
             0.3333333333333333,
             "#9c179e"
            ],
            [
             0.4444444444444444,
             "#bd3786"
            ],
            [
             0.5555555555555556,
             "#d8576b"
            ],
            [
             0.6666666666666666,
             "#ed7953"
            ],
            [
             0.7777777777777778,
             "#fb9f3a"
            ],
            [
             0.8888888888888888,
             "#fdca26"
            ],
            [
             1,
             "#f0f921"
            ]
           ]
          },
          "colorway": [
           "#636efa",
           "#EF553B",
           "#00cc96",
           "#ab63fa",
           "#FFA15A",
           "#19d3f3",
           "#FF6692",
           "#B6E880",
           "#FF97FF",
           "#FECB52"
          ],
          "font": {
           "color": "#f2f5fa"
          },
          "geo": {
           "bgcolor": "rgb(17,17,17)",
           "lakecolor": "rgb(17,17,17)",
           "landcolor": "rgb(17,17,17)",
           "showlakes": true,
           "showland": true,
           "subunitcolor": "#506784"
          },
          "hoverlabel": {
           "align": "left"
          },
          "hovermode": "closest",
          "mapbox": {
           "style": "dark"
          },
          "paper_bgcolor": "rgb(17,17,17)",
          "plot_bgcolor": "rgb(17,17,17)",
          "polar": {
           "angularaxis": {
            "gridcolor": "#506784",
            "linecolor": "#506784",
            "ticks": ""
           },
           "bgcolor": "rgb(17,17,17)",
           "radialaxis": {
            "gridcolor": "#506784",
            "linecolor": "#506784",
            "ticks": ""
           }
          },
          "scene": {
           "xaxis": {
            "backgroundcolor": "rgb(17,17,17)",
            "gridcolor": "#506784",
            "gridwidth": 2,
            "linecolor": "#506784",
            "showbackground": true,
            "ticks": "",
            "zerolinecolor": "#C8D4E3"
           },
           "yaxis": {
            "backgroundcolor": "rgb(17,17,17)",
            "gridcolor": "#506784",
            "gridwidth": 2,
            "linecolor": "#506784",
            "showbackground": true,
            "ticks": "",
            "zerolinecolor": "#C8D4E3"
           },
           "zaxis": {
            "backgroundcolor": "rgb(17,17,17)",
            "gridcolor": "#506784",
            "gridwidth": 2,
            "linecolor": "#506784",
            "showbackground": true,
            "ticks": "",
            "zerolinecolor": "#C8D4E3"
           }
          },
          "shapedefaults": {
           "line": {
            "color": "#f2f5fa"
           }
          },
          "sliderdefaults": {
           "bgcolor": "#C8D4E3",
           "bordercolor": "rgb(17,17,17)",
           "borderwidth": 1,
           "tickwidth": 0
          },
          "ternary": {
           "aaxis": {
            "gridcolor": "#506784",
            "linecolor": "#506784",
            "ticks": ""
           },
           "baxis": {
            "gridcolor": "#506784",
            "linecolor": "#506784",
            "ticks": ""
           },
           "bgcolor": "rgb(17,17,17)",
           "caxis": {
            "gridcolor": "#506784",
            "linecolor": "#506784",
            "ticks": ""
           }
          },
          "title": {
           "x": 0.05
          },
          "updatemenudefaults": {
           "bgcolor": "#506784",
           "borderwidth": 0
          },
          "xaxis": {
           "automargin": true,
           "gridcolor": "#283442",
           "linecolor": "#506784",
           "ticks": "",
           "title": {
            "standoff": 15
           },
           "zerolinecolor": "#283442",
           "zerolinewidth": 2
          },
          "yaxis": {
           "automargin": true,
           "gridcolor": "#283442",
           "linecolor": "#506784",
           "ticks": "",
           "title": {
            "standoff": 15
           },
           "zerolinecolor": "#283442",
           "zerolinewidth": 2
          }
         }
        }
       }
      }
     },
     "metadata": {},
     "output_type": "display_data"
    }
   ],
   "source": [
    "px. scatter_3d( data_frame= df, x ='BRAND' ,y= 'CATEGORIES 1', z = 'CATEGORIES 2' ,color='FOLLOWERS' ,height= 700,   color_continuous_scale=px.colors.convert_colorscale_to_rgb  ,template= 'plotly_dark')\n",
    "    "
   ]
  },
  {
   "cell_type": "code",
   "execution_count": null,
   "metadata": {},
   "outputs": [],
   "source": [
    "fig = px.scatter(df, x=\"BRAND\", y=\"CATEGORIES 1\", color='FOLLOWERS', template='ggplot2')\n",
    "fig.show()"
   ]
  },
  {
   "cell_type": "code",
   "execution_count": 78,
   "metadata": {},
   "outputs": [
    {
     "data": {
      "application/vnd.plotly.v1+json": {
       "config": {
        "plotlyServerURL": "https://plot.ly"
       },
       "data": [
        {
         "alignmentgroup": "True",
         "hovertemplate": "MEDIA POSTED=1.2k�(2135)<br>BRAND=%{x}<br>CATEGORIES 2=%{y}<extra></extra>",
         "legendgroup": "1.2k�(2135)",
         "marker": {
          "color": "#636efa"
         },
         "name": "1.2k�(2135)",
         "offsetgroup": "1.2k�(2135)",
         "orientation": "v",
         "showlegend": true,
         "textposition": "auto",
         "type": "bar",
         "x": [
          "Selena Gomez"
         ],
         "xaxis": "x",
         "y": [
          "musicians"
         ],
         "yaxis": "y"
        },
        {
         "alignmentgroup": "True",
         "hovertemplate": "MEDIA POSTED=958�(2669)<br>BRAND=%{x}<br>CATEGORIES 2=%{y}<extra></extra>",
         "legendgroup": "958�(2669)",
         "marker": {
          "color": "#EF553B"
         },
         "name": "958�(2669)",
         "offsetgroup": "958�(2669)",
         "orientation": "v",
         "showlegend": true,
         "textposition": "auto",
         "type": "bar",
         "x": [
          "Taylor Swift"
         ],
         "xaxis": "x",
         "y": [
          "musicians"
         ],
         "yaxis": "y"
        },
        {
         "alignmentgroup": "True",
         "hovertemplate": "MEDIA POSTED=2.8k�(824)<br>BRAND=%{x}<br>CATEGORIES 2=%{y}<extra></extra>",
         "legendgroup": "2.8k�(824)",
         "marker": {
          "color": "#00cc96"
         },
         "name": "2.8k�(824)",
         "offsetgroup": "2.8k�(824)",
         "orientation": "v",
         "showlegend": true,
         "textposition": "auto",
         "type": "bar",
         "x": [
          "Ariana Grande"
         ],
         "xaxis": "x",
         "y": [
          "musicians"
         ],
         "yaxis": "y"
        },
        {
         "alignmentgroup": "True",
         "hovertemplate": "MEDIA POSTED=1.4k�(1897)<br>BRAND=%{x}<br>CATEGORIES 2=%{y}<extra></extra>",
         "legendgroup": "1.4k�(1897)",
         "marker": {
          "color": "#ab63fa"
         },
         "name": "1.4k�(1897)",
         "offsetgroup": "1.4k�(1897)",
         "orientation": "v",
         "showlegend": true,
         "textposition": "auto",
         "type": "bar",
         "x": [
          "Beyonce"
         ],
         "xaxis": "x",
         "y": [
          "musicians"
         ],
         "yaxis": "y"
        },
        {
         "alignmentgroup": "True",
         "hovertemplate": "MEDIA POSTED=3.6k�(550)<br>BRAND=%{x}<br>CATEGORIES 2=%{y}<extra></extra>",
         "legendgroup": "3.6k�(550)",
         "marker": {
          "color": "#FFA15A"
         },
         "name": "3.6k�(550)",
         "offsetgroup": "3.6k�(550)",
         "orientation": "v",
         "showlegend": true,
         "textposition": "auto",
         "type": "bar",
         "x": [
          "Kim Kardashian West"
         ],
         "xaxis": "x",
         "y": [
          "tv"
         ],
         "yaxis": "y"
        },
        {
         "alignmentgroup": "True",
         "hovertemplate": "MEDIA POSTED=1.6k�(1612)<br>BRAND=%{x}<br>CATEGORIES 2=%{y}<extra></extra>",
         "legendgroup": "1.6k�(1612)",
         "marker": {
          "color": "#19d3f3"
         },
         "name": "1.6k�(1612)",
         "offsetgroup": "1.6k�(1612)",
         "orientation": "v",
         "showlegend": true,
         "textposition": "auto",
         "type": "bar",
         "x": [
          "Cristiano Ronaldo"
         ],
         "xaxis": "x",
         "y": [
          "athletes"
         ],
         "yaxis": "y"
        },
        {
         "alignmentgroup": "True",
         "hovertemplate": "MEDIA POSTED=4.9k�(302)<br>BRAND=%{x}<br>CATEGORIES 2=%{y}<extra></extra>",
         "legendgroup": "4.9k�(302)",
         "marker": {
          "color": "#FF6692"
         },
         "name": "4.9k�(302)",
         "offsetgroup": "4.9k�(302)",
         "orientation": "v",
         "showlegend": true,
         "textposition": "auto",
         "type": "bar",
         "x": [
          "Kylie"
         ],
         "xaxis": "x",
         "y": [
          "models"
         ],
         "yaxis": "y"
        },
        {
         "alignmentgroup": "True",
         "hovertemplate": "MEDIA POSTED=3.8k�(501)<br>BRAND=%{x}<br>CATEGORIES 2=%{y}<extra></extra>",
         "legendgroup": "3.8k�(501)",
         "marker": {
          "color": "#B6E880"
         },
         "name": "3.8k�(501)",
         "offsetgroup": "3.8k�(501)",
         "orientation": "v",
         "showlegend": true,
         "textposition": "auto",
         "type": "bar",
         "x": [
          "Justin Bieber"
         ],
         "xaxis": "x",
         "y": [
          "musicians"
         ],
         "yaxis": "y"
        },
        {
         "alignmentgroup": "True",
         "hovertemplate": "MEDIA POSTED=2.5k�(926)<br>BRAND=%{x}<br>CATEGORIES 2=%{y}<extra></extra>",
         "legendgroup": "2.5k�(926)",
         "marker": {
          "color": "#FF97FF"
         },
         "name": "2.5k�(926)",
         "offsetgroup": "2.5k�(926)",
         "orientation": "v",
         "showlegend": true,
         "textposition": "auto",
         "type": "bar",
         "x": [
          "therock"
         ],
         "xaxis": "x",
         "y": [
          "athletes"
         ],
         "yaxis": "y"
        },
        {
         "alignmentgroup": "True",
         "hovertemplate": "MEDIA POSTED=2.7k�(849)<br>BRAND=%{x}<br>CATEGORIES 2=%{y}<extra></extra>",
         "legendgroup": "2.7k�(849)",
         "marker": {
          "color": "#FECB52"
         },
         "name": "2.7k�(849)",
         "offsetgroup": "2.7k�(849)",
         "orientation": "v",
         "showlegend": true,
         "textposition": "auto",
         "type": "bar",
         "x": [
          "Kendall"
         ],
         "xaxis": "x",
         "y": [
          "models"
         ],
         "yaxis": "y"
        },
        {
         "alignmentgroup": "True",
         "hovertemplate": "MEDIA POSTED=4.2k�(416)<br>BRAND=%{x}<br>CATEGORIES 2=%{y}<extra></extra>",
         "legendgroup": "4.2k�(416)",
         "marker": {
          "color": "#636efa"
         },
         "name": "4.2k�(416)",
         "offsetgroup": "4.2k�(416)",
         "orientation": "v",
         "showlegend": true,
         "textposition": "auto",
         "type": "bar",
         "x": [
          "Nicki Minaj"
         ],
         "xaxis": "x",
         "y": [
          "musicians"
         ],
         "yaxis": "y"
        },
        {
         "alignmentgroup": "True",
         "hovertemplate": "MEDIA POSTED=880�(2832)<br>BRAND=%{x}<br>CATEGORIES 2=%{y}<extra></extra>",
         "legendgroup": "880�(2832)",
         "marker": {
          "color": "#EF553B"
         },
         "name": "880�(2832)",
         "offsetgroup": "880�(2832)",
         "orientation": "v",
         "showlegend": true,
         "textposition": "auto",
         "type": "bar",
         "x": [
          "nike"
         ],
         "xaxis": "x",
         "y": [
          "sport"
         ],
         "yaxis": "y"
        },
        {
         "alignmentgroup": "True",
         "hovertemplate": "MEDIA POSTED=12.7k�(31)<br>BRAND=%{x}<br>CATEGORIES 2=%{y}<extra></extra>",
         "legendgroup": "12.7k�(31)",
         "marker": {
          "color": "#00cc96"
         },
         "name": "12.7k�(31)",
         "offsetgroup": "12.7k�(31)",
         "orientation": "v",
         "showlegend": true,
         "textposition": "auto",
         "type": "bar",
         "x": [
          "National Geographic"
         ],
         "xaxis": "x",
         "y": [
          null
         ],
         "yaxis": "y"
        },
        {
         "alignmentgroup": "True",
         "hovertemplate": "MEDIA POSTED=3.6k�(555)<br>BRAND=%{x}<br>CATEGORIES 2=%{y}<extra></extra>",
         "legendgroup": "3.6k�(555)",
         "marker": {
          "color": "#ab63fa"
         },
         "name": "3.6k�(555)",
         "offsetgroup": "3.6k�(555)",
         "orientation": "v",
         "showlegend": true,
         "textposition": "auto",
         "type": "bar",
         "x": [
          "Nj"
         ],
         "xaxis": "x",
         "y": [
          "athletes"
         ],
         "yaxis": "y"
        },
        {
         "alignmentgroup": "True",
         "hovertemplate": "MEDIA POSTED=180�(4909)<br>BRAND=%{x}<br>CATEGORIES 2=%{y}<extra></extra>",
         "legendgroup": "180�(4909)",
         "marker": {
          "color": "#FFA15A"
         },
         "name": "180�(4909)",
         "offsetgroup": "180�(4909)",
         "orientation": "v",
         "showlegend": true,
         "textposition": "auto",
         "type": "bar",
         "x": [
          "Leo Messi"
         ],
         "xaxis": "x",
         "y": [
          "athletes"
         ],
         "yaxis": "y"
        },
        {
         "alignmentgroup": "True",
         "hovertemplate": "MEDIA POSTED=3.1k�(702)<br>BRAND=%{x}<br>CATEGORIES 2=%{y}<extra></extra>",
         "legendgroup": "3.1k�(702)",
         "marker": {
          "color": "#19d3f3"
         },
         "name": "3.1k�(702)",
         "offsetgroup": "3.1k�(702)",
         "orientation": "v",
         "showlegend": true,
         "textposition": "auto",
         "type": "bar",
         "x": [
          "Khloe"
         ],
         "xaxis": "x",
         "y": [
          "tv"
         ],
         "yaxis": "y"
        },
        {
         "alignmentgroup": "True",
         "hovertemplate": "MEDIA POSTED=507�(3846)<br>BRAND=%{x}<br>CATEGORIES 2=%{y}<extra></extra>",
         "legendgroup": "507�(3846)",
         "marker": {
          "color": "#FF6692"
         },
         "name": "507�(3846)",
         "offsetgroup": "507�(3846)",
         "orientation": "v",
         "showlegend": true,
         "textposition": "auto",
         "type": "bar",
         "x": [
          "KATY PERRY"
         ],
         "xaxis": "x",
         "y": [
          "musicians"
         ],
         "yaxis": "y"
        },
        {
         "alignmentgroup": "True",
         "hovertemplate": "MEDIA POSTED=5.8k�(200)<br>BRAND=%{x}<br>CATEGORIES 2=%{y}<extra></extra>",
         "legendgroup": "5.8k�(200)",
         "marker": {
          "color": "#B6E880"
         },
         "name": "5.8k�(200)",
         "offsetgroup": "5.8k�(200)",
         "orientation": "v",
         "showlegend": true,
         "textposition": "auto",
         "type": "bar",
         "x": [
          "Miley Cyrus"
         ],
         "xaxis": "x",
         "y": [
          "musicians"
         ],
         "yaxis": "y"
        },
        {
         "alignmentgroup": "True",
         "hovertemplate": "MEDIA POSTED=1.6k�(1647)<br>BRAND=%{x}<br>CATEGORIES 2=%{y}<extra></extra>",
         "legendgroup": "1.6k�(1647)",
         "marker": {
          "color": "#FF97FF"
         },
         "name": "1.6k�(1647)",
         "offsetgroup": "1.6k�(1647)",
         "orientation": "v",
         "showlegend": true,
         "textposition": "auto",
         "type": "bar",
         "x": [
          "Jennifer Lopez"
         ],
         "xaxis": "x",
         "y": [
          "musicians"
         ],
         "yaxis": "y"
        },
        {
         "alignmentgroup": "True",
         "hovertemplate": "MEDIA POSTED=1.5k�(1782)<br>BRAND=%{x}<br>CATEGORIES 2=%{y}<extra></extra>",
         "legendgroup": "1.5k�(1782)",
         "marker": {
          "color": "#FECB52"
         },
         "name": "1.5k�(1782)",
         "offsetgroup": "1.5k�(1782)",
         "orientation": "v",
         "showlegend": true,
         "textposition": "auto",
         "type": "bar",
         "x": [
          "Demi Lovato"
         ],
         "xaxis": "x",
         "y": [
          "musicians"
         ],
         "yaxis": "y"
        },
        {
         "alignmentgroup": "True",
         "hovertemplate": "MEDIA POSTED=3k�(746)<br>BRAND=%{x}<br>CATEGORIES 2=%{y}<extra></extra>",
         "legendgroup": "3k�(746)",
         "marker": {
          "color": "#636efa"
         },
         "name": "3k�(746)",
         "offsetgroup": "3k�(746)",
         "orientation": "v",
         "showlegend": true,
         "textposition": "auto",
         "type": "bar",
         "x": [
          "Kourtney Kardashian"
         ],
         "xaxis": "x",
         "y": [
          "tv"
         ],
         "yaxis": "y"
        },
        {
         "alignmentgroup": "True",
         "hovertemplate": "MEDIA POSTED=4.3k�(390)<br>BRAND=%{x}<br>CATEGORIES 2=%{y}<extra></extra>",
         "legendgroup": "4.3k�(390)",
         "marker": {
          "color": "#EF553B"
         },
         "name": "4.3k�(390)",
         "offsetgroup": "4.3k�(390)",
         "orientation": "v",
         "showlegend": true,
         "textposition": "auto",
         "type": "bar",
         "x": [
          "Victoria's Secret"
         ],
         "xaxis": "x",
         "y": [
          null
         ],
         "yaxis": "y"
        },
        {
         "alignmentgroup": "True",
         "hovertemplate": "MEDIA POSTED=3.7k�(525)<br>BRAND=%{x}<br>CATEGORIES 2=%{y}<extra></extra>",
         "legendgroup": "3.7k�(525)",
         "marker": {
          "color": "#00cc96"
         },
         "name": "3.7k�(525)",
         "offsetgroup": "3.7k�(525)",
         "orientation": "v",
         "showlegend": true,
         "textposition": "auto",
         "type": "bar",
         "x": [
          "badgalriri"
         ],
         "xaxis": "x",
         "y": [
          "musicians"
         ],
         "yaxis": "y"
        },
        {
         "alignmentgroup": "True",
         "hovertemplate": "MEDIA POSTED=4k�(457)<br>BRAND=%{x}<br>CATEGORIES 2=%{y}<extra></extra>",
         "legendgroup": "4k�(457)",
         "marker": {
          "color": "#ab63fa"
         },
         "name": "4k�(457)",
         "offsetgroup": "4k�(457)",
         "orientation": "v",
         "showlegend": true,
         "textposition": "auto",
         "type": "bar",
         "x": [
          "Kevin Hart"
         ],
         "xaxis": "x",
         "y": [
          "actors"
         ],
         "yaxis": "y"
        },
        {
         "alignmentgroup": "True",
         "hovertemplate": "MEDIA POSTED=8.9k�(68)<br>BRAND=%{x}<br>CATEGORIES 2=%{y}<extra></extra>",
         "legendgroup": "8.9k�(68)",
         "marker": {
          "color": "#FFA15A"
         },
         "name": "8.9k�(68)",
         "offsetgroup": "8.9k�(68)",
         "orientation": "v",
         "showlegend": true,
         "textposition": "auto",
         "type": "bar",
         "x": [
          "FC Barcelona"
         ],
         "xaxis": "x",
         "y": [
          "football"
         ],
         "yaxis": "y"
        },
        {
         "alignmentgroup": "True",
         "hovertemplate": "MEDIA POSTED=1k�(2560)<br>BRAND=%{x}<br>CATEGORIES 2=%{y}<extra></extra>",
         "legendgroup": "1k�(2560)",
         "marker": {
          "color": "#19d3f3"
         },
         "name": "1k�(2560)",
         "offsetgroup": "1k�(2560)",
         "orientation": "v",
         "showlegend": true,
         "textposition": "auto",
         "type": "bar",
         "x": [
          "Real Madrid C.F."
         ],
         "xaxis": "x",
         "y": [
          "football"
         ],
         "yaxis": "y"
        },
        {
         "alignmentgroup": "True",
         "hovertemplate": "MEDIA POSTED=498�(3888)<br>BRAND=%{x}<br>CATEGORIES 2=%{y}<extra></extra>",
         "legendgroup": "498�(3888)",
         "marker": {
          "color": "#FF6692"
         },
         "name": "498�(3888)",
         "offsetgroup": "498�(3888)",
         "orientation": "v",
         "showlegend": true,
         "textposition": "auto",
         "type": "bar",
         "x": [
          "Justin Timberlake"
         ],
         "xaxis": "x",
         "y": [
          "musicians"
         ],
         "yaxis": "y"
        },
        {
         "alignmentgroup": "True",
         "hovertemplate": "MEDIA POSTED=4.3k�(399)<br>BRAND=%{x}<br>CATEGORIES 2=%{y}<extra></extra>",
         "legendgroup": "4.3k�(399)",
         "marker": {
          "color": "#B6E880"
         },
         "name": "4.3k�(399)",
         "offsetgroup": "4.3k�(399)",
         "orientation": "v",
         "showlegend": true,
         "textposition": "auto",
         "type": "bar",
         "x": [
          "Ellen"
         ],
         "xaxis": "x",
         "y": [
          "tv"
         ],
         "yaxis": "y"
        },
        {
         "alignmentgroup": "True",
         "hovertemplate": "MEDIA POSTED=3.2k�(654)<br>BRAND=%{x}<br>CATEGORIES 2=%{y}<extra></extra>",
         "legendgroup": "3.2k�(654)",
         "marker": {
          "color": "#FF97FF"
         },
         "name": "3.2k�(654)",
         "offsetgroup": "3.2k�(654)",
         "orientation": "v",
         "showlegend": true,
         "textposition": "auto",
         "type": "bar",
         "x": [
          "Cara Delevingne"
         ],
         "xaxis": "x",
         "y": [
          "models"
         ],
         "yaxis": "y"
        },
        {
         "alignmentgroup": "True",
         "hovertemplate": "MEDIA POSTED=3k�(732)<br>BRAND=%{x}<br>CATEGORIES 2=%{y}<extra></extra>",
         "legendgroup": "3k�(732)",
         "marker": {
          "color": "#FECB52"
         },
         "name": "3k�(732)",
         "offsetgroup": "3k�(732)",
         "orientation": "v",
         "showlegend": true,
         "textposition": "auto",
         "type": "bar",
         "x": [
          "Zendaya"
         ],
         "xaxis": "x",
         "y": [
          "musicians"
         ],
         "yaxis": "y"
        },
        {
         "alignmentgroup": "True",
         "hovertemplate": "MEDIA POSTED=11.4k�(37)<br>BRAND=%{x}<br>CATEGORIES 2=%{y}<extra></extra>",
         "legendgroup": "11.4k�(37)",
         "marker": {
          "color": "#636efa"
         },
         "name": "11.4k�(37)",
         "offsetgroup": "11.4k�(37)",
         "orientation": "v",
         "showlegend": true,
         "textposition": "auto",
         "type": "bar",
         "x": [
          "9gag"
         ],
         "xaxis": "x",
         "y": [
          null
         ],
         "yaxis": "y"
        },
        {
         "alignmentgroup": "True",
         "hovertemplate": "MEDIA POSTED=476�(3955)<br>BRAND=%{x}<br>CATEGORIES 2=%{y}<extra></extra>",
         "legendgroup": "476�(3955)",
         "marker": {
          "color": "#EF553B"
         },
         "name": "476�(3955)",
         "offsetgroup": "476�(3955)",
         "orientation": "v",
         "showlegend": true,
         "textposition": "auto",
         "type": "bar",
         "x": [
          "David Beckham"
         ],
         "xaxis": "x",
         "y": [
          "athletes"
         ],
         "yaxis": "y"
        },
        {
         "alignmentgroup": "True",
         "hovertemplate": "MEDIA POSTED=3.4k�(602)<br>BRAND=%{x}<br>CATEGORIES 2=%{y}<extra></extra>",
         "legendgroup": "3.4k�(602)",
         "marker": {
          "color": "#00cc96"
         },
         "name": "3.4k�(602)",
         "offsetgroup": "3.4k�(602)",
         "orientation": "v",
         "showlegend": true,
         "textposition": "auto",
         "type": "bar",
         "x": [
          "champagnepapi"
         ],
         "xaxis": "x",
         "y": [
          "musicians"
         ],
         "yaxis": "y"
        },
        {
         "alignmentgroup": "True",
         "hovertemplate": "MEDIA POSTED=986�(2599)<br>BRAND=%{x}<br>CATEGORIES 2=%{y}<extra></extra>",
         "legendgroup": "986�(2599)",
         "marker": {
          "color": "#ab63fa"
         },
         "name": "986�(2599)",
         "offsetgroup": "986�(2599)",
         "orientation": "v",
         "showlegend": true,
         "textposition": "auto",
         "type": "bar",
         "x": [
          "Vin Diesel"
         ],
         "xaxis": "x",
         "y": [
          "actors"
         ],
         "yaxis": "y"
        },
        {
         "alignmentgroup": "True",
         "hovertemplate": "MEDIA POSTED=664�(3369)<br>BRAND=%{x}<br>CATEGORIES 2=%{y}<extra></extra>",
         "legendgroup": "664�(3369)",
         "marker": {
          "color": "#FFA15A"
         },
         "name": "664�(3369)",
         "offsetgroup": "664�(3369)",
         "orientation": "v",
         "showlegend": true,
         "textposition": "auto",
         "type": "bar",
         "x": [
          "Shakira"
         ],
         "xaxis": "x",
         "y": [
          "musicians"
         ],
         "yaxis": "y"
        },
        {
         "alignmentgroup": "True",
         "hovertemplate": "MEDIA POSTED=634�(3454)<br>BRAND=%{x}<br>CATEGORIES 2=%{y}<extra></extra>",
         "legendgroup": "634�(3454)",
         "marker": {
          "color": "#19d3f3"
         },
         "name": "634�(3454)",
         "offsetgroup": "634�(3454)",
         "orientation": "v",
         "showlegend": true,
         "textposition": "auto",
         "type": "bar",
         "x": [
          "James Rodr�guez"
         ],
         "xaxis": "x",
         "y": [
          "athletes"
         ],
         "yaxis": "y"
        },
        {
         "alignmentgroup": "True",
         "hovertemplate": "MEDIA POSTED=2.3k�(1024)<br>BRAND=%{x}<br>CATEGORIES 2=%{y}<extra></extra>",
         "legendgroup": "2.3k�(1024)",
         "marker": {
          "color": "#FF6692"
         },
         "name": "2.3k�(1024)",
         "offsetgroup": "2.3k�(1024)",
         "orientation": "v",
         "showlegend": true,
         "textposition": "auto",
         "type": "bar",
         "x": [
          "Gigi Hadid"
         ],
         "xaxis": "x",
         "y": [
          "models"
         ],
         "yaxis": "y"
        },
        {
         "alignmentgroup": "True",
         "hovertemplate": "MEDIA POSTED=1.3k�(1981)<br>BRAND=%{x}<br>CATEGORIES 2=%{y}<extra></extra>",
         "legendgroup": "1.3k�(1981)",
         "marker": {
          "color": "#B6E880"
         },
         "name": "1.3k�(1981)",
         "offsetgroup": "1.3k�(1981)",
         "orientation": "v",
         "showlegend": true,
         "textposition": "auto",
         "type": "bar",
         "x": [
          "LeBron James"
         ],
         "xaxis": "x",
         "y": [
          "athletes"
         ],
         "yaxis": "y"
        },
        {
         "alignmentgroup": "True",
         "hovertemplate": "MEDIA POSTED=509�(3838)<br>BRAND=%{x}<br>CATEGORIES 2=%{y}<extra></extra>",
         "legendgroup": "509�(3838)",
         "marker": {
          "color": "#FF97FF"
         },
         "name": "509�(3838)",
         "offsetgroup": "509�(3838)",
         "orientation": "v",
         "showlegend": true,
         "textposition": "auto",
         "type": "bar",
         "x": [
          "Gareth Bale"
         ],
         "xaxis": "x",
         "y": [
          "athletes"
         ],
         "yaxis": "y"
        },
        {
         "alignmentgroup": "True",
         "hovertemplate": "MEDIA POSTED=1.4k�(1923)<br>BRAND=%{x}<br>CATEGORIES 2=%{y}<extra></extra>",
         "legendgroup": "1.4k�(1923)",
         "marker": {
          "color": "#FECB52"
         },
         "name": "1.4k�(1923)",
         "offsetgroup": "1.4k�(1923)",
         "orientation": "v",
         "showlegend": true,
         "textposition": "auto",
         "type": "bar",
         "x": [
          "Nike Football (Soccer)"
         ],
         "xaxis": "x",
         "y": [
          "sport"
         ],
         "yaxis": "y"
        },
        {
         "alignmentgroup": "True",
         "hovertemplate": "MEDIA POSTED=361�(4339)<br>BRAND=%{x}<br>CATEGORIES 2=%{y}<extra></extra>",
         "legendgroup": "361�(4339)",
         "marker": {
          "color": "#636efa"
         },
         "name": "361�(4339)",
         "offsetgroup": "361�(4339)",
         "orientation": "v",
         "showlegend": true,
         "textposition": "auto",
         "type": "bar",
         "x": [
          "Zac Efron"
         ],
         "xaxis": "x",
         "y": [
          "actors"
         ],
         "yaxis": "y"
        },
        {
         "alignmentgroup": "True",
         "hovertemplate": "MEDIA POSTED=1.9k�(1374)<br>BRAND=%{x}<br>CATEGORIES 2=%{y}<extra></extra>",
         "legendgroup": "1.9k�(1374)",
         "marker": {
          "color": "#EF553B"
         },
         "name": "1.9k�(1374)",
         "offsetgroup": "1.9k�(1374)",
         "orientation": "v",
         "showlegend": true,
         "textposition": "auto",
         "type": "bar",
         "x": [
          "Vanessa Hudgens"
         ],
         "xaxis": "x",
         "y": [
          "actors"
         ],
         "yaxis": "y"
        },
        {
         "alignmentgroup": "True",
         "hovertemplate": "MEDIA POSTED=314�(4476)<br>BRAND=%{x}<br>CATEGORIES 2=%{y}<extra></extra>",
         "legendgroup": "314�(4476)",
         "marker": {
          "color": "#00cc96"
         },
         "name": "314�(4476)",
         "offsetgroup": "314�(4476)",
         "orientation": "v",
         "showlegend": true,
         "textposition": "auto",
         "type": "bar",
         "x": [
          "IAmZlatan"
         ],
         "xaxis": "x",
         "y": [
          "athletes"
         ],
         "yaxis": "y"
        },
        {
         "alignmentgroup": "True",
         "hovertemplate": "MEDIA POSTED=40�(5340)<br>BRAND=%{x}<br>CATEGORIES 2=%{y}<extra></extra>",
         "legendgroup": "40�(5340)",
         "marker": {
          "color": "#ab63fa"
         },
         "name": "40�(5340)",
         "offsetgroup": "40�(5340)",
         "orientation": "v",
         "showlegend": true,
         "textposition": "auto",
         "type": "bar",
         "x": [
          "Emma Watson"
         ],
         "xaxis": "x",
         "y": [
          "actors"
         ],
         "yaxis": "y"
        },
        {
         "alignmentgroup": "True",
         "hovertemplate": "MEDIA POSTED=2.4k�(980)<br>BRAND=%{x}<br>CATEGORIES 2=%{y}<extra></extra>",
         "legendgroup": "2.4k�(980)",
         "marker": {
          "color": "#FFA15A"
         },
         "name": "2.4k�(980)",
         "offsetgroup": "2.4k�(980)",
         "orientation": "v",
         "showlegend": true,
         "textposition": "auto",
         "type": "bar",
         "x": [
          "xoxo, Joanne"
         ],
         "xaxis": "x",
         "y": [
          "musicians"
         ],
         "yaxis": "y"
        },
        {
         "alignmentgroup": "True",
         "hovertemplate": "MEDIA POSTED=17.8k�(9)<br>BRAND=%{x}<br>CATEGORIES 2=%{y}<extra></extra>",
         "legendgroup": "17.8k�(9)",
         "marker": {
          "color": "#19d3f3"
         },
         "name": "17.8k�(9)",
         "offsetgroup": "17.8k�(9)",
         "orientation": "v",
         "showlegend": true,
         "textposition": "auto",
         "type": "bar",
         "x": [
          "NBA"
         ],
         "xaxis": "x",
         "y": [
          "basketball"
         ],
         "yaxis": "y"
        },
        {
         "alignmentgroup": "True",
         "hovertemplate": "MEDIA POSTED=391�(4235)<br>BRAND=%{x}<br>CATEGORIES 2=%{y}<extra></extra>",
         "legendgroup": "391�(4235)",
         "marker": {
          "color": "#FF6692"
         },
         "name": "391�(4235)",
         "offsetgroup": "391�(4235)",
         "orientation": "v",
         "showlegend": true,
         "textposition": "auto",
         "type": "bar",
         "x": [
          "harrystyles"
         ],
         "xaxis": "x",
         "y": [
          "musicians"
         ],
         "yaxis": "y"
        },
        {
         "alignmentgroup": "True",
         "hovertemplate": "MEDIA POSTED=777�(3062)<br>BRAND=%{x}<br>CATEGORIES 2=%{y}<extra></extra>",
         "legendgroup": "777�(3062)",
         "marker": {
          "color": "#B6E880"
         },
         "name": "777�(3062)",
         "offsetgroup": "777�(3062)",
         "orientation": "v",
         "showlegend": true,
         "textposition": "auto",
         "type": "bar",
         "x": [
          "Scott Disick"
         ],
         "xaxis": "x",
         "y": [
          "tv"
         ],
         "yaxis": "y"
        },
        {
         "alignmentgroup": "True",
         "hovertemplate": "MEDIA POSTED=176�(4922)<br>BRAND=%{x}<br>CATEGORIES 2=%{y}<extra></extra>",
         "legendgroup": "176�(4922)",
         "marker": {
          "color": "#FF97FF"
         },
         "name": "176�(4922)",
         "offsetgroup": "176�(4922)",
         "orientation": "v",
         "showlegend": true,
         "textposition": "auto",
         "type": "bar",
         "x": [
          "Luis Suarez"
         ],
         "xaxis": "x",
         "y": [
          "athletes"
         ],
         "yaxis": "y"
        },
        {
         "alignmentgroup": "True",
         "hovertemplate": "MEDIA POSTED=797�(3008)<br>BRAND=%{x}<br>CATEGORIES 2=%{y}<extra></extra>",
         "legendgroup": "797�(3008)",
         "marker": {
          "color": "#FECB52"
         },
         "name": "797�(3008)",
         "offsetgroup": "797�(3008)",
         "orientation": "v",
         "showlegend": true,
         "textposition": "auto",
         "type": "bar",
         "x": [
          "Niall Horan"
         ],
         "xaxis": "x",
         "y": [
          "musicians"
         ],
         "yaxis": "y"
        },
        {
         "alignmentgroup": "True",
         "hovertemplate": "MEDIA POSTED=1.8k�(1423)<br>BRAND=%{x}<br>CATEGORIES 2=%{y}<extra></extra>",
         "legendgroup": "1.8k�(1423)",
         "marker": {
          "color": "#636efa"
         },
         "name": "1.8k�(1423)",
         "offsetgroup": "1.8k�(1423)",
         "orientation": "v",
         "showlegend": true,
         "textposition": "auto",
         "type": "bar",
         "x": [
          "NASA"
         ],
         "xaxis": "x",
         "y": [
          null
         ],
         "yaxis": "y"
        },
        {
         "alignmentgroup": "True",
         "hovertemplate": "MEDIA POSTED=3k�(739)<br>BRAND=%{x}<br>CATEGORIES 2=%{y}<extra></extra>",
         "legendgroup": "3k�(739)",
         "marker": {
          "color": "#EF553B"
         },
         "name": "3k�(739)",
         "offsetgroup": "3k�(739)",
         "orientation": "v",
         "showlegend": true,
         "textposition": "auto",
         "type": "bar",
         "x": [
          "H&M"
         ],
         "xaxis": "x",
         "y": [
          "retail"
         ],
         "yaxis": "y"
        },
        {
         "alignmentgroup": "True",
         "hovertemplate": "MEDIA POSTED=2.3k�(1055)<br>BRAND=%{x}<br>CATEGORIES 2=%{y}<extra></extra>",
         "legendgroup": "2.3k�(1055)",
         "marker": {
          "color": "#00cc96"
         },
         "name": "2.3k�(1055)",
         "offsetgroup": "2.3k�(1055)",
         "orientation": "v",
         "showlegend": true,
         "textposition": "auto",
         "type": "bar",
         "x": [
          "Bruna Marquezine _"
         ],
         "xaxis": "x",
         "y": [
          "models"
         ],
         "yaxis": "y"
        },
        {
         "alignmentgroup": "True",
         "hovertemplate": "MEDIA POSTED=726�(3189)<br>BRAND=%{x}<br>CATEGORIES 2=%{y}<extra></extra>",
         "legendgroup": "726�(3189)",
         "marker": {
          "color": "#ab63fa"
         },
         "name": "726�(3189)",
         "offsetgroup": "726�(3189)",
         "orientation": "v",
         "showlegend": true,
         "textposition": "auto",
         "type": "bar",
         "x": [
          "One Direction"
         ],
         "xaxis": "x",
         "y": [
          "musicians"
         ],
         "yaxis": "y"
        },
        {
         "alignmentgroup": "True",
         "hovertemplate": "MEDIA POSTED=583�(3621)<br>BRAND=%{x}<br>CATEGORIES 2=%{y}<extra></extra>",
         "legendgroup": "583�(3621)",
         "marker": {
          "color": "#FFA15A"
         },
         "name": "583�(3621)",
         "offsetgroup": "583�(3621)",
         "orientation": "v",
         "showlegend": true,
         "textposition": "auto",
         "type": "bar",
         "x": [
          "CHANEL"
         ],
         "xaxis": "x",
         "y": [
          "luxury"
         ],
         "yaxis": "y"
        },
        {
         "alignmentgroup": "True",
         "hovertemplate": "MEDIA POSTED=1.5k�(1830)<br>BRAND=%{x}<br>CATEGORIES 2=%{y}<extra></extra>",
         "legendgroup": "1.5k�(1830)",
         "marker": {
          "color": "#19d3f3"
         },
         "name": "1.5k�(1830)",
         "offsetgroup": "1.5k�(1830)",
         "orientation": "v",
         "showlegend": true,
         "textposition": "auto",
         "type": "bar",
         "x": [
          "Shawn Mendes"
         ],
         "xaxis": "x",
         "y": [
          "musicians"
         ],
         "yaxis": "y"
        },
        {
         "alignmentgroup": "True",
         "hovertemplate": "MEDIA POSTED=3k�(743)<br>BRAND=%{x}<br>CATEGORIES 2=%{y}<extra></extra>",
         "legendgroup": "3k�(743)",
         "marker": {
          "color": "#FF6692"
         },
         "name": "3k�(743)",
         "offsetgroup": "3k�(743)",
         "orientation": "v",
         "showlegend": true,
         "textposition": "auto",
         "type": "bar",
         "x": [
          "Lucy Hale"
         ],
         "xaxis": "x",
         "y": [
          "actors"
         ],
         "yaxis": "y"
        },
        {
         "alignmentgroup": "True",
         "hovertemplate": "MEDIA POSTED=4.9k�(294)<br>BRAND=%{x}<br>CATEGORIES 2=%{y}<extra></extra>",
         "legendgroup": "4.9k�(294)",
         "marker": {
          "color": "#B6E880"
         },
         "name": "4.9k�(294)",
         "offsetgroup": "4.9k�(294)",
         "orientation": "v",
         "showlegend": true,
         "textposition": "auto",
         "type": "bar",
         "x": [
          "euanitta"
         ],
         "xaxis": "x",
         "y": [
          "musicians"
         ],
         "yaxis": "y"
        },
        {
         "alignmentgroup": "True",
         "hovertemplate": "MEDIA POSTED=833�(2924)<br>BRAND=%{x}<br>CATEGORIES 2=%{y}<extra></extra>",
         "legendgroup": "833�(2924)",
         "marker": {
          "color": "#FF97FF"
         },
         "name": "833�(2924)",
         "offsetgroup": "833�(2924)",
         "orientation": "v",
         "showlegend": true,
         "textposition": "auto",
         "type": "bar",
         "x": [
          "Karim Benzema"
         ],
         "xaxis": "x",
         "y": [
          "athletes"
         ],
         "yaxis": "y"
        },
        {
         "alignmentgroup": "True",
         "hovertemplate": "MEDIA POSTED=2.1k�(1169)<br>BRAND=%{x}<br>CATEGORIES 2=%{y}<extra></extra>",
         "legendgroup": "2.1k�(1169)",
         "marker": {
          "color": "#FECB52"
         },
         "name": "2.1k�(1169)",
         "offsetgroup": "2.1k�(1169)",
         "orientation": "v",
         "showlegend": true,
         "textposition": "auto",
         "type": "bar",
         "x": [
          "Marina Ruy Barbosa"
         ],
         "xaxis": "x",
         "y": [
          "actors"
         ],
         "yaxis": "y"
        },
        {
         "alignmentgroup": "True",
         "hovertemplate": "MEDIA POSTED=3.1k�(700)<br>BRAND=%{x}<br>CATEGORIES 2=%{y}<extra></extra>",
         "legendgroup": "3.1k�(700)",
         "marker": {
          "color": "#636efa"
         },
         "name": "3.1k�(700)",
         "offsetgroup": "3.1k�(700)",
         "orientation": "v",
         "showlegend": true,
         "textposition": "auto",
         "type": "bar",
         "x": [
          "adidas Originals"
         ],
         "xaxis": "x",
         "y": [
          "sport"
         ],
         "yaxis": "y"
        },
        {
         "alignmentgroup": "True",
         "hovertemplate": "MEDIA POSTED=1.5k�(1714)<br>BRAND=%{x}<br>CATEGORIES 2=%{y}<extra></extra>",
         "legendgroup": "1.5k�(1714)",
         "marker": {
          "color": "#EF553B"
         },
         "name": "1.5k�(1714)",
         "offsetgroup": "1.5k�(1714)",
         "orientation": "v",
         "showlegend": true,
         "textposition": "auto",
         "type": "bar",
         "x": [
          "David Luiz"
         ],
         "xaxis": "x",
         "y": [
          "athletes"
         ],
         "yaxis": "y"
        },
        {
         "alignmentgroup": "True",
         "hovertemplate": "MEDIA POSTED=378�(4276)<br>BRAND=%{x}<br>CATEGORIES 2=%{y}<extra></extra>",
         "legendgroup": "378�(4276)",
         "marker": {
          "color": "#00cc96"
         },
         "name": "378�(4276)",
         "offsetgroup": "378�(4276)",
         "orientation": "v",
         "showlegend": true,
         "textposition": "auto",
         "type": "bar",
         "x": [
          "Andres Iniesta"
         ],
         "xaxis": "x",
         "y": [
          "athletes"
         ],
         "yaxis": "y"
        },
        {
         "alignmentgroup": "True",
         "hovertemplate": "MEDIA POSTED=4k�(453)<br>BRAND=%{x}<br>CATEGORIES 2=%{y}<extra></extra>",
         "legendgroup": "4k�(453)",
         "marker": {
          "color": "#ab63fa"
         },
         "name": "4k�(453)",
         "offsetgroup": "4k�(453)",
         "orientation": "v",
         "showlegend": true,
         "textposition": "auto",
         "type": "bar",
         "x": [
          "Ashley Benson"
         ],
         "xaxis": "x",
         "y": [
          "actors"
         ],
         "yaxis": "y"
        },
        {
         "alignmentgroup": "True",
         "hovertemplate": "MEDIA POSTED=1.2k�(2134)<br>BRAND=%{x}<br>CATEGORIES 2=%{y}<extra></extra>",
         "legendgroup": "1.2k�(2134)",
         "marker": {
          "color": "#FFA15A"
         },
         "name": "1.2k�(2134)",
         "offsetgroup": "1.2k�(2134)",
         "orientation": "v",
         "showlegend": true,
         "textposition": "auto",
         "type": "bar",
         "x": [
          "ZARA Official"
         ],
         "xaxis": "x",
         "y": [
          "retail"
         ],
         "yaxis": "y"
        },
        {
         "alignmentgroup": "True",
         "hovertemplate": "MEDIA POSTED=5.5k�(232)<br>BRAND=%{x}<br>CATEGORIES 2=%{y}<extra></extra>",
         "legendgroup": "5.5k�(232)",
         "marker": {
          "color": "#19d3f3"
         },
         "name": "5.5k�(232)",
         "offsetgroup": "5.5k�(232)",
         "orientation": "v",
         "showlegend": true,
         "textposition": "auto",
         "type": "bar",
         "x": [
          "Manchester United"
         ],
         "xaxis": "x",
         "y": [
          "football"
         ],
         "yaxis": "y"
        },
        {
         "alignmentgroup": "True",
         "hovertemplate": "MEDIA POSTED=4.3k�(385)<br>BRAND=%{x}<br>CATEGORIES 2=%{y}<extra></extra>",
         "legendgroup": "4.3k�(385)",
         "marker": {
          "color": "#FF6692"
         },
         "name": "4.3k�(385)",
         "offsetgroup": "4.3k�(385)",
         "orientation": "v",
         "showlegend": true,
         "textposition": "auto",
         "type": "bar",
         "x": [
          "Shay Mitchell"
         ],
         "xaxis": "x",
         "y": [
          "actors"
         ],
         "yaxis": "y"
        },
        {
         "alignmentgroup": "True",
         "hovertemplate": "MEDIA POSTED=1.3k�(2013)<br>BRAND=%{x}<br>CATEGORIES 2=%{y}<extra></extra>",
         "legendgroup": "1.3k�(2013)",
         "marker": {
          "color": "#B6E880"
         },
         "name": "1.3k�(2013)",
         "offsetgroup": "1.3k�(2013)",
         "orientation": "v",
         "showlegend": true,
         "textposition": "auto",
         "type": "bar",
         "x": [
          "Marcelo Vieira Jr."
         ],
         "xaxis": "x",
         "y": [
          "athletes"
         ],
         "yaxis": "y"
        },
        {
         "alignmentgroup": "True",
         "hovertemplate": "MEDIA POSTED=4.1k�(431)<br>BRAND=%{x}<br>CATEGORIES 2=%{y}<extra></extra>",
         "legendgroup": "4.1k�(431)",
         "marker": {
          "color": "#FF97FF"
         },
         "name": "4.1k�(431)",
         "offsetgroup": "4.1k�(431)",
         "orientation": "v",
         "showlegend": true,
         "textposition": "auto",
         "type": "bar",
         "x": [
          "BELLA"
         ],
         "xaxis": "x",
         "y": [
          "media"
         ],
         "yaxis": "y"
        },
        {
         "alignmentgroup": "True",
         "hovertemplate": "MEDIA POSTED=2.9k�(781)<br>BRAND=%{x}<br>CATEGORIES 2=%{y}<extra></extra>",
         "legendgroup": "2.9k�(781)",
         "marker": {
          "color": "#FECB52"
         },
         "name": "2.9k�(781)",
         "offsetgroup": "2.9k�(781)",
         "orientation": "v",
         "showlegend": true,
         "textposition": "auto",
         "type": "bar",
         "x": [
          "Ciara"
         ],
         "xaxis": "x",
         "y": [
          "musicians"
         ],
         "yaxis": "y"
        },
        {
         "alignmentgroup": "True",
         "hovertemplate": "MEDIA POSTED=1.5k�(1733)<br>BRAND=%{x}<br>CATEGORIES 2=%{y}<extra></extra>",
         "legendgroup": "1.5k�(1733)",
         "marker": {
          "color": "#636efa"
         },
         "name": "1.5k�(1733)",
         "offsetgroup": "1.5k�(1733)",
         "orientation": "v",
         "showlegend": true,
         "textposition": "auto",
         "type": "bar",
         "x": [
          "Britney Spears"
         ],
         "xaxis": "x",
         "y": [
          "musicians"
         ],
         "yaxis": "y"
        },
        {
         "alignmentgroup": "True",
         "hovertemplate": "MEDIA POSTED=5.9k�(194)<br>BRAND=%{x}<br>CATEGORIES 2=%{y}<extra></extra>",
         "legendgroup": "5.9k�(194)",
         "marker": {
          "color": "#EF553B"
         },
         "name": "5.9k�(194)",
         "offsetgroup": "5.9k�(194)",
         "orientation": "v",
         "showlegend": true,
         "textposition": "auto",
         "type": "bar",
         "x": [
          "National Geographic Travel"
         ],
         "xaxis": "x",
         "y": [
          null
         ],
         "yaxis": "y"
        },
        {
         "alignmentgroup": "True",
         "hovertemplate": "MEDIA POSTED=1.7k�(1545)<br>BRAND=%{x}<br>CATEGORIES 2=%{y}<extra></extra>",
         "legendgroup": "1.7k�(1545)",
         "marker": {
          "color": "#00cc96"
         },
         "name": "1.7k�(1545)",
         "offsetgroup": "1.7k�(1545)",
         "orientation": "v",
         "showlegend": true,
         "textposition": "auto",
         "type": "bar",
         "x": [
          "Louis Vuitton Official"
         ],
         "xaxis": "x",
         "y": [
          "luxury"
         ],
         "yaxis": "y"
        },
        {
         "alignmentgroup": "True",
         "hovertemplate": "MEDIA POSTED=27.1k�(3)<br>BRAND=%{x}<br>CATEGORIES 2=%{y}<extra></extra>",
         "legendgroup": "27.1k�(3)",
         "marker": {
          "color": "#ab63fa"
         },
         "name": "27.1k�(3)",
         "offsetgroup": "27.1k�(3)",
         "orientation": "v",
         "showlegend": true,
         "textposition": "auto",
         "type": "bar",
         "x": [
          "snoopdogg"
         ],
         "xaxis": "x",
         "y": [
          "musicians"
         ],
         "yaxis": "y"
        },
        {
         "alignmentgroup": "True",
         "hovertemplate": "MEDIA POSTED=505�(3856)<br>BRAND=%{x}<br>CATEGORIES 2=%{y}<extra></extra>",
         "legendgroup": "505�(3856)",
         "marker": {
          "color": "#FFA15A"
         },
         "name": "505�(3856)",
         "offsetgroup": "505�(3856)",
         "orientation": "v",
         "showlegend": true,
         "textposition": "auto",
         "type": "bar",
         "x": [
          "Floyd Mayweather"
         ],
         "xaxis": "x",
         "y": [
          "athletes"
         ],
         "yaxis": "y"
        },
        {
         "alignmentgroup": "True",
         "hovertemplate": "MEDIA POSTED=2.9k�(776)<br>BRAND=%{x}<br>CATEGORIES 2=%{y}<extra></extra>",
         "legendgroup": "2.9k�(776)",
         "marker": {
          "color": "#19d3f3"
         },
         "name": "2.9k�(776)",
         "offsetgroup": "2.9k�(776)",
         "orientation": "v",
         "showlegend": true,
         "textposition": "auto",
         "type": "bar",
         "x": [
          "Vogue"
         ],
         "xaxis": "x",
         "y": [
          null
         ],
         "yaxis": "y"
        },
        {
         "alignmentgroup": "True",
         "hovertemplate": "MEDIA POSTED=577�(3639)<br>BRAND=%{x}<br>CATEGORIES 2=%{y}<extra></extra>",
         "legendgroup": "577�(3639)",
         "marker": {
          "color": "#FF6692"
         },
         "name": "577�(3639)",
         "offsetgroup": "577�(3639)",
         "orientation": "v",
         "showlegend": true,
         "textposition": "auto",
         "type": "bar",
         "x": [
          "Sergio Ramos"
         ],
         "xaxis": "x",
         "y": [
          "athletes"
         ],
         "yaxis": "y"
        },
        {
         "alignmentgroup": "True",
         "hovertemplate": "MEDIA POSTED=2.1k�(1177)<br>BRAND=%{x}<br>CATEGORIES 2=%{y}<extra></extra>",
         "legendgroup": "2.1k�(1177)",
         "marker": {
          "color": "#B6E880"
         },
         "name": "2.1k�(1177)",
         "offsetgroup": "2.1k�(1177)",
         "orientation": "v",
         "showlegend": true,
         "textposition": "auto",
         "type": "bar",
         "x": [
          "Tata Werneck"
         ],
         "xaxis": "x",
         "y": [
          "tv"
         ],
         "yaxis": "y"
        },
        {
         "alignmentgroup": "True",
         "hovertemplate": "MEDIA POSTED=3.2k�(667)<br>BRAND=%{x}<br>CATEGORIES 2=%{y}<extra></extra>",
         "legendgroup": "3.2k�(667)",
         "marker": {
          "color": "#FF97FF"
         },
         "name": "3.2k�(667)",
         "offsetgroup": "3.2k�(667)",
         "orientation": "v",
         "showlegend": true,
         "textposition": "auto",
         "type": "bar",
         "x": [
          "Daddy Yankee"
         ],
         "xaxis": "x",
         "y": [
          "musicians"
         ],
         "yaxis": "y"
        },
        {
         "alignmentgroup": "True",
         "hovertemplate": "MEDIA POSTED=1.5k�(1784)<br>BRAND=%{x}<br>CATEGORIES 2=%{y}<extra></extra>",
         "legendgroup": "1.5k�(1784)",
         "marker": {
          "color": "#FECB52"
         },
         "name": "1.5k�(1784)",
         "offsetgroup": "1.5k�(1784)",
         "orientation": "v",
         "showlegend": true,
         "textposition": "auto",
         "type": "bar",
         "x": [
          "Victoria Beckham"
         ],
         "xaxis": "x",
         "y": [
          "entrepreneurs"
         ],
         "yaxis": "y"
        },
        {
         "alignmentgroup": "True",
         "hovertemplate": "MEDIA POSTED=1.9k�(1356)<br>BRAND=%{x}<br>CATEGORIES 2=%{y}<extra></extra>",
         "legendgroup": "1.9k�(1356)",
         "marker": {
          "color": "#636efa"
         },
         "name": "1.9k�(1356)",
         "offsetgroup": "1.9k�(1356)",
         "orientation": "v",
         "showlegend": true,
         "textposition": "auto",
         "type": "bar",
         "x": [
          "Dior Official"
         ],
         "xaxis": "x",
         "y": [
          "luxury"
         ],
         "yaxis": "y"
        },
        {
         "alignmentgroup": "True",
         "hovertemplate": "MEDIA POSTED=3.3k�(636)<br>BRAND=%{x}<br>CATEGORIES 2=%{y}<extra></extra>",
         "legendgroup": "3.3k�(636)",
         "marker": {
          "color": "#EF553B"
         },
         "name": "3.3k�(636)",
         "offsetgroup": "3.3k�(636)",
         "orientation": "v",
         "showlegend": true,
         "textposition": "auto",
         "type": "bar",
         "x": [
          "M�A�C Cosmetics"
         ],
         "xaxis": "x",
         "y": [
          "retail"
         ],
         "yaxis": "y"
        },
        {
         "alignmentgroup": "True",
         "hovertemplate": "MEDIA POSTED=718�(3207)<br>BRAND=%{x}<br>CATEGORIES 2=%{y}<extra></extra>",
         "legendgroup": "718�(3207)",
         "marker": {
          "color": "#00cc96"
         },
         "name": "718�(3207)",
         "offsetgroup": "718�(3207)",
         "orientation": "v",
         "showlegend": true,
         "textposition": "auto",
         "type": "bar",
         "x": [
          "Channing Tatum"
         ],
         "xaxis": "x",
         "y": [
          "actors"
         ],
         "yaxis": "y"
        },
        {
         "alignmentgroup": "True",
         "hovertemplate": "MEDIA POSTED=133�(5050)<br>BRAND=%{x}<br>CATEGORIES 2=%{y}<extra></extra>",
         "legendgroup": "133�(5050)",
         "marker": {
          "color": "#ab63fa"
         },
         "name": "133�(5050)",
         "offsetgroup": "133�(5050)",
         "orientation": "v",
         "showlegend": true,
         "textposition": "auto",
         "type": "bar",
         "x": [
          "Robert Downey Jr."
         ],
         "xaxis": "x",
         "y": [
          "tv"
         ],
         "yaxis": "y"
        },
        {
         "alignmentgroup": "True",
         "hovertemplate": "MEDIA POSTED=3.6k�(551)<br>BRAND=%{x}<br>CATEGORIES 2=%{y}<extra></extra>",
         "legendgroup": "3.6k�(551)",
         "marker": {
          "color": "#FFA15A"
         },
         "name": "3.6k�(551)",
         "offsetgroup": "3.6k�(551)",
         "orientation": "v",
         "showlegend": true,
         "textposition": "auto",
         "type": "bar",
         "x": [
          "elliegoulding"
         ],
         "xaxis": "x",
         "y": [
          "musicians"
         ],
         "yaxis": "y"
        },
        {
         "alignmentgroup": "True",
         "hovertemplate": "MEDIA POSTED=1.4k�(1836)<br>BRAND=%{x}<br>CATEGORIES 2=%{y}<extra></extra>",
         "legendgroup": "1.4k�(1836)",
         "marker": {
          "color": "#19d3f3"
         },
         "name": "1.4k�(1836)",
         "offsetgroup": "1.4k�(1836)",
         "orientation": "v",
         "showlegend": true,
         "textposition": "auto",
         "type": "bar",
         "x": [
          "50 Cent"
         ],
         "xaxis": "x",
         "y": [
          "musicians"
         ],
         "yaxis": "y"
        },
        {
         "alignmentgroup": "True",
         "hovertemplate": "MEDIA POSTED=1.3k�(2054)<br>BRAND=%{x}<br>CATEGORIES 2=%{y}<extra></extra>",
         "legendgroup": "1.3k�(2054)",
         "marker": {
          "color": "#FF6692"
         },
         "name": "1.3k�(2054)",
         "offsetgroup": "1.3k�(2054)",
         "orientation": "v",
         "showlegend": true,
         "textposition": "auto",
         "type": "bar",
         "x": [
          "Starbucks Coffee"
         ],
         "xaxis": "x",
         "y": [
          null
         ],
         "yaxis": "y"
        },
        {
         "alignmentgroup": "True",
         "hovertemplate": "MEDIA POSTED=8.9k�(67)<br>BRAND=%{x}<br>CATEGORIES 2=%{y}<extra></extra>",
         "legendgroup": "8.9k�(67)",
         "marker": {
          "color": "#B6E880"
         },
         "name": "8.9k�(67)",
         "offsetgroup": "8.9k�(67)",
         "orientation": "v",
         "showlegend": true,
         "textposition": "auto",
         "type": "bar",
         "x": [
          "Anastasia Beverly Hills"
         ],
         "xaxis": "x",
         "y": [
          null
         ],
         "yaxis": "y"
        },
        {
         "alignmentgroup": "True",
         "hovertemplate": "MEDIA POSTED=2.7k�(876)<br>BRAND=%{x}<br>CATEGORIES 2=%{y}<extra></extra>",
         "legendgroup": "2.7k�(876)",
         "marker": {
          "color": "#FF97FF"
         },
         "name": "2.7k�(876)",
         "offsetgroup": "2.7k�(876)",
         "orientation": "v",
         "showlegend": true,
         "textposition": "auto",
         "type": "bar",
         "x": [
          "Luan Santana"
         ],
         "xaxis": "x",
         "y": [
          "musicians"
         ],
         "yaxis": "y"
        },
        {
         "alignmentgroup": "True",
         "hovertemplate": "MEDIA POSTED=2.4k�(1020)<br>BRAND=%{x}<br>CATEGORIES 2=%{y}<extra></extra>",
         "legendgroup": "2.4k�(1020)",
         "marker": {
          "color": "#FECB52"
         },
         "name": "2.4k�(1020)",
         "offsetgroup": "2.4k�(1020)",
         "orientation": "v",
         "showlegend": true,
         "textposition": "auto",
         "type": "bar",
         "x": [
          "Chloe Grace Moretz"
         ],
         "xaxis": "x",
         "y": [
          "actors"
         ],
         "yaxis": "y"
        },
        {
         "alignmentgroup": "True",
         "hovertemplate": "MEDIA POSTED=1k�(2496)<br>BRAND=%{x}<br>CATEGORIES 2=%{y}<extra></extra>",
         "legendgroup": "1k�(2496)",
         "marker": {
          "color": "#636efa"
         },
         "name": "1k�(2496)",
         "offsetgroup": "1k�(2496)",
         "orientation": "v",
         "showlegend": true,
         "textposition": "auto",
         "type": "bar",
         "x": [
          "adidas"
         ],
         "xaxis": "x",
         "y": [
          "sport"
         ],
         "yaxis": "y"
        },
        {
         "alignmentgroup": "True",
         "hovertemplate": "MEDIA POSTED=3.8k�(496)<br>BRAND=%{x}<br>CATEGORIES 2=%{y}<extra></extra>",
         "legendgroup": "3.8k�(496)",
         "marker": {
          "color": "#EF553B"
         },
         "name": "3.8k�(496)",
         "offsetgroup": "3.8k�(496)",
         "orientation": "v",
         "showlegend": true,
         "textposition": "auto",
         "type": "bar",
         "x": [
          "forever21"
         ],
         "xaxis": "x",
         "y": [
          null
         ],
         "yaxis": "y"
        },
        {
         "alignmentgroup": "True",
         "hovertemplate": "MEDIA POSTED=2.6k�(899)<br>BRAND=%{x}<br>CATEGORIES 2=%{y}<extra></extra>",
         "legendgroup": "2.6k�(899)",
         "marker": {
          "color": "#00cc96"
         },
         "name": "2.6k�(899)",
         "offsetgroup": "2.6k�(899)",
         "orientation": "v",
         "showlegend": true,
         "textposition": "auto",
         "type": "bar",
         "x": [
          "Gucci"
         ],
         "xaxis": "x",
         "y": [
          "luxury"
         ],
         "yaxis": "y"
        },
        {
         "alignmentgroup": "True",
         "hovertemplate": "MEDIA POSTED=148�(5008)<br>BRAND=%{x}<br>CATEGORIES 2=%{y}<extra></extra>",
         "legendgroup": "148�(5008)",
         "marker": {
          "color": "#ab63fa"
         },
         "name": "148�(5008)",
         "offsetgroup": "148�(5008)",
         "orientation": "v",
         "showlegend": true,
         "textposition": "auto",
         "type": "bar",
         "x": [
          "Louis Tomlinson"
         ],
         "xaxis": "x",
         "y": [
          "musicians"
         ],
         "yaxis": "y"
        },
        {
         "alignmentgroup": "True",
         "hovertemplate": "MEDIA POSTED=1.9k�(1366)<br>BRAND=%{x}<br>CATEGORIES 2=%{y}<extra></extra>",
         "legendgroup": "1.9k�(1366)",
         "marker": {
          "color": "#FFA15A"
         },
         "name": "1.9k�(1366)",
         "offsetgroup": "1.9k�(1366)",
         "orientation": "v",
         "showlegend": true,
         "textposition": "auto",
         "type": "bar",
         "x": [
          "G-DRAGON"
         ],
         "xaxis": "x",
         "y": [
          "fashion"
         ],
         "yaxis": "y"
        },
        {
         "alignmentgroup": "True",
         "hovertemplate": "MEDIA POSTED=1.7k�(1508)<br>BRAND=%{x}<br>CATEGORIES 2=%{y}<extra></extra>",
         "legendgroup": "1.7k�(1508)",
         "marker": {
          "color": "#19d3f3"
         },
         "name": "1.7k�(1508)",
         "offsetgroup": "1.7k�(1508)",
         "orientation": "v",
         "showlegend": true,
         "textposition": "auto",
         "type": "bar",
         "x": [
          "DanialvesD2 My Twitter"
         ],
         "xaxis": "x",
         "y": [
          "athletes"
         ],
         "yaxis": "y"
        },
        {
         "alignmentgroup": "True",
         "hovertemplate": "MEDIA POSTED=3.9k�(471)<br>BRAND=%{x}<br>CATEGORIES 2=%{y}<extra></extra>",
         "legendgroup": "3.9k�(471)",
         "marker": {
          "color": "#FF6692"
         },
         "name": "3.9k�(471)",
         "offsetgroup": "3.9k�(471)",
         "orientation": "v",
         "showlegend": true,
         "textposition": "auto",
         "type": "bar",
         "x": [
          "Dolce & Gabbana"
         ],
         "xaxis": "x",
         "y": [
          "luxury"
         ],
         "yaxis": "y"
        },
        {
         "alignmentgroup": "True",
         "hovertemplate": "MEDIA POSTED=2.5k�(948)<br>BRAND=%{x}<br>CATEGORIES 2=%{y}<extra></extra>",
         "legendgroup": "2.5k�(948)",
         "marker": {
          "color": "#B6E880"
         },
         "name": "2.5k�(948)",
         "offsetgroup": "2.5k�(948)",
         "orientation": "v",
         "showlegend": true,
         "textposition": "auto",
         "type": "bar",
         "x": [
          "Tyga / T-Raww"
         ],
         "xaxis": "x",
         "y": [
          "musicians"
         ],
         "yaxis": "y"
        },
        {
         "alignmentgroup": "True",
         "hovertemplate": "MEDIA POSTED=396�(4219)<br>BRAND=%{x}<br>CATEGORIES 2=%{y}<extra></extra>",
         "legendgroup": "396�(4219)",
         "marker": {
          "color": "#FF97FF"
         },
         "name": "396�(4219)",
         "offsetgroup": "396�(4219)",
         "orientation": "v",
         "showlegend": true,
         "textposition": "auto",
         "type": "bar",
         "x": [
          "Paul Labile Pogba"
         ],
         "xaxis": "x",
         "y": [
          "athletes"
         ],
         "yaxis": "y"
        },
        {
         "alignmentgroup": "True",
         "hovertemplate": "MEDIA POSTED=231�(4753)<br>BRAND=%{x}<br>CATEGORIES 2=%{y}<extra></extra>",
         "legendgroup": "231�(4753)",
         "marker": {
          "color": "#FECB52"
         },
         "name": "231�(4753)",
         "offsetgroup": "231�(4753)",
         "orientation": "v",
         "showlegend": true,
         "textposition": "auto",
         "type": "bar",
         "x": [
          "Barack Obama"
         ],
         "xaxis": "x",
         "y": [
          "political"
         ],
         "yaxis": "y"
        }
       ],
       "layout": {
        "barmode": "relative",
        "legend": {
         "title": {
          "text": "MEDIA POSTED"
         },
         "tracegroupgap": 0
        },
        "margin": {
         "t": 60
        },
        "template": {
         "data": {
          "bar": [
           {
            "error_x": {
             "color": "#f2f5fa"
            },
            "error_y": {
             "color": "#f2f5fa"
            },
            "marker": {
             "line": {
              "color": "rgb(17,17,17)",
              "width": 0.5
             }
            },
            "type": "bar"
           }
          ],
          "barpolar": [
           {
            "marker": {
             "line": {
              "color": "rgb(17,17,17)",
              "width": 0.5
             }
            },
            "type": "barpolar"
           }
          ],
          "carpet": [
           {
            "aaxis": {
             "endlinecolor": "#A2B1C6",
             "gridcolor": "#506784",
             "linecolor": "#506784",
             "minorgridcolor": "#506784",
             "startlinecolor": "#A2B1C6"
            },
            "baxis": {
             "endlinecolor": "#A2B1C6",
             "gridcolor": "#506784",
             "linecolor": "#506784",
             "minorgridcolor": "#506784",
             "startlinecolor": "#A2B1C6"
            },
            "type": "carpet"
           }
          ],
          "choropleth": [
           {
            "colorbar": {
             "outlinewidth": 0,
             "ticks": ""
            },
            "type": "choropleth"
           }
          ],
          "contour": [
           {
            "colorbar": {
             "outlinewidth": 0,
             "ticks": ""
            },
            "colorscale": [
             [
              0,
              "#0d0887"
             ],
             [
              0.1111111111111111,
              "#46039f"
             ],
             [
              0.2222222222222222,
              "#7201a8"
             ],
             [
              0.3333333333333333,
              "#9c179e"
             ],
             [
              0.4444444444444444,
              "#bd3786"
             ],
             [
              0.5555555555555556,
              "#d8576b"
             ],
             [
              0.6666666666666666,
              "#ed7953"
             ],
             [
              0.7777777777777778,
              "#fb9f3a"
             ],
             [
              0.8888888888888888,
              "#fdca26"
             ],
             [
              1,
              "#f0f921"
             ]
            ],
            "type": "contour"
           }
          ],
          "contourcarpet": [
           {
            "colorbar": {
             "outlinewidth": 0,
             "ticks": ""
            },
            "type": "contourcarpet"
           }
          ],
          "heatmap": [
           {
            "colorbar": {
             "outlinewidth": 0,
             "ticks": ""
            },
            "colorscale": [
             [
              0,
              "#0d0887"
             ],
             [
              0.1111111111111111,
              "#46039f"
             ],
             [
              0.2222222222222222,
              "#7201a8"
             ],
             [
              0.3333333333333333,
              "#9c179e"
             ],
             [
              0.4444444444444444,
              "#bd3786"
             ],
             [
              0.5555555555555556,
              "#d8576b"
             ],
             [
              0.6666666666666666,
              "#ed7953"
             ],
             [
              0.7777777777777778,
              "#fb9f3a"
             ],
             [
              0.8888888888888888,
              "#fdca26"
             ],
             [
              1,
              "#f0f921"
             ]
            ],
            "type": "heatmap"
           }
          ],
          "heatmapgl": [
           {
            "colorbar": {
             "outlinewidth": 0,
             "ticks": ""
            },
            "colorscale": [
             [
              0,
              "#0d0887"
             ],
             [
              0.1111111111111111,
              "#46039f"
             ],
             [
              0.2222222222222222,
              "#7201a8"
             ],
             [
              0.3333333333333333,
              "#9c179e"
             ],
             [
              0.4444444444444444,
              "#bd3786"
             ],
             [
              0.5555555555555556,
              "#d8576b"
             ],
             [
              0.6666666666666666,
              "#ed7953"
             ],
             [
              0.7777777777777778,
              "#fb9f3a"
             ],
             [
              0.8888888888888888,
              "#fdca26"
             ],
             [
              1,
              "#f0f921"
             ]
            ],
            "type": "heatmapgl"
           }
          ],
          "histogram": [
           {
            "marker": {
             "colorbar": {
              "outlinewidth": 0,
              "ticks": ""
             }
            },
            "type": "histogram"
           }
          ],
          "histogram2d": [
           {
            "colorbar": {
             "outlinewidth": 0,
             "ticks": ""
            },
            "colorscale": [
             [
              0,
              "#0d0887"
             ],
             [
              0.1111111111111111,
              "#46039f"
             ],
             [
              0.2222222222222222,
              "#7201a8"
             ],
             [
              0.3333333333333333,
              "#9c179e"
             ],
             [
              0.4444444444444444,
              "#bd3786"
             ],
             [
              0.5555555555555556,
              "#d8576b"
             ],
             [
              0.6666666666666666,
              "#ed7953"
             ],
             [
              0.7777777777777778,
              "#fb9f3a"
             ],
             [
              0.8888888888888888,
              "#fdca26"
             ],
             [
              1,
              "#f0f921"
             ]
            ],
            "type": "histogram2d"
           }
          ],
          "histogram2dcontour": [
           {
            "colorbar": {
             "outlinewidth": 0,
             "ticks": ""
            },
            "colorscale": [
             [
              0,
              "#0d0887"
             ],
             [
              0.1111111111111111,
              "#46039f"
             ],
             [
              0.2222222222222222,
              "#7201a8"
             ],
             [
              0.3333333333333333,
              "#9c179e"
             ],
             [
              0.4444444444444444,
              "#bd3786"
             ],
             [
              0.5555555555555556,
              "#d8576b"
             ],
             [
              0.6666666666666666,
              "#ed7953"
             ],
             [
              0.7777777777777778,
              "#fb9f3a"
             ],
             [
              0.8888888888888888,
              "#fdca26"
             ],
             [
              1,
              "#f0f921"
             ]
            ],
            "type": "histogram2dcontour"
           }
          ],
          "mesh3d": [
           {
            "colorbar": {
             "outlinewidth": 0,
             "ticks": ""
            },
            "type": "mesh3d"
           }
          ],
          "parcoords": [
           {
            "line": {
             "colorbar": {
              "outlinewidth": 0,
              "ticks": ""
             }
            },
            "type": "parcoords"
           }
          ],
          "pie": [
           {
            "automargin": true,
            "type": "pie"
           }
          ],
          "scatter": [
           {
            "marker": {
             "line": {
              "color": "#283442"
             }
            },
            "type": "scatter"
           }
          ],
          "scatter3d": [
           {
            "line": {
             "colorbar": {
              "outlinewidth": 0,
              "ticks": ""
             }
            },
            "marker": {
             "colorbar": {
              "outlinewidth": 0,
              "ticks": ""
             }
            },
            "type": "scatter3d"
           }
          ],
          "scattercarpet": [
           {
            "marker": {
             "colorbar": {
              "outlinewidth": 0,
              "ticks": ""
             }
            },
            "type": "scattercarpet"
           }
          ],
          "scattergeo": [
           {
            "marker": {
             "colorbar": {
              "outlinewidth": 0,
              "ticks": ""
             }
            },
            "type": "scattergeo"
           }
          ],
          "scattergl": [
           {
            "marker": {
             "line": {
              "color": "#283442"
             }
            },
            "type": "scattergl"
           }
          ],
          "scattermapbox": [
           {
            "marker": {
             "colorbar": {
              "outlinewidth": 0,
              "ticks": ""
             }
            },
            "type": "scattermapbox"
           }
          ],
          "scatterpolar": [
           {
            "marker": {
             "colorbar": {
              "outlinewidth": 0,
              "ticks": ""
             }
            },
            "type": "scatterpolar"
           }
          ],
          "scatterpolargl": [
           {
            "marker": {
             "colorbar": {
              "outlinewidth": 0,
              "ticks": ""
             }
            },
            "type": "scatterpolargl"
           }
          ],
          "scatterternary": [
           {
            "marker": {
             "colorbar": {
              "outlinewidth": 0,
              "ticks": ""
             }
            },
            "type": "scatterternary"
           }
          ],
          "surface": [
           {
            "colorbar": {
             "outlinewidth": 0,
             "ticks": ""
            },
            "colorscale": [
             [
              0,
              "#0d0887"
             ],
             [
              0.1111111111111111,
              "#46039f"
             ],
             [
              0.2222222222222222,
              "#7201a8"
             ],
             [
              0.3333333333333333,
              "#9c179e"
             ],
             [
              0.4444444444444444,
              "#bd3786"
             ],
             [
              0.5555555555555556,
              "#d8576b"
             ],
             [
              0.6666666666666666,
              "#ed7953"
             ],
             [
              0.7777777777777778,
              "#fb9f3a"
             ],
             [
              0.8888888888888888,
              "#fdca26"
             ],
             [
              1,
              "#f0f921"
             ]
            ],
            "type": "surface"
           }
          ],
          "table": [
           {
            "cells": {
             "fill": {
              "color": "#506784"
             },
             "line": {
              "color": "rgb(17,17,17)"
             }
            },
            "header": {
             "fill": {
              "color": "#2a3f5f"
             },
             "line": {
              "color": "rgb(17,17,17)"
             }
            },
            "type": "table"
           }
          ]
         },
         "layout": {
          "annotationdefaults": {
           "arrowcolor": "#f2f5fa",
           "arrowhead": 0,
           "arrowwidth": 1
          },
          "autotypenumbers": "strict",
          "coloraxis": {
           "colorbar": {
            "outlinewidth": 0,
            "ticks": ""
           }
          },
          "colorscale": {
           "diverging": [
            [
             0,
             "#8e0152"
            ],
            [
             0.1,
             "#c51b7d"
            ],
            [
             0.2,
             "#de77ae"
            ],
            [
             0.3,
             "#f1b6da"
            ],
            [
             0.4,
             "#fde0ef"
            ],
            [
             0.5,
             "#f7f7f7"
            ],
            [
             0.6,
             "#e6f5d0"
            ],
            [
             0.7,
             "#b8e186"
            ],
            [
             0.8,
             "#7fbc41"
            ],
            [
             0.9,
             "#4d9221"
            ],
            [
             1,
             "#276419"
            ]
           ],
           "sequential": [
            [
             0,
             "#0d0887"
            ],
            [
             0.1111111111111111,
             "#46039f"
            ],
            [
             0.2222222222222222,
             "#7201a8"
            ],
            [
             0.3333333333333333,
             "#9c179e"
            ],
            [
             0.4444444444444444,
             "#bd3786"
            ],
            [
             0.5555555555555556,
             "#d8576b"
            ],
            [
             0.6666666666666666,
             "#ed7953"
            ],
            [
             0.7777777777777778,
             "#fb9f3a"
            ],
            [
             0.8888888888888888,
             "#fdca26"
            ],
            [
             1,
             "#f0f921"
            ]
           ],
           "sequentialminus": [
            [
             0,
             "#0d0887"
            ],
            [
             0.1111111111111111,
             "#46039f"
            ],
            [
             0.2222222222222222,
             "#7201a8"
            ],
            [
             0.3333333333333333,
             "#9c179e"
            ],
            [
             0.4444444444444444,
             "#bd3786"
            ],
            [
             0.5555555555555556,
             "#d8576b"
            ],
            [
             0.6666666666666666,
             "#ed7953"
            ],
            [
             0.7777777777777778,
             "#fb9f3a"
            ],
            [
             0.8888888888888888,
             "#fdca26"
            ],
            [
             1,
             "#f0f921"
            ]
           ]
          },
          "colorway": [
           "#636efa",
           "#EF553B",
           "#00cc96",
           "#ab63fa",
           "#FFA15A",
           "#19d3f3",
           "#FF6692",
           "#B6E880",
           "#FF97FF",
           "#FECB52"
          ],
          "font": {
           "color": "#f2f5fa"
          },
          "geo": {
           "bgcolor": "rgb(17,17,17)",
           "lakecolor": "rgb(17,17,17)",
           "landcolor": "rgb(17,17,17)",
           "showlakes": true,
           "showland": true,
           "subunitcolor": "#506784"
          },
          "hoverlabel": {
           "align": "left"
          },
          "hovermode": "closest",
          "mapbox": {
           "style": "dark"
          },
          "paper_bgcolor": "rgb(17,17,17)",
          "plot_bgcolor": "rgb(17,17,17)",
          "polar": {
           "angularaxis": {
            "gridcolor": "#506784",
            "linecolor": "#506784",
            "ticks": ""
           },
           "bgcolor": "rgb(17,17,17)",
           "radialaxis": {
            "gridcolor": "#506784",
            "linecolor": "#506784",
            "ticks": ""
           }
          },
          "scene": {
           "xaxis": {
            "backgroundcolor": "rgb(17,17,17)",
            "gridcolor": "#506784",
            "gridwidth": 2,
            "linecolor": "#506784",
            "showbackground": true,
            "ticks": "",
            "zerolinecolor": "#C8D4E3"
           },
           "yaxis": {
            "backgroundcolor": "rgb(17,17,17)",
            "gridcolor": "#506784",
            "gridwidth": 2,
            "linecolor": "#506784",
            "showbackground": true,
            "ticks": "",
            "zerolinecolor": "#C8D4E3"
           },
           "zaxis": {
            "backgroundcolor": "rgb(17,17,17)",
            "gridcolor": "#506784",
            "gridwidth": 2,
            "linecolor": "#506784",
            "showbackground": true,
            "ticks": "",
            "zerolinecolor": "#C8D4E3"
           }
          },
          "shapedefaults": {
           "line": {
            "color": "#f2f5fa"
           }
          },
          "sliderdefaults": {
           "bgcolor": "#C8D4E3",
           "bordercolor": "rgb(17,17,17)",
           "borderwidth": 1,
           "tickwidth": 0
          },
          "ternary": {
           "aaxis": {
            "gridcolor": "#506784",
            "linecolor": "#506784",
            "ticks": ""
           },
           "baxis": {
            "gridcolor": "#506784",
            "linecolor": "#506784",
            "ticks": ""
           },
           "bgcolor": "rgb(17,17,17)",
           "caxis": {
            "gridcolor": "#506784",
            "linecolor": "#506784",
            "ticks": ""
           }
          },
          "title": {
           "x": 0.05
          },
          "updatemenudefaults": {
           "bgcolor": "#506784",
           "borderwidth": 0
          },
          "xaxis": {
           "automargin": true,
           "gridcolor": "#283442",
           "linecolor": "#506784",
           "ticks": "",
           "title": {
            "standoff": 15
           },
           "zerolinecolor": "#283442",
           "zerolinewidth": 2
          },
          "yaxis": {
           "automargin": true,
           "gridcolor": "#283442",
           "linecolor": "#506784",
           "ticks": "",
           "title": {
            "standoff": 15
           },
           "zerolinecolor": "#283442",
           "zerolinewidth": 2
          }
         }
        },
        "xaxis": {
         "anchor": "y",
         "domain": [
          0,
          1
         ],
         "title": {
          "text": "BRAND"
         }
        },
        "yaxis": {
         "anchor": "x",
         "domain": [
          0,
          1
         ],
         "title": {
          "text": "CATEGORIES 2"
         }
        }
       }
      }
     },
     "metadata": {},
     "output_type": "display_data"
    }
   ],
   "source": [
    "px.bar(data_frame = df, x ='BRAND', y ='CATEGORIES 2' ,color= 'MEDIA POSTED' , template='plotly_dark')"
   ]
  },
  {
   "cell_type": "code",
   "execution_count": 83,
   "metadata": {},
   "outputs": [
    {
     "data": {
      "application/vnd.plotly.v1+json": {
       "config": {
        "plotlyServerURL": "https://plot.ly"
       },
       "data": [
        {
         "alignmentgroup": "True",
         "hovertemplate": "iPOSTS ON HASHTAG=14.5M�(48)<br>BRAND=%{x}<br>CATEGORIES 1=%{y}<extra></extra>",
         "legendgroup": "14.5M�(48)",
         "marker": {
          "color": "#636efa"
         },
         "name": "14.5M�(48)",
         "offsetgroup": "14.5M�(48)",
         "orientation": "v",
         "showlegend": true,
         "textposition": "auto",
         "type": "bar",
         "x": [
          "Selena Gomez"
         ],
         "xaxis": "x",
         "y": [
          "celebrities"
         ],
         "yaxis": "y"
        },
        {
         "alignmentgroup": "True",
         "hovertemplate": "iPOSTS ON HASHTAG=10.5M�(66)<br>BRAND=%{x}<br>CATEGORIES 1=%{y}<extra></extra>",
         "legendgroup": "10.5M�(66)",
         "marker": {
          "color": "#EF553B"
         },
         "name": "10.5M�(66)",
         "offsetgroup": "10.5M�(66)",
         "orientation": "v",
         "showlegend": true,
         "textposition": "auto",
         "type": "bar",
         "x": [
          "Taylor Swift"
         ],
         "xaxis": "x",
         "y": [
          "celebrities"
         ],
         "yaxis": "y"
        },
        {
         "alignmentgroup": "True",
         "hovertemplate": "iPOSTS ON HASHTAG=16.9M�(41)<br>BRAND=%{x}<br>CATEGORIES 1=%{y}<extra></extra>",
         "legendgroup": "16.9M�(41)",
         "marker": {
          "color": "#00cc96"
         },
         "name": "16.9M�(41)",
         "offsetgroup": "16.9M�(41)",
         "orientation": "v",
         "showlegend": true,
         "textposition": "auto",
         "type": "bar",
         "x": [
          "Ariana Grande"
         ],
         "xaxis": "x",
         "y": [
          "celebrities"
         ],
         "yaxis": "y"
        },
        {
         "alignmentgroup": "True",
         "hovertemplate": "iPOSTS ON HASHTAG=9.2M�(70)<br>BRAND=%{x}<br>CATEGORIES 1=%{y}<extra></extra>",
         "legendgroup": "9.2M�(70)",
         "marker": {
          "color": "#ab63fa"
         },
         "name": "9.2M�(70)",
         "offsetgroup": "9.2M�(70)",
         "orientation": "v",
         "showlegend": true,
         "textposition": "auto",
         "type": "bar",
         "x": [
          "Beyonce"
         ],
         "xaxis": "x",
         "y": [
          "celebrities"
         ],
         "yaxis": "y"
        },
        {
         "alignmentgroup": "True",
         "hovertemplate": "iPOSTS ON HASHTAG=5.1M�(130)<br>BRAND=%{x}<br>CATEGORIES 1=%{y}<extra></extra>",
         "legendgroup": "5.1M�(130)",
         "marker": {
          "color": "#FFA15A"
         },
         "name": "5.1M�(130)",
         "offsetgroup": "5.1M�(130)",
         "orientation": "v",
         "showlegend": true,
         "textposition": "auto",
         "type": "bar",
         "x": [
          "Kim Kardashian West"
         ],
         "xaxis": "x",
         "y": [
          "celebrities"
         ],
         "yaxis": "y"
        },
        {
         "alignmentgroup": "True",
         "hovertemplate": "iPOSTS ON HASHTAG=3.6M�(176)<br>BRAND=%{x}<br>CATEGORIES 1=%{y}<extra></extra>",
         "legendgroup": "3.6M�(176)",
         "marker": {
          "color": "#19d3f3"
         },
         "name": "3.6M�(176)",
         "offsetgroup": "3.6M�(176)",
         "orientation": "v",
         "showlegend": true,
         "textposition": "auto",
         "type": "bar",
         "x": [
          "Cristiano Ronaldo"
         ],
         "xaxis": "x",
         "y": [
          "celebrities"
         ],
         "yaxis": "y"
        },
        {
         "alignmentgroup": "True",
         "hovertemplate": "iPOSTS ON HASHTAG=6.2M�(103)<br>BRAND=%{x}<br>CATEGORIES 1=%{y}<extra></extra>",
         "legendgroup": "6.2M�(103)",
         "marker": {
          "color": "#FF6692"
         },
         "name": "6.2M�(103)",
         "offsetgroup": "6.2M�(103)",
         "orientation": "v",
         "showlegend": true,
         "textposition": "auto",
         "type": "bar",
         "x": [
          "Kylie"
         ],
         "xaxis": "x",
         "y": [
          "celebrities"
         ],
         "yaxis": "y"
        },
        {
         "alignmentgroup": "True",
         "hovertemplate": "iPOSTS ON HASHTAG=26.2M�(19)<br>BRAND=%{x}<br>CATEGORIES 1=%{y}<extra></extra>",
         "legendgroup": "26.2M�(19)",
         "marker": {
          "color": "#B6E880"
         },
         "name": "26.2M�(19)",
         "offsetgroup": "26.2M�(19)",
         "orientation": "v",
         "showlegend": true,
         "textposition": "auto",
         "type": "bar",
         "x": [
          "Justin Bieber"
         ],
         "xaxis": "x",
         "y": [
          "celebrities"
         ],
         "yaxis": "y"
        },
        {
         "alignmentgroup": "True",
         "hovertemplate": "iPOSTS ON HASHTAG=1.1M�(450)<br>BRAND=%{x}<br>CATEGORIES 1=%{y}<extra></extra>",
         "legendgroup": "1.1M�(450)",
         "marker": {
          "color": "#FF97FF"
         },
         "name": "1.1M�(450)",
         "offsetgroup": "1.1M�(450)",
         "orientation": "v",
         "showlegend": true,
         "textposition": "auto",
         "type": "bar",
         "x": [
          "therock"
         ],
         "xaxis": "x",
         "y": [
          "celebrities"
         ],
         "yaxis": "y"
        },
        {
         "alignmentgroup": "True",
         "hovertemplate": "iPOSTS ON HASHTAG=3.4M�(183)<br>BRAND=%{x}<br>CATEGORIES 1=%{y}<extra></extra>",
         "legendgroup": "3.4M�(183)",
         "marker": {
          "color": "#FECB52"
         },
         "name": "3.4M�(183)",
         "offsetgroup": "3.4M�(183)",
         "orientation": "v",
         "showlegend": true,
         "textposition": "auto",
         "type": "bar",
         "x": [
          "Kendall"
         ],
         "xaxis": "x",
         "y": [
          "celebrities"
         ],
         "yaxis": "y"
        },
        {
         "alignmentgroup": "True",
         "hovertemplate": "iPOSTS ON HASHTAG=3.7M�(172)<br>BRAND=%{x}<br>CATEGORIES 1=%{y}<extra></extra>",
         "legendgroup": "3.7M�(172)",
         "marker": {
          "color": "#636efa"
         },
         "name": "3.7M�(172)",
         "offsetgroup": "3.7M�(172)",
         "orientation": "v",
         "showlegend": true,
         "textposition": "auto",
         "type": "bar",
         "x": [
          "Nicki Minaj"
         ],
         "xaxis": "x",
         "y": [
          "celebrities"
         ],
         "yaxis": "y"
        },
        {
         "alignmentgroup": "True",
         "hovertemplate": "iPOSTS ON HASHTAG=50.6M�(5)<br>BRAND=%{x}<br>CATEGORIES 1=%{y}<extra></extra>",
         "legendgroup": "50.6M�(5)",
         "marker": {
          "color": "#EF553B"
         },
         "name": "50.6M�(5)",
         "offsetgroup": "50.6M�(5)",
         "orientation": "v",
         "showlegend": true,
         "textposition": "auto",
         "type": "bar",
         "x": [
          "nike"
         ],
         "xaxis": "x",
         "y": [
          "fashion"
         ],
         "yaxis": "y"
        },
        {
         "alignmentgroup": "True",
         "hovertemplate": "iPOSTS ON HASHTAG=5.3M�(123)<br>BRAND=%{x}<br>CATEGORIES 1=%{y}<extra></extra>",
         "legendgroup": "5.3M�(123)",
         "marker": {
          "color": "#00cc96"
         },
         "name": "5.3M�(123)",
         "offsetgroup": "5.3M�(123)",
         "orientation": "v",
         "showlegend": true,
         "textposition": "auto",
         "type": "bar",
         "x": [
          "National Geographic"
         ],
         "xaxis": "x",
         "y": [
          "media"
         ],
         "yaxis": "y"
        },
        {
         "alignmentgroup": "True",
         "hovertemplate": "iPOSTS ON HASHTAG=3.3M�(188)<br>BRAND=%{x}<br>CATEGORIES 1=%{y}<extra></extra>",
         "legendgroup": "3.3M�(188)",
         "marker": {
          "color": "#ab63fa"
         },
         "name": "3.3M�(188)",
         "offsetgroup": "3.3M�(188)",
         "orientation": "v",
         "showlegend": true,
         "textposition": "auto",
         "type": "bar",
         "x": [
          "Nj"
         ],
         "xaxis": "x",
         "y": [
          "celebrities"
         ],
         "yaxis": "y"
        },
        {
         "alignmentgroup": "True",
         "hovertemplate": "iPOSTS ON HASHTAG=5.1M�(134)<br>BRAND=%{x}<br>CATEGORIES 1=%{y}<extra></extra>",
         "legendgroup": "5.1M�(134)",
         "marker": {
          "color": "#FFA15A"
         },
         "name": "5.1M�(134)",
         "offsetgroup": "5.1M�(134)",
         "orientation": "v",
         "showlegend": true,
         "textposition": "auto",
         "type": "bar",
         "x": [
          "Leo Messi"
         ],
         "xaxis": "x",
         "y": [
          "celebrities"
         ],
         "yaxis": "y"
        },
        {
         "alignmentgroup": "True",
         "hovertemplate": "iPOSTS ON HASHTAG=1.4M�(363)<br>BRAND=%{x}<br>CATEGORIES 1=%{y}<extra></extra>",
         "legendgroup": "1.4M�(363)",
         "marker": {
          "color": "#19d3f3"
         },
         "name": "1.4M�(363)",
         "offsetgroup": "1.4M�(363)",
         "orientation": "v",
         "showlegend": true,
         "textposition": "auto",
         "type": "bar",
         "x": [
          "Khloe"
         ],
         "xaxis": "x",
         "y": [
          "celebrities"
         ],
         "yaxis": "y"
        },
        {
         "alignmentgroup": "True",
         "hovertemplate": "iPOSTS ON HASHTAG=3.3M�(189)<br>BRAND=%{x}<br>CATEGORIES 1=%{y}<extra></extra>",
         "legendgroup": "3.3M�(189)",
         "marker": {
          "color": "#FF6692"
         },
         "name": "3.3M�(189)",
         "offsetgroup": "3.3M�(189)",
         "orientation": "v",
         "showlegend": true,
         "textposition": "auto",
         "type": "bar",
         "x": [
          "KATY PERRY"
         ],
         "xaxis": "x",
         "y": [
          "celebrities"
         ],
         "yaxis": "y"
        },
        {
         "alignmentgroup": "True",
         "hovertemplate": "iPOSTS ON HASHTAG=6M�(106)<br>BRAND=%{x}<br>CATEGORIES 1=%{y}<extra></extra>",
         "legendgroup": "6M�(106)",
         "marker": {
          "color": "#B6E880"
         },
         "name": "6M�(106)",
         "offsetgroup": "6M�(106)",
         "orientation": "v",
         "showlegend": true,
         "textposition": "auto",
         "type": "bar",
         "x": [
          "Miley Cyrus"
         ],
         "xaxis": "x",
         "y": [
          "celebrities"
         ],
         "yaxis": "y"
        },
        {
         "alignmentgroup": "True",
         "hovertemplate": "iPOSTS ON HASHTAG=1.2M�(428)<br>BRAND=%{x}<br>CATEGORIES 1=%{y}<extra></extra>",
         "legendgroup": "1.2M�(428)",
         "marker": {
          "color": "#FF97FF"
         },
         "name": "1.2M�(428)",
         "offsetgroup": "1.2M�(428)",
         "orientation": "v",
         "showlegend": true,
         "textposition": "auto",
         "type": "bar",
         "x": [
          "Jennifer Lopez"
         ],
         "xaxis": "x",
         "y": [
          "celebrities"
         ],
         "yaxis": "y"
        },
        {
         "alignmentgroup": "True",
         "hovertemplate": "iPOSTS ON HASHTAG=6M�(108)<br>BRAND=%{x}<br>CATEGORIES 1=%{y}<extra></extra>",
         "legendgroup": "6M�(108)",
         "marker": {
          "color": "#FECB52"
         },
         "name": "6M�(108)",
         "offsetgroup": "6M�(108)",
         "orientation": "v",
         "showlegend": true,
         "textposition": "auto",
         "type": "bar",
         "x": [
          "Demi Lovato"
         ],
         "xaxis": "x",
         "y": [
          "celebrities"
         ],
         "yaxis": "y"
        },
        {
         "alignmentgroup": "True",
         "hovertemplate": "iPOSTS ON HASHTAG=1M�(479)<br>BRAND=%{x}<br>CATEGORIES 1=%{y}<extra></extra>",
         "legendgroup": "1M�(479)",
         "marker": {
          "color": "#636efa"
         },
         "name": "1M�(479)",
         "offsetgroup": "1M�(479)",
         "orientation": "v",
         "showlegend": true,
         "textposition": "auto",
         "type": "bar",
         "x": [
          "Kourtney Kardashian"
         ],
         "xaxis": "x",
         "y": [
          "celebrities"
         ],
         "yaxis": "y"
        },
        {
         "alignmentgroup": "True",
         "hovertemplate": "iPOSTS ON HASHTAG=3.5M�(178)<br>BRAND=%{x}<br>CATEGORIES 1=%{y}<extra></extra>",
         "legendgroup": "3.5M�(178)",
         "marker": {
          "color": "#EF553B"
         },
         "name": "3.5M�(178)",
         "offsetgroup": "3.5M�(178)",
         "orientation": "v",
         "showlegend": true,
         "textposition": "auto",
         "type": "bar",
         "x": [
          "Victoria's Secret"
         ],
         "xaxis": "x",
         "y": [
          "fashion"
         ],
         "yaxis": "y"
        },
        {
         "alignmentgroup": "True",
         "hovertemplate": "iPOSTS ON HASHTAG=1.1M�(447)<br>BRAND=%{x}<br>CATEGORIES 1=%{y}<extra></extra>",
         "legendgroup": "1.1M�(447)",
         "marker": {
          "color": "#00cc96"
         },
         "name": "1.1M�(447)",
         "offsetgroup": "1.1M�(447)",
         "orientation": "v",
         "showlegend": true,
         "textposition": "auto",
         "type": "bar",
         "x": [
          "badgalriri"
         ],
         "xaxis": "x",
         "y": [
          "celebrities"
         ],
         "yaxis": "y"
        },
        {
         "alignmentgroup": "True",
         "hovertemplate": "iPOSTS ON HASHTAG=805.8k�(551)<br>BRAND=%{x}<br>CATEGORIES 1=%{y}<extra></extra>",
         "legendgroup": "805.8k�(551)",
         "marker": {
          "color": "#ab63fa"
         },
         "name": "805.8k�(551)",
         "offsetgroup": "805.8k�(551)",
         "orientation": "v",
         "showlegend": true,
         "textposition": "auto",
         "type": "bar",
         "x": [
          "Kevin Hart"
         ],
         "xaxis": "x",
         "y": [
          "celebrities"
         ],
         "yaxis": "y"
        },
        {
         "alignmentgroup": "True",
         "hovertemplate": "iPOSTS ON HASHTAG=2.9M�(212)<br>BRAND=%{x}<br>CATEGORIES 1=%{y}<extra></extra>",
         "legendgroup": "2.9M�(212)",
         "marker": {
          "color": "#FFA15A"
         },
         "name": "2.9M�(212)",
         "offsetgroup": "2.9M�(212)",
         "orientation": "v",
         "showlegend": true,
         "textposition": "auto",
         "type": "bar",
         "x": [
          "FC Barcelona"
         ],
         "xaxis": "x",
         "y": [
          "sport"
         ],
         "yaxis": "y"
        },
        {
         "alignmentgroup": "True",
         "hovertemplate": "iPOSTS ON HASHTAG=6.6M�(99)<br>BRAND=%{x}<br>CATEGORIES 1=%{y}<extra></extra>",
         "legendgroup": "6.6M�(99)",
         "marker": {
          "color": "#19d3f3"
         },
         "name": "6.6M�(99)",
         "offsetgroup": "6.6M�(99)",
         "orientation": "v",
         "showlegend": true,
         "textposition": "auto",
         "type": "bar",
         "x": [
          "Real Madrid C.F."
         ],
         "xaxis": "x",
         "y": [
          "sport"
         ],
         "yaxis": "y"
        },
        {
         "alignmentgroup": "True",
         "hovertemplate": "iPOSTS ON HASHTAG=1.2M�(434)<br>BRAND=%{x}<br>CATEGORIES 1=%{y}<extra></extra>",
         "legendgroup": "1.2M�(434)",
         "marker": {
          "color": "#FF6692"
         },
         "name": "1.2M�(434)",
         "offsetgroup": "1.2M�(434)",
         "orientation": "v",
         "showlegend": true,
         "textposition": "auto",
         "type": "bar",
         "x": [
          "Justin Timberlake"
         ],
         "xaxis": "x",
         "y": [
          "celebrities"
         ],
         "yaxis": "y"
        },
        {
         "alignmentgroup": "True",
         "hovertemplate": "iPOSTS ON HASHTAG=236.9k�(1114)<br>BRAND=%{x}<br>CATEGORIES 1=%{y}<extra></extra>",
         "legendgroup": "236.9k�(1114)",
         "marker": {
          "color": "#B6E880"
         },
         "name": "236.9k�(1114)",
         "offsetgroup": "236.9k�(1114)",
         "orientation": "v",
         "showlegend": true,
         "textposition": "auto",
         "type": "bar",
         "x": [
          "Ellen"
         ],
         "xaxis": "x",
         "y": [
          "celebrities"
         ],
         "yaxis": "y"
        },
        {
         "alignmentgroup": "True",
         "hovertemplate": "iPOSTS ON HASHTAG=1.5M�(346)<br>BRAND=%{x}<br>CATEGORIES 1=%{y}<extra></extra>",
         "legendgroup": "1.5M�(346)",
         "marker": {
          "color": "#FF97FF"
         },
         "name": "1.5M�(346)",
         "offsetgroup": "1.5M�(346)",
         "orientation": "v",
         "showlegend": true,
         "textposition": "auto",
         "type": "bar",
         "x": [
          "Cara Delevingne"
         ],
         "xaxis": "x",
         "y": [
          "celebrities"
         ],
         "yaxis": "y"
        },
        {
         "alignmentgroup": "True",
         "hovertemplate": "iPOSTS ON HASHTAG=511.4k�(726)<br>BRAND=%{x}<br>CATEGORIES 1=%{y}<extra></extra>",
         "legendgroup": "511.4k�(726)",
         "marker": {
          "color": "#FECB52"
         },
         "name": "511.4k�(726)",
         "offsetgroup": "511.4k�(726)",
         "orientation": "v",
         "showlegend": true,
         "textposition": "auto",
         "type": "bar",
         "x": [
          "Zendaya"
         ],
         "xaxis": "x",
         "y": [
          "celebrities"
         ],
         "yaxis": "y"
        },
        {
         "alignmentgroup": "True",
         "hovertemplate": "iPOSTS ON HASHTAG=1.5M�(341)<br>BRAND=%{x}<br>CATEGORIES 1=%{y}<extra></extra>",
         "legendgroup": "1.5M�(341)",
         "marker": {
          "color": "#636efa"
         },
         "name": "1.5M�(341)",
         "offsetgroup": "1.5M�(341)",
         "orientation": "v",
         "showlegend": true,
         "textposition": "auto",
         "type": "bar",
         "x": [
          "9gag"
         ],
         "xaxis": "x",
         "y": [
          "entertainment"
         ],
         "yaxis": "y"
        },
        {
         "alignmentgroup": "True",
         "hovertemplate": "iPOSTS ON HASHTAG=430.1k�(803)<br>BRAND=%{x}<br>CATEGORIES 1=%{y}<extra></extra>",
         "legendgroup": "430.1k�(803)",
         "marker": {
          "color": "#EF553B"
         },
         "name": "430.1k�(803)",
         "offsetgroup": "430.1k�(803)",
         "orientation": "v",
         "showlegend": true,
         "textposition": "auto",
         "type": "bar",
         "x": [
          "David Beckham"
         ],
         "xaxis": "x",
         "y": [
          "celebrities"
         ],
         "yaxis": "y"
        },
        {
         "alignmentgroup": "True",
         "hovertemplate": "iPOSTS ON HASHTAG=306.9k�(966)<br>BRAND=%{x}<br>CATEGORIES 1=%{y}<extra></extra>",
         "legendgroup": "306.9k�(966)",
         "marker": {
          "color": "#00cc96"
         },
         "name": "306.9k�(966)",
         "offsetgroup": "306.9k�(966)",
         "orientation": "v",
         "showlegend": true,
         "textposition": "auto",
         "type": "bar",
         "x": [
          "champagnepapi"
         ],
         "xaxis": "x",
         "y": [
          "celebrities"
         ],
         "yaxis": "y"
        },
        {
         "alignmentgroup": "True",
         "hovertemplate": "iPOSTS ON HASHTAG=394k�(844)<br>BRAND=%{x}<br>CATEGORIES 1=%{y}<extra></extra>",
         "legendgroup": "394k�(844)",
         "marker": {
          "color": "#ab63fa"
         },
         "name": "394k�(844)",
         "offsetgroup": "394k�(844)",
         "orientation": "v",
         "showlegend": true,
         "textposition": "auto",
         "type": "bar",
         "x": [
          "Vin Diesel"
         ],
         "xaxis": "x",
         "y": [
          "celebrities"
         ],
         "yaxis": "y"
        },
        {
         "alignmentgroup": "True",
         "hovertemplate": "iPOSTS ON HASHTAG=771k�(572)<br>BRAND=%{x}<br>CATEGORIES 1=%{y}<extra></extra>",
         "legendgroup": "771k�(572)",
         "marker": {
          "color": "#FFA15A"
         },
         "name": "771k�(572)",
         "offsetgroup": "771k�(572)",
         "orientation": "v",
         "showlegend": true,
         "textposition": "auto",
         "type": "bar",
         "x": [
          "Shakira"
         ],
         "xaxis": "x",
         "y": [
          "celebrities"
         ],
         "yaxis": "y"
        },
        {
         "alignmentgroup": "True",
         "hovertemplate": "iPOSTS ON HASHTAG=537.1k�(707)<br>BRAND=%{x}<br>CATEGORIES 1=%{y}<extra></extra>",
         "legendgroup": "537.1k�(707)",
         "marker": {
          "color": "#19d3f3"
         },
         "name": "537.1k�(707)",
         "offsetgroup": "537.1k�(707)",
         "orientation": "v",
         "showlegend": true,
         "textposition": "auto",
         "type": "bar",
         "x": [
          "James Rodr�guez"
         ],
         "xaxis": "x",
         "y": [
          "celebrities"
         ],
         "yaxis": "y"
        },
        {
         "alignmentgroup": "True",
         "hovertemplate": "iPOSTS ON HASHTAG=1.6M�(338)<br>BRAND=%{x}<br>CATEGORIES 1=%{y}<extra></extra>",
         "legendgroup": "1.6M�(338)",
         "marker": {
          "color": "#FF6692"
         },
         "name": "1.6M�(338)",
         "offsetgroup": "1.6M�(338)",
         "orientation": "v",
         "showlegend": true,
         "textposition": "auto",
         "type": "bar",
         "x": [
          "Gigi Hadid"
         ],
         "xaxis": "x",
         "y": [
          "celebrities"
         ],
         "yaxis": "y"
        },
        {
         "alignmentgroup": "True",
         "hovertemplate": "iPOSTS ON HASHTAG=2.5M�(242)<br>BRAND=%{x}<br>CATEGORIES 1=%{y}<extra></extra>",
         "legendgroup": "2.5M�(242)",
         "marker": {
          "color": "#B6E880"
         },
         "name": "2.5M�(242)",
         "offsetgroup": "2.5M�(242)",
         "orientation": "v",
         "showlegend": true,
         "textposition": "auto",
         "type": "bar",
         "x": [
          "LeBron James"
         ],
         "xaxis": "x",
         "y": [
          "celebrities"
         ],
         "yaxis": "y"
        },
        {
         "alignmentgroup": "True",
         "hovertemplate": "iPOSTS ON HASHTAG=399.2k�(832)<br>BRAND=%{x}<br>CATEGORIES 1=%{y}<extra></extra>",
         "legendgroup": "399.2k�(832)",
         "marker": {
          "color": "#FF97FF"
         },
         "name": "399.2k�(832)",
         "offsetgroup": "399.2k�(832)",
         "orientation": "v",
         "showlegend": true,
         "textposition": "auto",
         "type": "bar",
         "x": [
          "Gareth Bale"
         ],
         "xaxis": "x",
         "y": [
          "celebrities"
         ],
         "yaxis": "y"
        },
        {
         "alignmentgroup": "True",
         "hovertemplate": "iPOSTS ON HASHTAG=471k�(761)<br>BRAND=%{x}<br>CATEGORIES 1=%{y}<extra></extra>",
         "legendgroup": "471k�(761)",
         "marker": {
          "color": "#FECB52"
         },
         "name": "471k�(761)",
         "offsetgroup": "471k�(761)",
         "orientation": "v",
         "showlegend": true,
         "textposition": "auto",
         "type": "bar",
         "x": [
          "Nike Football (Soccer)"
         ],
         "xaxis": "x",
         "y": [
          "fashion"
         ],
         "yaxis": "y"
        },
        {
         "alignmentgroup": "True",
         "hovertemplate": "iPOSTS ON HASHTAG=508.5k�(729)<br>BRAND=%{x}<br>CATEGORIES 1=%{y}<extra></extra>",
         "legendgroup": "508.5k�(729)",
         "marker": {
          "color": "#636efa"
         },
         "name": "508.5k�(729)",
         "offsetgroup": "508.5k�(729)",
         "orientation": "v",
         "showlegend": true,
         "textposition": "auto",
         "type": "bar",
         "x": [
          "Zac Efron"
         ],
         "xaxis": "x",
         "y": [
          "celebrities"
         ],
         "yaxis": "y"
        },
        {
         "alignmentgroup": "True",
         "hovertemplate": "iPOSTS ON HASHTAG=301.9k�(979)<br>BRAND=%{x}<br>CATEGORIES 1=%{y}<extra></extra>",
         "legendgroup": "301.9k�(979)",
         "marker": {
          "color": "#EF553B"
         },
         "name": "301.9k�(979)",
         "offsetgroup": "301.9k�(979)",
         "orientation": "v",
         "showlegend": true,
         "textposition": "auto",
         "type": "bar",
         "x": [
          "Vanessa Hudgens"
         ],
         "xaxis": "x",
         "y": [
          "celebrities"
         ],
         "yaxis": "y"
        },
        {
         "alignmentgroup": "True",
         "hovertemplate": "iPOSTS ON HASHTAG=78k�(1737)<br>BRAND=%{x}<br>CATEGORIES 1=%{y}<extra></extra>",
         "legendgroup": "78k�(1737)",
         "marker": {
          "color": "#00cc96"
         },
         "name": "78k�(1737)",
         "offsetgroup": "78k�(1737)",
         "orientation": "v",
         "showlegend": true,
         "textposition": "auto",
         "type": "bar",
         "x": [
          "IAmZlatan"
         ],
         "xaxis": "x",
         "y": [
          "celebrities"
         ],
         "yaxis": "y"
        },
        {
         "alignmentgroup": "True",
         "hovertemplate": "iPOSTS ON HASHTAG=1M�(466)<br>BRAND=%{x}<br>CATEGORIES 1=%{y}<extra></extra>",
         "legendgroup": "1M�(466)",
         "marker": {
          "color": "#ab63fa"
         },
         "name": "1M�(466)",
         "offsetgroup": "1M�(466)",
         "orientation": "v",
         "showlegend": true,
         "textposition": "auto",
         "type": "bar",
         "x": [
          "Emma Watson"
         ],
         "xaxis": "x",
         "y": [
          "celebrities"
         ],
         "yaxis": "y"
        },
        {
         "alignmentgroup": "True",
         "hovertemplate": "iPOSTS ON HASHTAG=3.9M�(167)<br>BRAND=%{x}<br>CATEGORIES 1=%{y}<extra></extra>",
         "legendgroup": "3.9M�(167)",
         "marker": {
          "color": "#FFA15A"
         },
         "name": "3.9M�(167)",
         "offsetgroup": "3.9M�(167)",
         "orientation": "v",
         "showlegend": true,
         "textposition": "auto",
         "type": "bar",
         "x": [
          "xoxo, Joanne"
         ],
         "xaxis": "x",
         "y": [
          "celebrities"
         ],
         "yaxis": "y"
        },
        {
         "alignmentgroup": "True",
         "hovertemplate": "iPOSTS ON HASHTAG=8.7M�(73)<br>BRAND=%{x}<br>CATEGORIES 1=%{y}<extra></extra>",
         "legendgroup": "8.7M�(73)",
         "marker": {
          "color": "#19d3f3"
         },
         "name": "8.7M�(73)",
         "offsetgroup": "8.7M�(73)",
         "orientation": "v",
         "showlegend": true,
         "textposition": "auto",
         "type": "bar",
         "x": [
          "NBA"
         ],
         "xaxis": "x",
         "y": [
          "sport"
         ],
         "yaxis": "y"
        },
        {
         "alignmentgroup": "True",
         "hovertemplate": "iPOSTS ON HASHTAG=33.4M�(15)<br>BRAND=%{x}<br>CATEGORIES 1=%{y}<extra></extra>",
         "legendgroup": "33.4M�(15)",
         "marker": {
          "color": "#FF6692"
         },
         "name": "33.4M�(15)",
         "offsetgroup": "33.4M�(15)",
         "orientation": "v",
         "showlegend": true,
         "textposition": "auto",
         "type": "bar",
         "x": [
          "harrystyles"
         ],
         "xaxis": "x",
         "y": [
          "celebrities"
         ],
         "yaxis": "y"
        },
        {
         "alignmentgroup": "True",
         "hovertemplate": "iPOSTS ON HASHTAG=220.4k�(1158)<br>BRAND=%{x}<br>CATEGORIES 1=%{y}<extra></extra>",
         "legendgroup": "220.4k�(1158)",
         "marker": {
          "color": "#B6E880"
         },
         "name": "220.4k�(1158)",
         "offsetgroup": "220.4k�(1158)",
         "orientation": "v",
         "showlegend": true,
         "textposition": "auto",
         "type": "bar",
         "x": [
          "Scott Disick"
         ],
         "xaxis": "x",
         "y": [
          "celebrities"
         ],
         "yaxis": "y"
        },
        {
         "alignmentgroup": "True",
         "hovertemplate": "iPOSTS ON HASHTAG=10.5k�(2939)<br>BRAND=%{x}<br>CATEGORIES 1=%{y}<extra></extra>",
         "legendgroup": "10.5k�(2939)",
         "marker": {
          "color": "#FF97FF"
         },
         "name": "10.5k�(2939)",
         "offsetgroup": "10.5k�(2939)",
         "orientation": "v",
         "showlegend": true,
         "textposition": "auto",
         "type": "bar",
         "x": [
          "Luis Suarez"
         ],
         "xaxis": "x",
         "y": [
          "celebrities"
         ],
         "yaxis": "y"
        },
        {
         "alignmentgroup": "True",
         "hovertemplate": "iPOSTS ON HASHTAG=28.2M�(17)<br>BRAND=%{x}<br>CATEGORIES 1=%{y}<extra></extra>",
         "legendgroup": "28.2M�(17)",
         "marker": {
          "color": "#FECB52"
         },
         "name": "28.2M�(17)",
         "offsetgroup": "28.2M�(17)",
         "orientation": "v",
         "showlegend": true,
         "textposition": "auto",
         "type": "bar",
         "x": [
          "Niall Horan"
         ],
         "xaxis": "x",
         "y": [
          "celebrities"
         ],
         "yaxis": "y"
        },
        {
         "alignmentgroup": "True",
         "hovertemplate": "iPOSTS ON HASHTAG=1.4M�(369)<br>BRAND=%{x}<br>CATEGORIES 1=%{y}<extra></extra>",
         "legendgroup": "1.4M�(369)",
         "marker": {
          "color": "#636efa"
         },
         "name": "1.4M�(369)",
         "offsetgroup": "1.4M�(369)",
         "orientation": "v",
         "showlegend": true,
         "textposition": "auto",
         "type": "bar",
         "x": [
          "NASA"
         ],
         "xaxis": "x",
         "y": [
          "other"
         ],
         "yaxis": "y"
        },
        {
         "alignmentgroup": "True",
         "hovertemplate": "iPOSTS ON HASHTAG=5.4M�(121)<br>BRAND=%{x}<br>CATEGORIES 1=%{y}<extra></extra>",
         "legendgroup": "5.4M�(121)",
         "marker": {
          "color": "#EF553B"
         },
         "name": "5.4M�(121)",
         "offsetgroup": "5.4M�(121)",
         "orientation": "v",
         "showlegend": true,
         "textposition": "auto",
         "type": "bar",
         "x": [
          "H&M"
         ],
         "xaxis": "x",
         "y": [
          "fashion"
         ],
         "yaxis": "y"
        },
        {
         "alignmentgroup": "True",
         "hovertemplate": "iPOSTS ON HASHTAG=53.1k�(2002)<br>BRAND=%{x}<br>CATEGORIES 1=%{y}<extra></extra>",
         "legendgroup": "53.1k�(2002)",
         "marker": {
          "color": "#00cc96"
         },
         "name": "53.1k�(2002)",
         "offsetgroup": "53.1k�(2002)",
         "orientation": "v",
         "showlegend": true,
         "textposition": "auto",
         "type": "bar",
         "x": [
          "Bruna Marquezine _"
         ],
         "xaxis": "x",
         "y": [
          "celebrities"
         ],
         "yaxis": "y"
        },
        {
         "alignmentgroup": "True",
         "hovertemplate": "iPOSTS ON HASHTAG=51.2M�(4)<br>BRAND=%{x}<br>CATEGORIES 1=%{y}<extra></extra>",
         "legendgroup": "51.2M�(4)",
         "marker": {
          "color": "#ab63fa"
         },
         "name": "51.2M�(4)",
         "offsetgroup": "51.2M�(4)",
         "orientation": "v",
         "showlegend": true,
         "textposition": "auto",
         "type": "bar",
         "x": [
          "One Direction"
         ],
         "xaxis": "x",
         "y": [
          "celebrities"
         ],
         "yaxis": "y"
        },
        {
         "alignmentgroup": "True",
         "hovertemplate": "iPOSTS ON HASHTAG=46.5M�(8)<br>BRAND=%{x}<br>CATEGORIES 1=%{y}<extra></extra>",
         "legendgroup": "46.5M�(8)",
         "marker": {
          "color": "#FFA15A"
         },
         "name": "46.5M�(8)",
         "offsetgroup": "46.5M�(8)",
         "orientation": "v",
         "showlegend": true,
         "textposition": "auto",
         "type": "bar",
         "x": [
          "CHANEL"
         ],
         "xaxis": "x",
         "y": [
          "fashion"
         ],
         "yaxis": "y"
        },
        {
         "alignmentgroup": "True",
         "hovertemplate": "iPOSTS ON HASHTAG=2.2M�(260)<br>BRAND=%{x}<br>CATEGORIES 1=%{y}<extra></extra>",
         "legendgroup": "2.2M�(260)",
         "marker": {
          "color": "#19d3f3"
         },
         "name": "2.2M�(260)",
         "offsetgroup": "2.2M�(260)",
         "orientation": "v",
         "showlegend": true,
         "textposition": "auto",
         "type": "bar",
         "x": [
          "Shawn Mendes"
         ],
         "xaxis": "x",
         "y": [
          "celebrities"
         ],
         "yaxis": "y"
        },
        {
         "alignmentgroup": "True",
         "hovertemplate": "iPOSTS ON HASHTAG=743.2k�(576)<br>BRAND=%{x}<br>CATEGORIES 1=%{y}<extra></extra>",
         "legendgroup": "743.2k�(576)",
         "marker": {
          "color": "#FF6692"
         },
         "name": "743.2k�(576)",
         "offsetgroup": "743.2k�(576)",
         "orientation": "v",
         "showlegend": true,
         "textposition": "auto",
         "type": "bar",
         "x": [
          "Lucy Hale"
         ],
         "xaxis": "x",
         "y": [
          "celebrities"
         ],
         "yaxis": "y"
        },
        {
         "alignmentgroup": "True",
         "hovertemplate": "iPOSTS ON HASHTAG=447.7k�(786)<br>BRAND=%{x}<br>CATEGORIES 1=%{y}<extra></extra>",
         "legendgroup": "447.7k�(786)",
         "marker": {
          "color": "#B6E880"
         },
         "name": "447.7k�(786)",
         "offsetgroup": "447.7k�(786)",
         "orientation": "v",
         "showlegend": true,
         "textposition": "auto",
         "type": "bar",
         "x": [
          "euanitta"
         ],
         "xaxis": "x",
         "y": [
          "celebrities"
         ],
         "yaxis": "y"
        },
        {
         "alignmentgroup": "True",
         "hovertemplate": "iPOSTS ON HASHTAG=660.3k�(632)<br>BRAND=%{x}<br>CATEGORIES 1=%{y}<extra></extra>",
         "legendgroup": "660.3k�(632)",
         "marker": {
          "color": "#FF97FF"
         },
         "name": "660.3k�(632)",
         "offsetgroup": "660.3k�(632)",
         "orientation": "v",
         "showlegend": true,
         "textposition": "auto",
         "type": "bar",
         "x": [
          "Karim Benzema"
         ],
         "xaxis": "x",
         "y": [
          "celebrities"
         ],
         "yaxis": "y"
        },
        {
         "alignmentgroup": "True",
         "hovertemplate": "iPOSTS ON HASHTAG=68.5k�(1838)<br>BRAND=%{x}<br>CATEGORIES 1=%{y}<extra></extra>",
         "legendgroup": "68.5k�(1838)",
         "marker": {
          "color": "#FECB52"
         },
         "name": "68.5k�(1838)",
         "offsetgroup": "68.5k�(1838)",
         "orientation": "v",
         "showlegend": true,
         "textposition": "auto",
         "type": "bar",
         "x": [
          "Marina Ruy Barbosa"
         ],
         "xaxis": "x",
         "y": [
          "celebrities"
         ],
         "yaxis": "y"
        },
        {
         "alignmentgroup": "True",
         "hovertemplate": "iPOSTS ON HASHTAG=3M�(199)<br>BRAND=%{x}<br>CATEGORIES 1=%{y}<extra></extra>",
         "legendgroup": "3M�(199)",
         "marker": {
          "color": "#636efa"
         },
         "name": "3M�(199)",
         "offsetgroup": "3M�(199)",
         "orientation": "v",
         "showlegend": true,
         "textposition": "auto",
         "type": "bar",
         "x": [
          "adidas Originals"
         ],
         "xaxis": "x",
         "y": [
          "fashion"
         ],
         "yaxis": "y"
        },
        {
         "alignmentgroup": "True",
         "hovertemplate": "iPOSTS ON HASHTAG=260.6k�(1068)<br>BRAND=%{x}<br>CATEGORIES 1=%{y}<extra></extra>",
         "legendgroup": "260.6k�(1068)",
         "marker": {
          "color": "#EF553B"
         },
         "name": "260.6k�(1068)",
         "offsetgroup": "260.6k�(1068)",
         "orientation": "v",
         "showlegend": true,
         "textposition": "auto",
         "type": "bar",
         "x": [
          "David Luiz"
         ],
         "xaxis": "x",
         "y": [
          "celebrities"
         ],
         "yaxis": "y"
        },
        {
         "alignmentgroup": "True",
         "hovertemplate": "iPOSTS ON HASHTAG=432.6k�(802)<br>BRAND=%{x}<br>CATEGORIES 1=%{y}<extra></extra>",
         "legendgroup": "432.6k�(802)",
         "marker": {
          "color": "#00cc96"
         },
         "name": "432.6k�(802)",
         "offsetgroup": "432.6k�(802)",
         "orientation": "v",
         "showlegend": true,
         "textposition": "auto",
         "type": "bar",
         "x": [
          "Andres Iniesta"
         ],
         "xaxis": "x",
         "y": [
          "celebrities"
         ],
         "yaxis": "y"
        },
        {
         "alignmentgroup": "True",
         "hovertemplate": "iPOSTS ON HASHTAG=728.6k�(584)<br>BRAND=%{x}<br>CATEGORIES 1=%{y}<extra></extra>",
         "legendgroup": "728.6k�(584)",
         "marker": {
          "color": "#ab63fa"
         },
         "name": "728.6k�(584)",
         "offsetgroup": "728.6k�(584)",
         "orientation": "v",
         "showlegend": true,
         "textposition": "auto",
         "type": "bar",
         "x": [
          "Ashley Benson"
         ],
         "xaxis": "x",
         "y": [
          "celebrities"
         ],
         "yaxis": "y"
        },
        {
         "alignmentgroup": "True",
         "hovertemplate": "iPOSTS ON HASHTAG=13k�(2812)<br>BRAND=%{x}<br>CATEGORIES 1=%{y}<extra></extra>",
         "legendgroup": "13k�(2812)",
         "marker": {
          "color": "#FFA15A"
         },
         "name": "13k�(2812)",
         "offsetgroup": "13k�(2812)",
         "orientation": "v",
         "showlegend": true,
         "textposition": "auto",
         "type": "bar",
         "x": [
          "ZARA Official"
         ],
         "xaxis": "x",
         "y": [
          "fashion"
         ],
         "yaxis": "y"
        },
        {
         "alignmentgroup": "True",
         "hovertemplate": "iPOSTS ON HASHTAG=902.9k�(517)<br>BRAND=%{x}<br>CATEGORIES 1=%{y}<extra></extra>",
         "legendgroup": "902.9k�(517)",
         "marker": {
          "color": "#19d3f3"
         },
         "name": "902.9k�(517)",
         "offsetgroup": "902.9k�(517)",
         "orientation": "v",
         "showlegend": true,
         "textposition": "auto",
         "type": "bar",
         "x": [
          "Manchester United"
         ],
         "xaxis": "x",
         "y": [
          "sport"
         ],
         "yaxis": "y"
        },
        {
         "alignmentgroup": "True",
         "hovertemplate": "iPOSTS ON HASHTAG=691.6k�(613)<br>BRAND=%{x}<br>CATEGORIES 1=%{y}<extra></extra>",
         "legendgroup": "691.6k�(613)",
         "marker": {
          "color": "#FF6692"
         },
         "name": "691.6k�(613)",
         "offsetgroup": "691.6k�(613)",
         "orientation": "v",
         "showlegend": true,
         "textposition": "auto",
         "type": "bar",
         "x": [
          "Shay Mitchell"
         ],
         "xaxis": "x",
         "y": [
          "celebrities"
         ],
         "yaxis": "y"
        },
        {
         "alignmentgroup": "True",
         "hovertemplate": "iPOSTS ON HASHTAG=601.5k�(666)<br>BRAND=%{x}<br>CATEGORIES 1=%{y}<extra></extra>",
         "legendgroup": "601.5k�(666)",
         "marker": {
          "color": "#B6E880"
         },
         "name": "601.5k�(666)",
         "offsetgroup": "601.5k�(666)",
         "orientation": "v",
         "showlegend": true,
         "textposition": "auto",
         "type": "bar",
         "x": [
          "Marcelo Vieira Jr."
         ],
         "xaxis": "x",
         "y": [
          "celebrities"
         ],
         "yaxis": "y"
        },
        {
         "alignmentgroup": "True",
         "hovertemplate": "iPOSTS ON HASHTAG=296.5k�(993)<br>BRAND=%{x}<br>CATEGORIES 1=%{y}<extra></extra>",
         "legendgroup": "296.5k�(993)",
         "marker": {
          "color": "#FF97FF"
         },
         "name": "296.5k�(993)",
         "offsetgroup": "296.5k�(993)",
         "orientation": "v",
         "showlegend": true,
         "textposition": "auto",
         "type": "bar",
         "x": [
          "BELLA"
         ],
         "xaxis": "x",
         "y": [
          "celebrities"
         ],
         "yaxis": "y"
        },
        {
         "alignmentgroup": "True",
         "hovertemplate": "iPOSTS ON HASHTAG=497.3k�(738)<br>BRAND=%{x}<br>CATEGORIES 1=%{y}<extra></extra>",
         "legendgroup": "497.3k�(738)",
         "marker": {
          "color": "#FECB52"
         },
         "name": "497.3k�(738)",
         "offsetgroup": "497.3k�(738)",
         "orientation": "v",
         "showlegend": true,
         "textposition": "auto",
         "type": "bar",
         "x": [
          "Ciara"
         ],
         "xaxis": "x",
         "y": [
          "celebrities"
         ],
         "yaxis": "y"
        },
        {
         "alignmentgroup": "True",
         "hovertemplate": "iPOSTS ON HASHTAG=1.7M�(322)<br>BRAND=%{x}<br>CATEGORIES 1=%{y}<extra></extra>",
         "legendgroup": "1.7M�(322)",
         "marker": {
          "color": "#636efa"
         },
         "name": "1.7M�(322)",
         "offsetgroup": "1.7M�(322)",
         "orientation": "v",
         "showlegend": true,
         "textposition": "auto",
         "type": "bar",
         "x": [
          "Britney Spears"
         ],
         "xaxis": "x",
         "y": [
          "celebrities"
         ],
         "yaxis": "y"
        },
        {
         "alignmentgroup": "True",
         "hovertemplate": "iPOSTS ON HASHTAG=5.3M�(122)<br>BRAND=%{x}<br>CATEGORIES 1=%{y}<extra></extra>",
         "legendgroup": "5.3M�(122)",
         "marker": {
          "color": "#EF553B"
         },
         "name": "5.3M�(122)",
         "offsetgroup": "5.3M�(122)",
         "orientation": "v",
         "showlegend": true,
         "textposition": "auto",
         "type": "bar",
         "x": [
          "National Geographic Travel"
         ],
         "xaxis": "x",
         "y": [
          "media"
         ],
         "yaxis": "y"
        },
        {
         "alignmentgroup": "True",
         "hovertemplate": "iPOSTS ON HASHTAG=24.3M�(26)<br>BRAND=%{x}<br>CATEGORIES 1=%{y}<extra></extra>",
         "legendgroup": "24.3M�(26)",
         "marker": {
          "color": "#00cc96"
         },
         "name": "24.3M�(26)",
         "offsetgroup": "24.3M�(26)",
         "orientation": "v",
         "showlegend": true,
         "textposition": "auto",
         "type": "bar",
         "x": [
          "Louis Vuitton Official"
         ],
         "xaxis": "x",
         "y": [
          "fashion"
         ],
         "yaxis": "y"
        },
        {
         "alignmentgroup": "True",
         "hovertemplate": "iPOSTS ON HASHTAG=859k�(530)<br>BRAND=%{x}<br>CATEGORIES 1=%{y}<extra></extra>",
         "legendgroup": "859k�(530)",
         "marker": {
          "color": "#ab63fa"
         },
         "name": "859k�(530)",
         "offsetgroup": "859k�(530)",
         "orientation": "v",
         "showlegend": true,
         "textposition": "auto",
         "type": "bar",
         "x": [
          "snoopdogg"
         ],
         "xaxis": "x",
         "y": [
          "celebrities"
         ],
         "yaxis": "y"
        },
        {
         "alignmentgroup": "True",
         "hovertemplate": "iPOSTS ON HASHTAG=323.4k�(941)<br>BRAND=%{x}<br>CATEGORIES 1=%{y}<extra></extra>",
         "legendgroup": "323.4k�(941)",
         "marker": {
          "color": "#FFA15A"
         },
         "name": "323.4k�(941)",
         "offsetgroup": "323.4k�(941)",
         "orientation": "v",
         "showlegend": true,
         "textposition": "auto",
         "type": "bar",
         "x": [
          "Floyd Mayweather"
         ],
         "xaxis": "x",
         "y": [
          "celebrities"
         ],
         "yaxis": "y"
        },
        {
         "alignmentgroup": "True",
         "hovertemplate": "iPOSTS ON HASHTAG=446.7k�(787)<br>BRAND=%{x}<br>CATEGORIES 1=%{y}<extra></extra>",
         "legendgroup": "446.7k�(787)",
         "marker": {
          "color": "#19d3f3"
         },
         "name": "446.7k�(787)",
         "offsetgroup": "446.7k�(787)",
         "orientation": "v",
         "showlegend": true,
         "textposition": "auto",
         "type": "bar",
         "x": [
          "Vogue"
         ],
         "xaxis": "x",
         "y": [
          "media"
         ],
         "yaxis": "y"
        },
        {
         "alignmentgroup": "True",
         "hovertemplate": "iPOSTS ON HASHTAG=517.6k�(718)<br>BRAND=%{x}<br>CATEGORIES 1=%{y}<extra></extra>",
         "legendgroup": "517.6k�(718)",
         "marker": {
          "color": "#FF6692"
         },
         "name": "517.6k�(718)",
         "offsetgroup": "517.6k�(718)",
         "orientation": "v",
         "showlegend": true,
         "textposition": "auto",
         "type": "bar",
         "x": [
          "Sergio Ramos"
         ],
         "xaxis": "x",
         "y": [
          "celebrities"
         ],
         "yaxis": "y"
        },
        {
         "alignmentgroup": "True",
         "hovertemplate": "iPOSTS ON HASHTAG=25.4k�(2420)<br>BRAND=%{x}<br>CATEGORIES 1=%{y}<extra></extra>",
         "legendgroup": "25.4k�(2420)",
         "marker": {
          "color": "#B6E880"
         },
         "name": "25.4k�(2420)",
         "offsetgroup": "25.4k�(2420)",
         "orientation": "v",
         "showlegend": true,
         "textposition": "auto",
         "type": "bar",
         "x": [
          "Tata Werneck"
         ],
         "xaxis": "x",
         "y": [
          "celebrities"
         ],
         "yaxis": "y"
        },
        {
         "alignmentgroup": "True",
         "hovertemplate": "iPOSTS ON HASHTAG=313.7k�(958)<br>BRAND=%{x}<br>CATEGORIES 1=%{y}<extra></extra>",
         "legendgroup": "313.7k�(958)",
         "marker": {
          "color": "#FF97FF"
         },
         "name": "313.7k�(958)",
         "offsetgroup": "313.7k�(958)",
         "orientation": "v",
         "showlegend": true,
         "textposition": "auto",
         "type": "bar",
         "x": [
          "Daddy Yankee"
         ],
         "xaxis": "x",
         "y": [
          "celebrities"
         ],
         "yaxis": "y"
        },
        {
         "alignmentgroup": "True",
         "hovertemplate": "iPOSTS ON HASHTAG=542.5k�(703)<br>BRAND=%{x}<br>CATEGORIES 1=%{y}<extra></extra>",
         "legendgroup": "542.5k�(703)",
         "marker": {
          "color": "#FECB52"
         },
         "name": "542.5k�(703)",
         "offsetgroup": "542.5k�(703)",
         "orientation": "v",
         "showlegend": true,
         "textposition": "auto",
         "type": "bar",
         "x": [
          "Victoria Beckham"
         ],
         "xaxis": "x",
         "y": [
          "celebrities"
         ],
         "yaxis": "y"
        },
        {
         "alignmentgroup": "True",
         "hovertemplate": "iPOSTS ON HASHTAG=34.4M�(11)<br>BRAND=%{x}<br>CATEGORIES 1=%{y}<extra></extra>",
         "legendgroup": "34.4M�(11)",
         "marker": {
          "color": "#636efa"
         },
         "name": "34.4M�(11)",
         "offsetgroup": "34.4M�(11)",
         "orientation": "v",
         "showlegend": true,
         "textposition": "auto",
         "type": "bar",
         "x": [
          "Dior Official"
         ],
         "xaxis": "x",
         "y": [
          "fashion"
         ],
         "yaxis": "y"
        },
        {
         "alignmentgroup": "True",
         "hovertemplate": "iPOSTS ON HASHTAG=7.6M�(87)<br>BRAND=%{x}<br>CATEGORIES 1=%{y}<extra></extra>",
         "legendgroup": "7.6M�(87)",
         "marker": {
          "color": "#EF553B"
         },
         "name": "7.6M�(87)",
         "offsetgroup": "7.6M�(87)",
         "orientation": "v",
         "showlegend": true,
         "textposition": "auto",
         "type": "bar",
         "x": [
          "M�A�C Cosmetics"
         ],
         "xaxis": "x",
         "y": [
          "beauty"
         ],
         "yaxis": "y"
        },
        {
         "alignmentgroup": "True",
         "hovertemplate": "iPOSTS ON HASHTAG=485k�(747)<br>BRAND=%{x}<br>CATEGORIES 1=%{y}<extra></extra>",
         "legendgroup": "485k�(747)",
         "marker": {
          "color": "#00cc96"
         },
         "name": "485k�(747)",
         "offsetgroup": "485k�(747)",
         "orientation": "v",
         "showlegend": true,
         "textposition": "auto",
         "type": "bar",
         "x": [
          "Channing Tatum"
         ],
         "xaxis": "x",
         "y": [
          "celebrities"
         ],
         "yaxis": "y"
        },
        {
         "alignmentgroup": "True",
         "hovertemplate": "iPOSTS ON HASHTAG=818.1k�(544)<br>BRAND=%{x}<br>CATEGORIES 1=%{y}<extra></extra>",
         "legendgroup": "818.1k�(544)",
         "marker": {
          "color": "#ab63fa"
         },
         "name": "818.1k�(544)",
         "offsetgroup": "818.1k�(544)",
         "orientation": "v",
         "showlegend": true,
         "textposition": "auto",
         "type": "bar",
         "x": [
          "Robert Downey Jr."
         ],
         "xaxis": "x",
         "y": [
          "celebrities"
         ],
         "yaxis": "y"
        },
        {
         "alignmentgroup": "True",
         "hovertemplate": "iPOSTS ON HASHTAG=648.9k�(638)<br>BRAND=%{x}<br>CATEGORIES 1=%{y}<extra></extra>",
         "legendgroup": "648.9k�(638)",
         "marker": {
          "color": "#FFA15A"
         },
         "name": "648.9k�(638)",
         "offsetgroup": "648.9k�(638)",
         "orientation": "v",
         "showlegend": true,
         "textposition": "auto",
         "type": "bar",
         "x": [
          "elliegoulding"
         ],
         "xaxis": "x",
         "y": [
          "celebrities"
         ],
         "yaxis": "y"
        },
        {
         "alignmentgroup": "True",
         "hovertemplate": "iPOSTS ON HASHTAG=688.5k�(615)<br>BRAND=%{x}<br>CATEGORIES 1=%{y}<extra></extra>",
         "legendgroup": "688.5k�(615)",
         "marker": {
          "color": "#19d3f3"
         },
         "name": "688.5k�(615)",
         "offsetgroup": "688.5k�(615)",
         "orientation": "v",
         "showlegend": true,
         "textposition": "auto",
         "type": "bar",
         "x": [
          "50 Cent"
         ],
         "xaxis": "x",
         "y": [
          "celebrities"
         ],
         "yaxis": "y"
        },
        {
         "alignmentgroup": "True",
         "hovertemplate": "iPOSTS ON HASHTAG=25.9M�(22)<br>BRAND=%{x}<br>CATEGORIES 1=%{y}<extra></extra>",
         "legendgroup": "25.9M�(22)",
         "marker": {
          "color": "#FF6692"
         },
         "name": "25.9M�(22)",
         "offsetgroup": "25.9M�(22)",
         "orientation": "v",
         "showlegend": true,
         "textposition": "auto",
         "type": "bar",
         "x": [
          "Starbucks Coffee"
         ],
         "xaxis": "x",
         "y": [
          "beverages"
         ],
         "yaxis": "y"
        },
        {
         "alignmentgroup": "True",
         "hovertemplate": "iPOSTS ON HASHTAG=7.7M�(85)<br>BRAND=%{x}<br>CATEGORIES 1=%{y}<extra></extra>",
         "legendgroup": "7.7M�(85)",
         "marker": {
          "color": "#B6E880"
         },
         "name": "7.7M�(85)",
         "offsetgroup": "7.7M�(85)",
         "orientation": "v",
         "showlegend": true,
         "textposition": "auto",
         "type": "bar",
         "x": [
          "Anastasia Beverly Hills"
         ],
         "xaxis": "x",
         "y": [
          "beauty"
         ],
         "yaxis": "y"
        },
        {
         "alignmentgroup": "True",
         "hovertemplate": "iPOSTS ON HASHTAG=590.7k�(671)<br>BRAND=%{x}<br>CATEGORIES 1=%{y}<extra></extra>",
         "legendgroup": "590.7k�(671)",
         "marker": {
          "color": "#FF97FF"
         },
         "name": "590.7k�(671)",
         "offsetgroup": "590.7k�(671)",
         "orientation": "v",
         "showlegend": true,
         "textposition": "auto",
         "type": "bar",
         "x": [
          "Luan Santana"
         ],
         "xaxis": "x",
         "y": [
          "celebrities"
         ],
         "yaxis": "y"
        },
        {
         "alignmentgroup": "True",
         "hovertemplate": "iPOSTS ON HASHTAG=47.6k�(2071)<br>BRAND=%{x}<br>CATEGORIES 1=%{y}<extra></extra>",
         "legendgroup": "47.6k�(2071)",
         "marker": {
          "color": "#FECB52"
         },
         "name": "47.6k�(2071)",
         "offsetgroup": "47.6k�(2071)",
         "orientation": "v",
         "showlegend": true,
         "textposition": "auto",
         "type": "bar",
         "x": [
          "Chloe Grace Moretz"
         ],
         "xaxis": "x",
         "y": [
          "celebrities"
         ],
         "yaxis": "y"
        },
        {
         "alignmentgroup": "True",
         "hovertemplate": "iPOSTS ON HASHTAG=26.3M�(18)<br>BRAND=%{x}<br>CATEGORIES 1=%{y}<extra></extra>",
         "legendgroup": "26.3M�(18)",
         "marker": {
          "color": "#636efa"
         },
         "name": "26.3M�(18)",
         "offsetgroup": "26.3M�(18)",
         "orientation": "v",
         "showlegend": true,
         "textposition": "auto",
         "type": "bar",
         "x": [
          "adidas"
         ],
         "xaxis": "x",
         "y": [
          "fashion"
         ],
         "yaxis": "y"
        },
        {
         "alignmentgroup": "True",
         "hovertemplate": "iPOSTS ON HASHTAG=3.9M�(164)<br>BRAND=%{x}<br>CATEGORIES 1=%{y}<extra></extra>",
         "legendgroup": "3.9M�(164)",
         "marker": {
          "color": "#EF553B"
         },
         "name": "3.9M�(164)",
         "offsetgroup": "3.9M�(164)",
         "orientation": "v",
         "showlegend": true,
         "textposition": "auto",
         "type": "bar",
         "x": [
          "forever21"
         ],
         "xaxis": "x",
         "y": [
          "fashion"
         ],
         "yaxis": "y"
        },
        {
         "alignmentgroup": "True",
         "hovertemplate": "iPOSTS ON HASHTAG=34.2M�(12)<br>BRAND=%{x}<br>CATEGORIES 1=%{y}<extra></extra>",
         "legendgroup": "34.2M�(12)",
         "marker": {
          "color": "#00cc96"
         },
         "name": "34.2M�(12)",
         "offsetgroup": "34.2M�(12)",
         "orientation": "v",
         "showlegend": true,
         "textposition": "auto",
         "type": "bar",
         "x": [
          "Gucci"
         ],
         "xaxis": "x",
         "y": [
          "fashion"
         ],
         "yaxis": "y"
        },
        {
         "alignmentgroup": "True",
         "hovertemplate": "iPOSTS ON HASHTAG=25.5M�(23)<br>BRAND=%{x}<br>CATEGORIES 1=%{y}<extra></extra>",
         "legendgroup": "25.5M�(23)",
         "marker": {
          "color": "#ab63fa"
         },
         "name": "25.5M�(23)",
         "offsetgroup": "25.5M�(23)",
         "orientation": "v",
         "showlegend": true,
         "textposition": "auto",
         "type": "bar",
         "x": [
          "Louis Tomlinson"
         ],
         "xaxis": "x",
         "y": [
          "celebrities"
         ],
         "yaxis": "y"
        },
        {
         "alignmentgroup": "True",
         "hovertemplate": "iPOSTS ON HASHTAG=4.6M�(146)<br>BRAND=%{x}<br>CATEGORIES 1=%{y}<extra></extra>",
         "legendgroup": "4.6M�(146)",
         "marker": {
          "color": "#FFA15A"
         },
         "name": "4.6M�(146)",
         "offsetgroup": "4.6M�(146)",
         "orientation": "v",
         "showlegend": true,
         "textposition": "auto",
         "type": "bar",
         "x": [
          "G-DRAGON"
         ],
         "xaxis": "x",
         "y": [
          "celebrities"
         ],
         "yaxis": "y"
        },
        {
         "alignmentgroup": "True",
         "hovertemplate": "iPOSTS ON HASHTAG=122.4k�(1486)<br>BRAND=%{x}<br>CATEGORIES 1=%{y}<extra></extra>",
         "legendgroup": "122.4k�(1486)",
         "marker": {
          "color": "#19d3f3"
         },
         "name": "122.4k�(1486)",
         "offsetgroup": "122.4k�(1486)",
         "orientation": "v",
         "showlegend": true,
         "textposition": "auto",
         "type": "bar",
         "x": [
          "DanialvesD2 My Twitter"
         ],
         "xaxis": "x",
         "y": [
          "celebrities"
         ],
         "yaxis": "y"
        },
        {
         "alignmentgroup": "True",
         "hovertemplate": "iPOSTS ON HASHTAG=6.1M�(105)<br>BRAND=%{x}<br>CATEGORIES 1=%{y}<extra></extra>",
         "legendgroup": "6.1M�(105)",
         "marker": {
          "color": "#FF6692"
         },
         "name": "6.1M�(105)",
         "offsetgroup": "6.1M�(105)",
         "orientation": "v",
         "showlegend": true,
         "textposition": "auto",
         "type": "bar",
         "x": [
          "Dolce & Gabbana"
         ],
         "xaxis": "x",
         "y": [
          "fashion"
         ],
         "yaxis": "y"
        },
        {
         "alignmentgroup": "True",
         "hovertemplate": "iPOSTS ON HASHTAG=1.2M�(421)<br>BRAND=%{x}<br>CATEGORIES 1=%{y}<extra></extra>",
         "legendgroup": "1.2M�(421)",
         "marker": {
          "color": "#B6E880"
         },
         "name": "1.2M�(421)",
         "offsetgroup": "1.2M�(421)",
         "orientation": "v",
         "showlegend": true,
         "textposition": "auto",
         "type": "bar",
         "x": [
          "Tyga / T-Raww"
         ],
         "xaxis": "x",
         "y": [
          "celebrities"
         ],
         "yaxis": "y"
        },
        {
         "alignmentgroup": "True",
         "hovertemplate": "iPOSTS ON HASHTAG=77.6k�(1745)<br>BRAND=%{x}<br>CATEGORIES 1=%{y}<extra></extra>",
         "legendgroup": "77.6k�(1745)",
         "marker": {
          "color": "#FF97FF"
         },
         "name": "77.6k�(1745)",
         "offsetgroup": "77.6k�(1745)",
         "orientation": "v",
         "showlegend": true,
         "textposition": "auto",
         "type": "bar",
         "x": [
          "Paul Labile Pogba"
         ],
         "xaxis": "x",
         "y": [
          "celebrities"
         ],
         "yaxis": "y"
        },
        {
         "alignmentgroup": "True",
         "hovertemplate": "iPOSTS ON HASHTAG=2.5M�(240)<br>BRAND=%{x}<br>CATEGORIES 1=%{y}<extra></extra>",
         "legendgroup": "2.5M�(240)",
         "marker": {
          "color": "#FECB52"
         },
         "name": "2.5M�(240)",
         "offsetgroup": "2.5M�(240)",
         "orientation": "v",
         "showlegend": true,
         "textposition": "auto",
         "type": "bar",
         "x": [
          "Barack Obama"
         ],
         "xaxis": "x",
         "y": [
          "celebrities"
         ],
         "yaxis": "y"
        }
       ],
       "layout": {
        "barmode": "relative",
        "legend": {
         "title": {
          "text": "iPOSTS ON HASHTAG"
         },
         "tracegroupgap": 0
        },
        "margin": {
         "t": 60
        },
        "template": {
         "data": {
          "bar": [
           {
            "error_x": {
             "color": "#f2f5fa"
            },
            "error_y": {
             "color": "#f2f5fa"
            },
            "marker": {
             "line": {
              "color": "rgb(17,17,17)",
              "width": 0.5
             }
            },
            "type": "bar"
           }
          ],
          "barpolar": [
           {
            "marker": {
             "line": {
              "color": "rgb(17,17,17)",
              "width": 0.5
             }
            },
            "type": "barpolar"
           }
          ],
          "carpet": [
           {
            "aaxis": {
             "endlinecolor": "#A2B1C6",
             "gridcolor": "#506784",
             "linecolor": "#506784",
             "minorgridcolor": "#506784",
             "startlinecolor": "#A2B1C6"
            },
            "baxis": {
             "endlinecolor": "#A2B1C6",
             "gridcolor": "#506784",
             "linecolor": "#506784",
             "minorgridcolor": "#506784",
             "startlinecolor": "#A2B1C6"
            },
            "type": "carpet"
           }
          ],
          "choropleth": [
           {
            "colorbar": {
             "outlinewidth": 0,
             "ticks": ""
            },
            "type": "choropleth"
           }
          ],
          "contour": [
           {
            "colorbar": {
             "outlinewidth": 0,
             "ticks": ""
            },
            "colorscale": [
             [
              0,
              "#0d0887"
             ],
             [
              0.1111111111111111,
              "#46039f"
             ],
             [
              0.2222222222222222,
              "#7201a8"
             ],
             [
              0.3333333333333333,
              "#9c179e"
             ],
             [
              0.4444444444444444,
              "#bd3786"
             ],
             [
              0.5555555555555556,
              "#d8576b"
             ],
             [
              0.6666666666666666,
              "#ed7953"
             ],
             [
              0.7777777777777778,
              "#fb9f3a"
             ],
             [
              0.8888888888888888,
              "#fdca26"
             ],
             [
              1,
              "#f0f921"
             ]
            ],
            "type": "contour"
           }
          ],
          "contourcarpet": [
           {
            "colorbar": {
             "outlinewidth": 0,
             "ticks": ""
            },
            "type": "contourcarpet"
           }
          ],
          "heatmap": [
           {
            "colorbar": {
             "outlinewidth": 0,
             "ticks": ""
            },
            "colorscale": [
             [
              0,
              "#0d0887"
             ],
             [
              0.1111111111111111,
              "#46039f"
             ],
             [
              0.2222222222222222,
              "#7201a8"
             ],
             [
              0.3333333333333333,
              "#9c179e"
             ],
             [
              0.4444444444444444,
              "#bd3786"
             ],
             [
              0.5555555555555556,
              "#d8576b"
             ],
             [
              0.6666666666666666,
              "#ed7953"
             ],
             [
              0.7777777777777778,
              "#fb9f3a"
             ],
             [
              0.8888888888888888,
              "#fdca26"
             ],
             [
              1,
              "#f0f921"
             ]
            ],
            "type": "heatmap"
           }
          ],
          "heatmapgl": [
           {
            "colorbar": {
             "outlinewidth": 0,
             "ticks": ""
            },
            "colorscale": [
             [
              0,
              "#0d0887"
             ],
             [
              0.1111111111111111,
              "#46039f"
             ],
             [
              0.2222222222222222,
              "#7201a8"
             ],
             [
              0.3333333333333333,
              "#9c179e"
             ],
             [
              0.4444444444444444,
              "#bd3786"
             ],
             [
              0.5555555555555556,
              "#d8576b"
             ],
             [
              0.6666666666666666,
              "#ed7953"
             ],
             [
              0.7777777777777778,
              "#fb9f3a"
             ],
             [
              0.8888888888888888,
              "#fdca26"
             ],
             [
              1,
              "#f0f921"
             ]
            ],
            "type": "heatmapgl"
           }
          ],
          "histogram": [
           {
            "marker": {
             "colorbar": {
              "outlinewidth": 0,
              "ticks": ""
             }
            },
            "type": "histogram"
           }
          ],
          "histogram2d": [
           {
            "colorbar": {
             "outlinewidth": 0,
             "ticks": ""
            },
            "colorscale": [
             [
              0,
              "#0d0887"
             ],
             [
              0.1111111111111111,
              "#46039f"
             ],
             [
              0.2222222222222222,
              "#7201a8"
             ],
             [
              0.3333333333333333,
              "#9c179e"
             ],
             [
              0.4444444444444444,
              "#bd3786"
             ],
             [
              0.5555555555555556,
              "#d8576b"
             ],
             [
              0.6666666666666666,
              "#ed7953"
             ],
             [
              0.7777777777777778,
              "#fb9f3a"
             ],
             [
              0.8888888888888888,
              "#fdca26"
             ],
             [
              1,
              "#f0f921"
             ]
            ],
            "type": "histogram2d"
           }
          ],
          "histogram2dcontour": [
           {
            "colorbar": {
             "outlinewidth": 0,
             "ticks": ""
            },
            "colorscale": [
             [
              0,
              "#0d0887"
             ],
             [
              0.1111111111111111,
              "#46039f"
             ],
             [
              0.2222222222222222,
              "#7201a8"
             ],
             [
              0.3333333333333333,
              "#9c179e"
             ],
             [
              0.4444444444444444,
              "#bd3786"
             ],
             [
              0.5555555555555556,
              "#d8576b"
             ],
             [
              0.6666666666666666,
              "#ed7953"
             ],
             [
              0.7777777777777778,
              "#fb9f3a"
             ],
             [
              0.8888888888888888,
              "#fdca26"
             ],
             [
              1,
              "#f0f921"
             ]
            ],
            "type": "histogram2dcontour"
           }
          ],
          "mesh3d": [
           {
            "colorbar": {
             "outlinewidth": 0,
             "ticks": ""
            },
            "type": "mesh3d"
           }
          ],
          "parcoords": [
           {
            "line": {
             "colorbar": {
              "outlinewidth": 0,
              "ticks": ""
             }
            },
            "type": "parcoords"
           }
          ],
          "pie": [
           {
            "automargin": true,
            "type": "pie"
           }
          ],
          "scatter": [
           {
            "marker": {
             "line": {
              "color": "#283442"
             }
            },
            "type": "scatter"
           }
          ],
          "scatter3d": [
           {
            "line": {
             "colorbar": {
              "outlinewidth": 0,
              "ticks": ""
             }
            },
            "marker": {
             "colorbar": {
              "outlinewidth": 0,
              "ticks": ""
             }
            },
            "type": "scatter3d"
           }
          ],
          "scattercarpet": [
           {
            "marker": {
             "colorbar": {
              "outlinewidth": 0,
              "ticks": ""
             }
            },
            "type": "scattercarpet"
           }
          ],
          "scattergeo": [
           {
            "marker": {
             "colorbar": {
              "outlinewidth": 0,
              "ticks": ""
             }
            },
            "type": "scattergeo"
           }
          ],
          "scattergl": [
           {
            "marker": {
             "line": {
              "color": "#283442"
             }
            },
            "type": "scattergl"
           }
          ],
          "scattermapbox": [
           {
            "marker": {
             "colorbar": {
              "outlinewidth": 0,
              "ticks": ""
             }
            },
            "type": "scattermapbox"
           }
          ],
          "scatterpolar": [
           {
            "marker": {
             "colorbar": {
              "outlinewidth": 0,
              "ticks": ""
             }
            },
            "type": "scatterpolar"
           }
          ],
          "scatterpolargl": [
           {
            "marker": {
             "colorbar": {
              "outlinewidth": 0,
              "ticks": ""
             }
            },
            "type": "scatterpolargl"
           }
          ],
          "scatterternary": [
           {
            "marker": {
             "colorbar": {
              "outlinewidth": 0,
              "ticks": ""
             }
            },
            "type": "scatterternary"
           }
          ],
          "surface": [
           {
            "colorbar": {
             "outlinewidth": 0,
             "ticks": ""
            },
            "colorscale": [
             [
              0,
              "#0d0887"
             ],
             [
              0.1111111111111111,
              "#46039f"
             ],
             [
              0.2222222222222222,
              "#7201a8"
             ],
             [
              0.3333333333333333,
              "#9c179e"
             ],
             [
              0.4444444444444444,
              "#bd3786"
             ],
             [
              0.5555555555555556,
              "#d8576b"
             ],
             [
              0.6666666666666666,
              "#ed7953"
             ],
             [
              0.7777777777777778,
              "#fb9f3a"
             ],
             [
              0.8888888888888888,
              "#fdca26"
             ],
             [
              1,
              "#f0f921"
             ]
            ],
            "type": "surface"
           }
          ],
          "table": [
           {
            "cells": {
             "fill": {
              "color": "#506784"
             },
             "line": {
              "color": "rgb(17,17,17)"
             }
            },
            "header": {
             "fill": {
              "color": "#2a3f5f"
             },
             "line": {
              "color": "rgb(17,17,17)"
             }
            },
            "type": "table"
           }
          ]
         },
         "layout": {
          "annotationdefaults": {
           "arrowcolor": "#f2f5fa",
           "arrowhead": 0,
           "arrowwidth": 1
          },
          "autotypenumbers": "strict",
          "coloraxis": {
           "colorbar": {
            "outlinewidth": 0,
            "ticks": ""
           }
          },
          "colorscale": {
           "diverging": [
            [
             0,
             "#8e0152"
            ],
            [
             0.1,
             "#c51b7d"
            ],
            [
             0.2,
             "#de77ae"
            ],
            [
             0.3,
             "#f1b6da"
            ],
            [
             0.4,
             "#fde0ef"
            ],
            [
             0.5,
             "#f7f7f7"
            ],
            [
             0.6,
             "#e6f5d0"
            ],
            [
             0.7,
             "#b8e186"
            ],
            [
             0.8,
             "#7fbc41"
            ],
            [
             0.9,
             "#4d9221"
            ],
            [
             1,
             "#276419"
            ]
           ],
           "sequential": [
            [
             0,
             "#0d0887"
            ],
            [
             0.1111111111111111,
             "#46039f"
            ],
            [
             0.2222222222222222,
             "#7201a8"
            ],
            [
             0.3333333333333333,
             "#9c179e"
            ],
            [
             0.4444444444444444,
             "#bd3786"
            ],
            [
             0.5555555555555556,
             "#d8576b"
            ],
            [
             0.6666666666666666,
             "#ed7953"
            ],
            [
             0.7777777777777778,
             "#fb9f3a"
            ],
            [
             0.8888888888888888,
             "#fdca26"
            ],
            [
             1,
             "#f0f921"
            ]
           ],
           "sequentialminus": [
            [
             0,
             "#0d0887"
            ],
            [
             0.1111111111111111,
             "#46039f"
            ],
            [
             0.2222222222222222,
             "#7201a8"
            ],
            [
             0.3333333333333333,
             "#9c179e"
            ],
            [
             0.4444444444444444,
             "#bd3786"
            ],
            [
             0.5555555555555556,
             "#d8576b"
            ],
            [
             0.6666666666666666,
             "#ed7953"
            ],
            [
             0.7777777777777778,
             "#fb9f3a"
            ],
            [
             0.8888888888888888,
             "#fdca26"
            ],
            [
             1,
             "#f0f921"
            ]
           ]
          },
          "colorway": [
           "#636efa",
           "#EF553B",
           "#00cc96",
           "#ab63fa",
           "#FFA15A",
           "#19d3f3",
           "#FF6692",
           "#B6E880",
           "#FF97FF",
           "#FECB52"
          ],
          "font": {
           "color": "#f2f5fa"
          },
          "geo": {
           "bgcolor": "rgb(17,17,17)",
           "lakecolor": "rgb(17,17,17)",
           "landcolor": "rgb(17,17,17)",
           "showlakes": true,
           "showland": true,
           "subunitcolor": "#506784"
          },
          "hoverlabel": {
           "align": "left"
          },
          "hovermode": "closest",
          "mapbox": {
           "style": "dark"
          },
          "paper_bgcolor": "rgb(17,17,17)",
          "plot_bgcolor": "rgb(17,17,17)",
          "polar": {
           "angularaxis": {
            "gridcolor": "#506784",
            "linecolor": "#506784",
            "ticks": ""
           },
           "bgcolor": "rgb(17,17,17)",
           "radialaxis": {
            "gridcolor": "#506784",
            "linecolor": "#506784",
            "ticks": ""
           }
          },
          "scene": {
           "xaxis": {
            "backgroundcolor": "rgb(17,17,17)",
            "gridcolor": "#506784",
            "gridwidth": 2,
            "linecolor": "#506784",
            "showbackground": true,
            "ticks": "",
            "zerolinecolor": "#C8D4E3"
           },
           "yaxis": {
            "backgroundcolor": "rgb(17,17,17)",
            "gridcolor": "#506784",
            "gridwidth": 2,
            "linecolor": "#506784",
            "showbackground": true,
            "ticks": "",
            "zerolinecolor": "#C8D4E3"
           },
           "zaxis": {
            "backgroundcolor": "rgb(17,17,17)",
            "gridcolor": "#506784",
            "gridwidth": 2,
            "linecolor": "#506784",
            "showbackground": true,
            "ticks": "",
            "zerolinecolor": "#C8D4E3"
           }
          },
          "shapedefaults": {
           "line": {
            "color": "#f2f5fa"
           }
          },
          "sliderdefaults": {
           "bgcolor": "#C8D4E3",
           "bordercolor": "rgb(17,17,17)",
           "borderwidth": 1,
           "tickwidth": 0
          },
          "ternary": {
           "aaxis": {
            "gridcolor": "#506784",
            "linecolor": "#506784",
            "ticks": ""
           },
           "baxis": {
            "gridcolor": "#506784",
            "linecolor": "#506784",
            "ticks": ""
           },
           "bgcolor": "rgb(17,17,17)",
           "caxis": {
            "gridcolor": "#506784",
            "linecolor": "#506784",
            "ticks": ""
           }
          },
          "title": {
           "x": 0.05
          },
          "updatemenudefaults": {
           "bgcolor": "#506784",
           "borderwidth": 0
          },
          "xaxis": {
           "automargin": true,
           "gridcolor": "#283442",
           "linecolor": "#506784",
           "ticks": "",
           "title": {
            "standoff": 15
           },
           "zerolinecolor": "#283442",
           "zerolinewidth": 2
          },
          "yaxis": {
           "automargin": true,
           "gridcolor": "#283442",
           "linecolor": "#506784",
           "ticks": "",
           "title": {
            "standoff": 15
           },
           "zerolinecolor": "#283442",
           "zerolinewidth": 2
          }
         }
        },
        "xaxis": {
         "anchor": "y",
         "domain": [
          0,
          1
         ],
         "title": {
          "text": "BRAND"
         }
        },
        "yaxis": {
         "anchor": "x",
         "domain": [
          0,
          1
         ],
         "title": {
          "text": "CATEGORIES 1"
         }
        }
       }
      }
     },
     "metadata": {},
     "output_type": "display_data"
    }
   ],
   "source": [
    "px.bar(data_frame = df, x ='BRAND', y ='CATEGORIES 1' ,color= 'iPOSTS ON HASHTAG' , template='plotly_dark')"
   ]
  },
  {
   "cell_type": "code",
   "execution_count": 84,
   "metadata": {},
   "outputs": [
    {
     "data": {
      "application/vnd.plotly.v1+json": {
       "config": {
        "plotlyServerURL": "https://plot.ly"
       },
       "data": [
        {
         "hovertemplate": "MEDIA POSTED=1.2k�(2135)<br>BRAND=%{x}<br>CATEGORIES 2=%{y}<extra></extra>",
         "legendgroup": "1.2k�(2135)",
         "marker": {
          "color": "rgb(76,114,176)",
          "symbol": "circle"
         },
         "mode": "markers",
         "name": "1.2k�(2135)",
         "orientation": "v",
         "showlegend": true,
         "type": "scatter",
         "x": [
          "Selena Gomez"
         ],
         "xaxis": "x",
         "y": [
          "musicians"
         ],
         "yaxis": "y"
        },
        {
         "hovertemplate": "MEDIA POSTED=958�(2669)<br>BRAND=%{x}<br>CATEGORIES 2=%{y}<extra></extra>",
         "legendgroup": "958�(2669)",
         "marker": {
          "color": "rgb(221,132,82)",
          "symbol": "circle"
         },
         "mode": "markers",
         "name": "958�(2669)",
         "orientation": "v",
         "showlegend": true,
         "type": "scatter",
         "x": [
          "Taylor Swift"
         ],
         "xaxis": "x",
         "y": [
          "musicians"
         ],
         "yaxis": "y"
        },
        {
         "hovertemplate": "MEDIA POSTED=2.8k�(824)<br>BRAND=%{x}<br>CATEGORIES 2=%{y}<extra></extra>",
         "legendgroup": "2.8k�(824)",
         "marker": {
          "color": "rgb(85,168,104)",
          "symbol": "circle"
         },
         "mode": "markers",
         "name": "2.8k�(824)",
         "orientation": "v",
         "showlegend": true,
         "type": "scatter",
         "x": [
          "Ariana Grande"
         ],
         "xaxis": "x",
         "y": [
          "musicians"
         ],
         "yaxis": "y"
        },
        {
         "hovertemplate": "MEDIA POSTED=1.4k�(1897)<br>BRAND=%{x}<br>CATEGORIES 2=%{y}<extra></extra>",
         "legendgroup": "1.4k�(1897)",
         "marker": {
          "color": "rgb(196,78,82)",
          "symbol": "circle"
         },
         "mode": "markers",
         "name": "1.4k�(1897)",
         "orientation": "v",
         "showlegend": true,
         "type": "scatter",
         "x": [
          "Beyonce"
         ],
         "xaxis": "x",
         "y": [
          "musicians"
         ],
         "yaxis": "y"
        },
        {
         "hovertemplate": "MEDIA POSTED=3.6k�(550)<br>BRAND=%{x}<br>CATEGORIES 2=%{y}<extra></extra>",
         "legendgroup": "3.6k�(550)",
         "marker": {
          "color": "rgb(129,114,179)",
          "symbol": "circle"
         },
         "mode": "markers",
         "name": "3.6k�(550)",
         "orientation": "v",
         "showlegend": true,
         "type": "scatter",
         "x": [
          "Kim Kardashian West"
         ],
         "xaxis": "x",
         "y": [
          "tv"
         ],
         "yaxis": "y"
        },
        {
         "hovertemplate": "MEDIA POSTED=1.6k�(1612)<br>BRAND=%{x}<br>CATEGORIES 2=%{y}<extra></extra>",
         "legendgroup": "1.6k�(1612)",
         "marker": {
          "color": "rgb(147,120,96)",
          "symbol": "circle"
         },
         "mode": "markers",
         "name": "1.6k�(1612)",
         "orientation": "v",
         "showlegend": true,
         "type": "scatter",
         "x": [
          "Cristiano Ronaldo"
         ],
         "xaxis": "x",
         "y": [
          "athletes"
         ],
         "yaxis": "y"
        },
        {
         "hovertemplate": "MEDIA POSTED=4.9k�(302)<br>BRAND=%{x}<br>CATEGORIES 2=%{y}<extra></extra>",
         "legendgroup": "4.9k�(302)",
         "marker": {
          "color": "rgb(218,139,195)",
          "symbol": "circle"
         },
         "mode": "markers",
         "name": "4.9k�(302)",
         "orientation": "v",
         "showlegend": true,
         "type": "scatter",
         "x": [
          "Kylie"
         ],
         "xaxis": "x",
         "y": [
          "models"
         ],
         "yaxis": "y"
        },
        {
         "hovertemplate": "MEDIA POSTED=3.8k�(501)<br>BRAND=%{x}<br>CATEGORIES 2=%{y}<extra></extra>",
         "legendgroup": "3.8k�(501)",
         "marker": {
          "color": "rgb(140,140,140)",
          "symbol": "circle"
         },
         "mode": "markers",
         "name": "3.8k�(501)",
         "orientation": "v",
         "showlegend": true,
         "type": "scatter",
         "x": [
          "Justin Bieber"
         ],
         "xaxis": "x",
         "y": [
          "musicians"
         ],
         "yaxis": "y"
        },
        {
         "hovertemplate": "MEDIA POSTED=2.5k�(926)<br>BRAND=%{x}<br>CATEGORIES 2=%{y}<extra></extra>",
         "legendgroup": "2.5k�(926)",
         "marker": {
          "color": "rgb(204,185,116)",
          "symbol": "circle"
         },
         "mode": "markers",
         "name": "2.5k�(926)",
         "orientation": "v",
         "showlegend": true,
         "type": "scatter",
         "x": [
          "therock"
         ],
         "xaxis": "x",
         "y": [
          "athletes"
         ],
         "yaxis": "y"
        },
        {
         "hovertemplate": "MEDIA POSTED=2.7k�(849)<br>BRAND=%{x}<br>CATEGORIES 2=%{y}<extra></extra>",
         "legendgroup": "2.7k�(849)",
         "marker": {
          "color": "rgb(100,181,205)",
          "symbol": "circle"
         },
         "mode": "markers",
         "name": "2.7k�(849)",
         "orientation": "v",
         "showlegend": true,
         "type": "scatter",
         "x": [
          "Kendall"
         ],
         "xaxis": "x",
         "y": [
          "models"
         ],
         "yaxis": "y"
        },
        {
         "hovertemplate": "MEDIA POSTED=4.2k�(416)<br>BRAND=%{x}<br>CATEGORIES 2=%{y}<extra></extra>",
         "legendgroup": "4.2k�(416)",
         "marker": {
          "color": "rgb(76,114,176)",
          "symbol": "circle"
         },
         "mode": "markers",
         "name": "4.2k�(416)",
         "orientation": "v",
         "showlegend": true,
         "type": "scatter",
         "x": [
          "Nicki Minaj"
         ],
         "xaxis": "x",
         "y": [
          "musicians"
         ],
         "yaxis": "y"
        },
        {
         "hovertemplate": "MEDIA POSTED=880�(2832)<br>BRAND=%{x}<br>CATEGORIES 2=%{y}<extra></extra>",
         "legendgroup": "880�(2832)",
         "marker": {
          "color": "rgb(221,132,82)",
          "symbol": "circle"
         },
         "mode": "markers",
         "name": "880�(2832)",
         "orientation": "v",
         "showlegend": true,
         "type": "scatter",
         "x": [
          "nike"
         ],
         "xaxis": "x",
         "y": [
          "sport"
         ],
         "yaxis": "y"
        },
        {
         "hovertemplate": "MEDIA POSTED=12.7k�(31)<br>BRAND=%{x}<br>CATEGORIES 2=%{y}<extra></extra>",
         "legendgroup": "12.7k�(31)",
         "marker": {
          "color": "rgb(85,168,104)",
          "symbol": "circle"
         },
         "mode": "markers",
         "name": "12.7k�(31)",
         "orientation": "v",
         "showlegend": true,
         "type": "scatter",
         "x": [
          "National Geographic"
         ],
         "xaxis": "x",
         "y": [
          null
         ],
         "yaxis": "y"
        },
        {
         "hovertemplate": "MEDIA POSTED=3.6k�(555)<br>BRAND=%{x}<br>CATEGORIES 2=%{y}<extra></extra>",
         "legendgroup": "3.6k�(555)",
         "marker": {
          "color": "rgb(196,78,82)",
          "symbol": "circle"
         },
         "mode": "markers",
         "name": "3.6k�(555)",
         "orientation": "v",
         "showlegend": true,
         "type": "scatter",
         "x": [
          "Nj"
         ],
         "xaxis": "x",
         "y": [
          "athletes"
         ],
         "yaxis": "y"
        },
        {
         "hovertemplate": "MEDIA POSTED=180�(4909)<br>BRAND=%{x}<br>CATEGORIES 2=%{y}<extra></extra>",
         "legendgroup": "180�(4909)",
         "marker": {
          "color": "rgb(129,114,179)",
          "symbol": "circle"
         },
         "mode": "markers",
         "name": "180�(4909)",
         "orientation": "v",
         "showlegend": true,
         "type": "scatter",
         "x": [
          "Leo Messi"
         ],
         "xaxis": "x",
         "y": [
          "athletes"
         ],
         "yaxis": "y"
        },
        {
         "hovertemplate": "MEDIA POSTED=3.1k�(702)<br>BRAND=%{x}<br>CATEGORIES 2=%{y}<extra></extra>",
         "legendgroup": "3.1k�(702)",
         "marker": {
          "color": "rgb(147,120,96)",
          "symbol": "circle"
         },
         "mode": "markers",
         "name": "3.1k�(702)",
         "orientation": "v",
         "showlegend": true,
         "type": "scatter",
         "x": [
          "Khloe"
         ],
         "xaxis": "x",
         "y": [
          "tv"
         ],
         "yaxis": "y"
        },
        {
         "hovertemplate": "MEDIA POSTED=507�(3846)<br>BRAND=%{x}<br>CATEGORIES 2=%{y}<extra></extra>",
         "legendgroup": "507�(3846)",
         "marker": {
          "color": "rgb(218,139,195)",
          "symbol": "circle"
         },
         "mode": "markers",
         "name": "507�(3846)",
         "orientation": "v",
         "showlegend": true,
         "type": "scatter",
         "x": [
          "KATY PERRY"
         ],
         "xaxis": "x",
         "y": [
          "musicians"
         ],
         "yaxis": "y"
        },
        {
         "hovertemplate": "MEDIA POSTED=5.8k�(200)<br>BRAND=%{x}<br>CATEGORIES 2=%{y}<extra></extra>",
         "legendgroup": "5.8k�(200)",
         "marker": {
          "color": "rgb(140,140,140)",
          "symbol": "circle"
         },
         "mode": "markers",
         "name": "5.8k�(200)",
         "orientation": "v",
         "showlegend": true,
         "type": "scatter",
         "x": [
          "Miley Cyrus"
         ],
         "xaxis": "x",
         "y": [
          "musicians"
         ],
         "yaxis": "y"
        },
        {
         "hovertemplate": "MEDIA POSTED=1.6k�(1647)<br>BRAND=%{x}<br>CATEGORIES 2=%{y}<extra></extra>",
         "legendgroup": "1.6k�(1647)",
         "marker": {
          "color": "rgb(204,185,116)",
          "symbol": "circle"
         },
         "mode": "markers",
         "name": "1.6k�(1647)",
         "orientation": "v",
         "showlegend": true,
         "type": "scatter",
         "x": [
          "Jennifer Lopez"
         ],
         "xaxis": "x",
         "y": [
          "musicians"
         ],
         "yaxis": "y"
        },
        {
         "hovertemplate": "MEDIA POSTED=1.5k�(1782)<br>BRAND=%{x}<br>CATEGORIES 2=%{y}<extra></extra>",
         "legendgroup": "1.5k�(1782)",
         "marker": {
          "color": "rgb(100,181,205)",
          "symbol": "circle"
         },
         "mode": "markers",
         "name": "1.5k�(1782)",
         "orientation": "v",
         "showlegend": true,
         "type": "scatter",
         "x": [
          "Demi Lovato"
         ],
         "xaxis": "x",
         "y": [
          "musicians"
         ],
         "yaxis": "y"
        },
        {
         "hovertemplate": "MEDIA POSTED=3k�(746)<br>BRAND=%{x}<br>CATEGORIES 2=%{y}<extra></extra>",
         "legendgroup": "3k�(746)",
         "marker": {
          "color": "rgb(76,114,176)",
          "symbol": "circle"
         },
         "mode": "markers",
         "name": "3k�(746)",
         "orientation": "v",
         "showlegend": true,
         "type": "scatter",
         "x": [
          "Kourtney Kardashian"
         ],
         "xaxis": "x",
         "y": [
          "tv"
         ],
         "yaxis": "y"
        },
        {
         "hovertemplate": "MEDIA POSTED=4.3k�(390)<br>BRAND=%{x}<br>CATEGORIES 2=%{y}<extra></extra>",
         "legendgroup": "4.3k�(390)",
         "marker": {
          "color": "rgb(221,132,82)",
          "symbol": "circle"
         },
         "mode": "markers",
         "name": "4.3k�(390)",
         "orientation": "v",
         "showlegend": true,
         "type": "scatter",
         "x": [
          "Victoria's Secret"
         ],
         "xaxis": "x",
         "y": [
          null
         ],
         "yaxis": "y"
        },
        {
         "hovertemplate": "MEDIA POSTED=3.7k�(525)<br>BRAND=%{x}<br>CATEGORIES 2=%{y}<extra></extra>",
         "legendgroup": "3.7k�(525)",
         "marker": {
          "color": "rgb(85,168,104)",
          "symbol": "circle"
         },
         "mode": "markers",
         "name": "3.7k�(525)",
         "orientation": "v",
         "showlegend": true,
         "type": "scatter",
         "x": [
          "badgalriri"
         ],
         "xaxis": "x",
         "y": [
          "musicians"
         ],
         "yaxis": "y"
        },
        {
         "hovertemplate": "MEDIA POSTED=4k�(457)<br>BRAND=%{x}<br>CATEGORIES 2=%{y}<extra></extra>",
         "legendgroup": "4k�(457)",
         "marker": {
          "color": "rgb(196,78,82)",
          "symbol": "circle"
         },
         "mode": "markers",
         "name": "4k�(457)",
         "orientation": "v",
         "showlegend": true,
         "type": "scatter",
         "x": [
          "Kevin Hart"
         ],
         "xaxis": "x",
         "y": [
          "actors"
         ],
         "yaxis": "y"
        },
        {
         "hovertemplate": "MEDIA POSTED=8.9k�(68)<br>BRAND=%{x}<br>CATEGORIES 2=%{y}<extra></extra>",
         "legendgroup": "8.9k�(68)",
         "marker": {
          "color": "rgb(129,114,179)",
          "symbol": "circle"
         },
         "mode": "markers",
         "name": "8.9k�(68)",
         "orientation": "v",
         "showlegend": true,
         "type": "scatter",
         "x": [
          "FC Barcelona"
         ],
         "xaxis": "x",
         "y": [
          "football"
         ],
         "yaxis": "y"
        },
        {
         "hovertemplate": "MEDIA POSTED=1k�(2560)<br>BRAND=%{x}<br>CATEGORIES 2=%{y}<extra></extra>",
         "legendgroup": "1k�(2560)",
         "marker": {
          "color": "rgb(147,120,96)",
          "symbol": "circle"
         },
         "mode": "markers",
         "name": "1k�(2560)",
         "orientation": "v",
         "showlegend": true,
         "type": "scatter",
         "x": [
          "Real Madrid C.F."
         ],
         "xaxis": "x",
         "y": [
          "football"
         ],
         "yaxis": "y"
        },
        {
         "hovertemplate": "MEDIA POSTED=498�(3888)<br>BRAND=%{x}<br>CATEGORIES 2=%{y}<extra></extra>",
         "legendgroup": "498�(3888)",
         "marker": {
          "color": "rgb(218,139,195)",
          "symbol": "circle"
         },
         "mode": "markers",
         "name": "498�(3888)",
         "orientation": "v",
         "showlegend": true,
         "type": "scatter",
         "x": [
          "Justin Timberlake"
         ],
         "xaxis": "x",
         "y": [
          "musicians"
         ],
         "yaxis": "y"
        },
        {
         "hovertemplate": "MEDIA POSTED=4.3k�(399)<br>BRAND=%{x}<br>CATEGORIES 2=%{y}<extra></extra>",
         "legendgroup": "4.3k�(399)",
         "marker": {
          "color": "rgb(140,140,140)",
          "symbol": "circle"
         },
         "mode": "markers",
         "name": "4.3k�(399)",
         "orientation": "v",
         "showlegend": true,
         "type": "scatter",
         "x": [
          "Ellen"
         ],
         "xaxis": "x",
         "y": [
          "tv"
         ],
         "yaxis": "y"
        },
        {
         "hovertemplate": "MEDIA POSTED=3.2k�(654)<br>BRAND=%{x}<br>CATEGORIES 2=%{y}<extra></extra>",
         "legendgroup": "3.2k�(654)",
         "marker": {
          "color": "rgb(204,185,116)",
          "symbol": "circle"
         },
         "mode": "markers",
         "name": "3.2k�(654)",
         "orientation": "v",
         "showlegend": true,
         "type": "scatter",
         "x": [
          "Cara Delevingne"
         ],
         "xaxis": "x",
         "y": [
          "models"
         ],
         "yaxis": "y"
        },
        {
         "hovertemplate": "MEDIA POSTED=3k�(732)<br>BRAND=%{x}<br>CATEGORIES 2=%{y}<extra></extra>",
         "legendgroup": "3k�(732)",
         "marker": {
          "color": "rgb(100,181,205)",
          "symbol": "circle"
         },
         "mode": "markers",
         "name": "3k�(732)",
         "orientation": "v",
         "showlegend": true,
         "type": "scatter",
         "x": [
          "Zendaya"
         ],
         "xaxis": "x",
         "y": [
          "musicians"
         ],
         "yaxis": "y"
        },
        {
         "hovertemplate": "MEDIA POSTED=11.4k�(37)<br>BRAND=%{x}<br>CATEGORIES 2=%{y}<extra></extra>",
         "legendgroup": "11.4k�(37)",
         "marker": {
          "color": "rgb(76,114,176)",
          "symbol": "circle"
         },
         "mode": "markers",
         "name": "11.4k�(37)",
         "orientation": "v",
         "showlegend": true,
         "type": "scatter",
         "x": [
          "9gag"
         ],
         "xaxis": "x",
         "y": [
          null
         ],
         "yaxis": "y"
        },
        {
         "hovertemplate": "MEDIA POSTED=476�(3955)<br>BRAND=%{x}<br>CATEGORIES 2=%{y}<extra></extra>",
         "legendgroup": "476�(3955)",
         "marker": {
          "color": "rgb(221,132,82)",
          "symbol": "circle"
         },
         "mode": "markers",
         "name": "476�(3955)",
         "orientation": "v",
         "showlegend": true,
         "type": "scatter",
         "x": [
          "David Beckham"
         ],
         "xaxis": "x",
         "y": [
          "athletes"
         ],
         "yaxis": "y"
        },
        {
         "hovertemplate": "MEDIA POSTED=3.4k�(602)<br>BRAND=%{x}<br>CATEGORIES 2=%{y}<extra></extra>",
         "legendgroup": "3.4k�(602)",
         "marker": {
          "color": "rgb(85,168,104)",
          "symbol": "circle"
         },
         "mode": "markers",
         "name": "3.4k�(602)",
         "orientation": "v",
         "showlegend": true,
         "type": "scatter",
         "x": [
          "champagnepapi"
         ],
         "xaxis": "x",
         "y": [
          "musicians"
         ],
         "yaxis": "y"
        },
        {
         "hovertemplate": "MEDIA POSTED=986�(2599)<br>BRAND=%{x}<br>CATEGORIES 2=%{y}<extra></extra>",
         "legendgroup": "986�(2599)",
         "marker": {
          "color": "rgb(196,78,82)",
          "symbol": "circle"
         },
         "mode": "markers",
         "name": "986�(2599)",
         "orientation": "v",
         "showlegend": true,
         "type": "scatter",
         "x": [
          "Vin Diesel"
         ],
         "xaxis": "x",
         "y": [
          "actors"
         ],
         "yaxis": "y"
        },
        {
         "hovertemplate": "MEDIA POSTED=664�(3369)<br>BRAND=%{x}<br>CATEGORIES 2=%{y}<extra></extra>",
         "legendgroup": "664�(3369)",
         "marker": {
          "color": "rgb(129,114,179)",
          "symbol": "circle"
         },
         "mode": "markers",
         "name": "664�(3369)",
         "orientation": "v",
         "showlegend": true,
         "type": "scatter",
         "x": [
          "Shakira"
         ],
         "xaxis": "x",
         "y": [
          "musicians"
         ],
         "yaxis": "y"
        },
        {
         "hovertemplate": "MEDIA POSTED=634�(3454)<br>BRAND=%{x}<br>CATEGORIES 2=%{y}<extra></extra>",
         "legendgroup": "634�(3454)",
         "marker": {
          "color": "rgb(147,120,96)",
          "symbol": "circle"
         },
         "mode": "markers",
         "name": "634�(3454)",
         "orientation": "v",
         "showlegend": true,
         "type": "scatter",
         "x": [
          "James Rodr�guez"
         ],
         "xaxis": "x",
         "y": [
          "athletes"
         ],
         "yaxis": "y"
        },
        {
         "hovertemplate": "MEDIA POSTED=2.3k�(1024)<br>BRAND=%{x}<br>CATEGORIES 2=%{y}<extra></extra>",
         "legendgroup": "2.3k�(1024)",
         "marker": {
          "color": "rgb(218,139,195)",
          "symbol": "circle"
         },
         "mode": "markers",
         "name": "2.3k�(1024)",
         "orientation": "v",
         "showlegend": true,
         "type": "scatter",
         "x": [
          "Gigi Hadid"
         ],
         "xaxis": "x",
         "y": [
          "models"
         ],
         "yaxis": "y"
        },
        {
         "hovertemplate": "MEDIA POSTED=1.3k�(1981)<br>BRAND=%{x}<br>CATEGORIES 2=%{y}<extra></extra>",
         "legendgroup": "1.3k�(1981)",
         "marker": {
          "color": "rgb(140,140,140)",
          "symbol": "circle"
         },
         "mode": "markers",
         "name": "1.3k�(1981)",
         "orientation": "v",
         "showlegend": true,
         "type": "scatter",
         "x": [
          "LeBron James"
         ],
         "xaxis": "x",
         "y": [
          "athletes"
         ],
         "yaxis": "y"
        },
        {
         "hovertemplate": "MEDIA POSTED=509�(3838)<br>BRAND=%{x}<br>CATEGORIES 2=%{y}<extra></extra>",
         "legendgroup": "509�(3838)",
         "marker": {
          "color": "rgb(204,185,116)",
          "symbol": "circle"
         },
         "mode": "markers",
         "name": "509�(3838)",
         "orientation": "v",
         "showlegend": true,
         "type": "scatter",
         "x": [
          "Gareth Bale"
         ],
         "xaxis": "x",
         "y": [
          "athletes"
         ],
         "yaxis": "y"
        },
        {
         "hovertemplate": "MEDIA POSTED=1.4k�(1923)<br>BRAND=%{x}<br>CATEGORIES 2=%{y}<extra></extra>",
         "legendgroup": "1.4k�(1923)",
         "marker": {
          "color": "rgb(100,181,205)",
          "symbol": "circle"
         },
         "mode": "markers",
         "name": "1.4k�(1923)",
         "orientation": "v",
         "showlegend": true,
         "type": "scatter",
         "x": [
          "Nike Football (Soccer)"
         ],
         "xaxis": "x",
         "y": [
          "sport"
         ],
         "yaxis": "y"
        },
        {
         "hovertemplate": "MEDIA POSTED=361�(4339)<br>BRAND=%{x}<br>CATEGORIES 2=%{y}<extra></extra>",
         "legendgroup": "361�(4339)",
         "marker": {
          "color": "rgb(76,114,176)",
          "symbol": "circle"
         },
         "mode": "markers",
         "name": "361�(4339)",
         "orientation": "v",
         "showlegend": true,
         "type": "scatter",
         "x": [
          "Zac Efron"
         ],
         "xaxis": "x",
         "y": [
          "actors"
         ],
         "yaxis": "y"
        },
        {
         "hovertemplate": "MEDIA POSTED=1.9k�(1374)<br>BRAND=%{x}<br>CATEGORIES 2=%{y}<extra></extra>",
         "legendgroup": "1.9k�(1374)",
         "marker": {
          "color": "rgb(221,132,82)",
          "symbol": "circle"
         },
         "mode": "markers",
         "name": "1.9k�(1374)",
         "orientation": "v",
         "showlegend": true,
         "type": "scatter",
         "x": [
          "Vanessa Hudgens"
         ],
         "xaxis": "x",
         "y": [
          "actors"
         ],
         "yaxis": "y"
        },
        {
         "hovertemplate": "MEDIA POSTED=314�(4476)<br>BRAND=%{x}<br>CATEGORIES 2=%{y}<extra></extra>",
         "legendgroup": "314�(4476)",
         "marker": {
          "color": "rgb(85,168,104)",
          "symbol": "circle"
         },
         "mode": "markers",
         "name": "314�(4476)",
         "orientation": "v",
         "showlegend": true,
         "type": "scatter",
         "x": [
          "IAmZlatan"
         ],
         "xaxis": "x",
         "y": [
          "athletes"
         ],
         "yaxis": "y"
        },
        {
         "hovertemplate": "MEDIA POSTED=40�(5340)<br>BRAND=%{x}<br>CATEGORIES 2=%{y}<extra></extra>",
         "legendgroup": "40�(5340)",
         "marker": {
          "color": "rgb(196,78,82)",
          "symbol": "circle"
         },
         "mode": "markers",
         "name": "40�(5340)",
         "orientation": "v",
         "showlegend": true,
         "type": "scatter",
         "x": [
          "Emma Watson"
         ],
         "xaxis": "x",
         "y": [
          "actors"
         ],
         "yaxis": "y"
        },
        {
         "hovertemplate": "MEDIA POSTED=2.4k�(980)<br>BRAND=%{x}<br>CATEGORIES 2=%{y}<extra></extra>",
         "legendgroup": "2.4k�(980)",
         "marker": {
          "color": "rgb(129,114,179)",
          "symbol": "circle"
         },
         "mode": "markers",
         "name": "2.4k�(980)",
         "orientation": "v",
         "showlegend": true,
         "type": "scatter",
         "x": [
          "xoxo, Joanne"
         ],
         "xaxis": "x",
         "y": [
          "musicians"
         ],
         "yaxis": "y"
        },
        {
         "hovertemplate": "MEDIA POSTED=17.8k�(9)<br>BRAND=%{x}<br>CATEGORIES 2=%{y}<extra></extra>",
         "legendgroup": "17.8k�(9)",
         "marker": {
          "color": "rgb(147,120,96)",
          "symbol": "circle"
         },
         "mode": "markers",
         "name": "17.8k�(9)",
         "orientation": "v",
         "showlegend": true,
         "type": "scatter",
         "x": [
          "NBA"
         ],
         "xaxis": "x",
         "y": [
          "basketball"
         ],
         "yaxis": "y"
        },
        {
         "hovertemplate": "MEDIA POSTED=391�(4235)<br>BRAND=%{x}<br>CATEGORIES 2=%{y}<extra></extra>",
         "legendgroup": "391�(4235)",
         "marker": {
          "color": "rgb(218,139,195)",
          "symbol": "circle"
         },
         "mode": "markers",
         "name": "391�(4235)",
         "orientation": "v",
         "showlegend": true,
         "type": "scatter",
         "x": [
          "harrystyles"
         ],
         "xaxis": "x",
         "y": [
          "musicians"
         ],
         "yaxis": "y"
        },
        {
         "hovertemplate": "MEDIA POSTED=777�(3062)<br>BRAND=%{x}<br>CATEGORIES 2=%{y}<extra></extra>",
         "legendgroup": "777�(3062)",
         "marker": {
          "color": "rgb(140,140,140)",
          "symbol": "circle"
         },
         "mode": "markers",
         "name": "777�(3062)",
         "orientation": "v",
         "showlegend": true,
         "type": "scatter",
         "x": [
          "Scott Disick"
         ],
         "xaxis": "x",
         "y": [
          "tv"
         ],
         "yaxis": "y"
        },
        {
         "hovertemplate": "MEDIA POSTED=176�(4922)<br>BRAND=%{x}<br>CATEGORIES 2=%{y}<extra></extra>",
         "legendgroup": "176�(4922)",
         "marker": {
          "color": "rgb(204,185,116)",
          "symbol": "circle"
         },
         "mode": "markers",
         "name": "176�(4922)",
         "orientation": "v",
         "showlegend": true,
         "type": "scatter",
         "x": [
          "Luis Suarez"
         ],
         "xaxis": "x",
         "y": [
          "athletes"
         ],
         "yaxis": "y"
        },
        {
         "hovertemplate": "MEDIA POSTED=797�(3008)<br>BRAND=%{x}<br>CATEGORIES 2=%{y}<extra></extra>",
         "legendgroup": "797�(3008)",
         "marker": {
          "color": "rgb(100,181,205)",
          "symbol": "circle"
         },
         "mode": "markers",
         "name": "797�(3008)",
         "orientation": "v",
         "showlegend": true,
         "type": "scatter",
         "x": [
          "Niall Horan"
         ],
         "xaxis": "x",
         "y": [
          "musicians"
         ],
         "yaxis": "y"
        },
        {
         "hovertemplate": "MEDIA POSTED=1.8k�(1423)<br>BRAND=%{x}<br>CATEGORIES 2=%{y}<extra></extra>",
         "legendgroup": "1.8k�(1423)",
         "marker": {
          "color": "rgb(76,114,176)",
          "symbol": "circle"
         },
         "mode": "markers",
         "name": "1.8k�(1423)",
         "orientation": "v",
         "showlegend": true,
         "type": "scatter",
         "x": [
          "NASA"
         ],
         "xaxis": "x",
         "y": [
          null
         ],
         "yaxis": "y"
        },
        {
         "hovertemplate": "MEDIA POSTED=3k�(739)<br>BRAND=%{x}<br>CATEGORIES 2=%{y}<extra></extra>",
         "legendgroup": "3k�(739)",
         "marker": {
          "color": "rgb(221,132,82)",
          "symbol": "circle"
         },
         "mode": "markers",
         "name": "3k�(739)",
         "orientation": "v",
         "showlegend": true,
         "type": "scatter",
         "x": [
          "H&M"
         ],
         "xaxis": "x",
         "y": [
          "retail"
         ],
         "yaxis": "y"
        },
        {
         "hovertemplate": "MEDIA POSTED=2.3k�(1055)<br>BRAND=%{x}<br>CATEGORIES 2=%{y}<extra></extra>",
         "legendgroup": "2.3k�(1055)",
         "marker": {
          "color": "rgb(85,168,104)",
          "symbol": "circle"
         },
         "mode": "markers",
         "name": "2.3k�(1055)",
         "orientation": "v",
         "showlegend": true,
         "type": "scatter",
         "x": [
          "Bruna Marquezine _"
         ],
         "xaxis": "x",
         "y": [
          "models"
         ],
         "yaxis": "y"
        },
        {
         "hovertemplate": "MEDIA POSTED=726�(3189)<br>BRAND=%{x}<br>CATEGORIES 2=%{y}<extra></extra>",
         "legendgroup": "726�(3189)",
         "marker": {
          "color": "rgb(196,78,82)",
          "symbol": "circle"
         },
         "mode": "markers",
         "name": "726�(3189)",
         "orientation": "v",
         "showlegend": true,
         "type": "scatter",
         "x": [
          "One Direction"
         ],
         "xaxis": "x",
         "y": [
          "musicians"
         ],
         "yaxis": "y"
        },
        {
         "hovertemplate": "MEDIA POSTED=583�(3621)<br>BRAND=%{x}<br>CATEGORIES 2=%{y}<extra></extra>",
         "legendgroup": "583�(3621)",
         "marker": {
          "color": "rgb(129,114,179)",
          "symbol": "circle"
         },
         "mode": "markers",
         "name": "583�(3621)",
         "orientation": "v",
         "showlegend": true,
         "type": "scatter",
         "x": [
          "CHANEL"
         ],
         "xaxis": "x",
         "y": [
          "luxury"
         ],
         "yaxis": "y"
        },
        {
         "hovertemplate": "MEDIA POSTED=1.5k�(1830)<br>BRAND=%{x}<br>CATEGORIES 2=%{y}<extra></extra>",
         "legendgroup": "1.5k�(1830)",
         "marker": {
          "color": "rgb(147,120,96)",
          "symbol": "circle"
         },
         "mode": "markers",
         "name": "1.5k�(1830)",
         "orientation": "v",
         "showlegend": true,
         "type": "scatter",
         "x": [
          "Shawn Mendes"
         ],
         "xaxis": "x",
         "y": [
          "musicians"
         ],
         "yaxis": "y"
        },
        {
         "hovertemplate": "MEDIA POSTED=3k�(743)<br>BRAND=%{x}<br>CATEGORIES 2=%{y}<extra></extra>",
         "legendgroup": "3k�(743)",
         "marker": {
          "color": "rgb(218,139,195)",
          "symbol": "circle"
         },
         "mode": "markers",
         "name": "3k�(743)",
         "orientation": "v",
         "showlegend": true,
         "type": "scatter",
         "x": [
          "Lucy Hale"
         ],
         "xaxis": "x",
         "y": [
          "actors"
         ],
         "yaxis": "y"
        },
        {
         "hovertemplate": "MEDIA POSTED=4.9k�(294)<br>BRAND=%{x}<br>CATEGORIES 2=%{y}<extra></extra>",
         "legendgroup": "4.9k�(294)",
         "marker": {
          "color": "rgb(140,140,140)",
          "symbol": "circle"
         },
         "mode": "markers",
         "name": "4.9k�(294)",
         "orientation": "v",
         "showlegend": true,
         "type": "scatter",
         "x": [
          "euanitta"
         ],
         "xaxis": "x",
         "y": [
          "musicians"
         ],
         "yaxis": "y"
        },
        {
         "hovertemplate": "MEDIA POSTED=833�(2924)<br>BRAND=%{x}<br>CATEGORIES 2=%{y}<extra></extra>",
         "legendgroup": "833�(2924)",
         "marker": {
          "color": "rgb(204,185,116)",
          "symbol": "circle"
         },
         "mode": "markers",
         "name": "833�(2924)",
         "orientation": "v",
         "showlegend": true,
         "type": "scatter",
         "x": [
          "Karim Benzema"
         ],
         "xaxis": "x",
         "y": [
          "athletes"
         ],
         "yaxis": "y"
        },
        {
         "hovertemplate": "MEDIA POSTED=2.1k�(1169)<br>BRAND=%{x}<br>CATEGORIES 2=%{y}<extra></extra>",
         "legendgroup": "2.1k�(1169)",
         "marker": {
          "color": "rgb(100,181,205)",
          "symbol": "circle"
         },
         "mode": "markers",
         "name": "2.1k�(1169)",
         "orientation": "v",
         "showlegend": true,
         "type": "scatter",
         "x": [
          "Marina Ruy Barbosa"
         ],
         "xaxis": "x",
         "y": [
          "actors"
         ],
         "yaxis": "y"
        },
        {
         "hovertemplate": "MEDIA POSTED=3.1k�(700)<br>BRAND=%{x}<br>CATEGORIES 2=%{y}<extra></extra>",
         "legendgroup": "3.1k�(700)",
         "marker": {
          "color": "rgb(76,114,176)",
          "symbol": "circle"
         },
         "mode": "markers",
         "name": "3.1k�(700)",
         "orientation": "v",
         "showlegend": true,
         "type": "scatter",
         "x": [
          "adidas Originals"
         ],
         "xaxis": "x",
         "y": [
          "sport"
         ],
         "yaxis": "y"
        },
        {
         "hovertemplate": "MEDIA POSTED=1.5k�(1714)<br>BRAND=%{x}<br>CATEGORIES 2=%{y}<extra></extra>",
         "legendgroup": "1.5k�(1714)",
         "marker": {
          "color": "rgb(221,132,82)",
          "symbol": "circle"
         },
         "mode": "markers",
         "name": "1.5k�(1714)",
         "orientation": "v",
         "showlegend": true,
         "type": "scatter",
         "x": [
          "David Luiz"
         ],
         "xaxis": "x",
         "y": [
          "athletes"
         ],
         "yaxis": "y"
        },
        {
         "hovertemplate": "MEDIA POSTED=378�(4276)<br>BRAND=%{x}<br>CATEGORIES 2=%{y}<extra></extra>",
         "legendgroup": "378�(4276)",
         "marker": {
          "color": "rgb(85,168,104)",
          "symbol": "circle"
         },
         "mode": "markers",
         "name": "378�(4276)",
         "orientation": "v",
         "showlegend": true,
         "type": "scatter",
         "x": [
          "Andres Iniesta"
         ],
         "xaxis": "x",
         "y": [
          "athletes"
         ],
         "yaxis": "y"
        },
        {
         "hovertemplate": "MEDIA POSTED=4k�(453)<br>BRAND=%{x}<br>CATEGORIES 2=%{y}<extra></extra>",
         "legendgroup": "4k�(453)",
         "marker": {
          "color": "rgb(196,78,82)",
          "symbol": "circle"
         },
         "mode": "markers",
         "name": "4k�(453)",
         "orientation": "v",
         "showlegend": true,
         "type": "scatter",
         "x": [
          "Ashley Benson"
         ],
         "xaxis": "x",
         "y": [
          "actors"
         ],
         "yaxis": "y"
        },
        {
         "hovertemplate": "MEDIA POSTED=1.2k�(2134)<br>BRAND=%{x}<br>CATEGORIES 2=%{y}<extra></extra>",
         "legendgroup": "1.2k�(2134)",
         "marker": {
          "color": "rgb(129,114,179)",
          "symbol": "circle"
         },
         "mode": "markers",
         "name": "1.2k�(2134)",
         "orientation": "v",
         "showlegend": true,
         "type": "scatter",
         "x": [
          "ZARA Official"
         ],
         "xaxis": "x",
         "y": [
          "retail"
         ],
         "yaxis": "y"
        },
        {
         "hovertemplate": "MEDIA POSTED=5.5k�(232)<br>BRAND=%{x}<br>CATEGORIES 2=%{y}<extra></extra>",
         "legendgroup": "5.5k�(232)",
         "marker": {
          "color": "rgb(147,120,96)",
          "symbol": "circle"
         },
         "mode": "markers",
         "name": "5.5k�(232)",
         "orientation": "v",
         "showlegend": true,
         "type": "scatter",
         "x": [
          "Manchester United"
         ],
         "xaxis": "x",
         "y": [
          "football"
         ],
         "yaxis": "y"
        },
        {
         "hovertemplate": "MEDIA POSTED=4.3k�(385)<br>BRAND=%{x}<br>CATEGORIES 2=%{y}<extra></extra>",
         "legendgroup": "4.3k�(385)",
         "marker": {
          "color": "rgb(218,139,195)",
          "symbol": "circle"
         },
         "mode": "markers",
         "name": "4.3k�(385)",
         "orientation": "v",
         "showlegend": true,
         "type": "scatter",
         "x": [
          "Shay Mitchell"
         ],
         "xaxis": "x",
         "y": [
          "actors"
         ],
         "yaxis": "y"
        },
        {
         "hovertemplate": "MEDIA POSTED=1.3k�(2013)<br>BRAND=%{x}<br>CATEGORIES 2=%{y}<extra></extra>",
         "legendgroup": "1.3k�(2013)",
         "marker": {
          "color": "rgb(140,140,140)",
          "symbol": "circle"
         },
         "mode": "markers",
         "name": "1.3k�(2013)",
         "orientation": "v",
         "showlegend": true,
         "type": "scatter",
         "x": [
          "Marcelo Vieira Jr."
         ],
         "xaxis": "x",
         "y": [
          "athletes"
         ],
         "yaxis": "y"
        },
        {
         "hovertemplate": "MEDIA POSTED=4.1k�(431)<br>BRAND=%{x}<br>CATEGORIES 2=%{y}<extra></extra>",
         "legendgroup": "4.1k�(431)",
         "marker": {
          "color": "rgb(204,185,116)",
          "symbol": "circle"
         },
         "mode": "markers",
         "name": "4.1k�(431)",
         "orientation": "v",
         "showlegend": true,
         "type": "scatter",
         "x": [
          "BELLA"
         ],
         "xaxis": "x",
         "y": [
          "media"
         ],
         "yaxis": "y"
        },
        {
         "hovertemplate": "MEDIA POSTED=2.9k�(781)<br>BRAND=%{x}<br>CATEGORIES 2=%{y}<extra></extra>",
         "legendgroup": "2.9k�(781)",
         "marker": {
          "color": "rgb(100,181,205)",
          "symbol": "circle"
         },
         "mode": "markers",
         "name": "2.9k�(781)",
         "orientation": "v",
         "showlegend": true,
         "type": "scatter",
         "x": [
          "Ciara"
         ],
         "xaxis": "x",
         "y": [
          "musicians"
         ],
         "yaxis": "y"
        },
        {
         "hovertemplate": "MEDIA POSTED=1.5k�(1733)<br>BRAND=%{x}<br>CATEGORIES 2=%{y}<extra></extra>",
         "legendgroup": "1.5k�(1733)",
         "marker": {
          "color": "rgb(76,114,176)",
          "symbol": "circle"
         },
         "mode": "markers",
         "name": "1.5k�(1733)",
         "orientation": "v",
         "showlegend": true,
         "type": "scatter",
         "x": [
          "Britney Spears"
         ],
         "xaxis": "x",
         "y": [
          "musicians"
         ],
         "yaxis": "y"
        },
        {
         "hovertemplate": "MEDIA POSTED=5.9k�(194)<br>BRAND=%{x}<br>CATEGORIES 2=%{y}<extra></extra>",
         "legendgroup": "5.9k�(194)",
         "marker": {
          "color": "rgb(221,132,82)",
          "symbol": "circle"
         },
         "mode": "markers",
         "name": "5.9k�(194)",
         "orientation": "v",
         "showlegend": true,
         "type": "scatter",
         "x": [
          "National Geographic Travel"
         ],
         "xaxis": "x",
         "y": [
          null
         ],
         "yaxis": "y"
        },
        {
         "hovertemplate": "MEDIA POSTED=1.7k�(1545)<br>BRAND=%{x}<br>CATEGORIES 2=%{y}<extra></extra>",
         "legendgroup": "1.7k�(1545)",
         "marker": {
          "color": "rgb(85,168,104)",
          "symbol": "circle"
         },
         "mode": "markers",
         "name": "1.7k�(1545)",
         "orientation": "v",
         "showlegend": true,
         "type": "scatter",
         "x": [
          "Louis Vuitton Official"
         ],
         "xaxis": "x",
         "y": [
          "luxury"
         ],
         "yaxis": "y"
        },
        {
         "hovertemplate": "MEDIA POSTED=27.1k�(3)<br>BRAND=%{x}<br>CATEGORIES 2=%{y}<extra></extra>",
         "legendgroup": "27.1k�(3)",
         "marker": {
          "color": "rgb(196,78,82)",
          "symbol": "circle"
         },
         "mode": "markers",
         "name": "27.1k�(3)",
         "orientation": "v",
         "showlegend": true,
         "type": "scatter",
         "x": [
          "snoopdogg"
         ],
         "xaxis": "x",
         "y": [
          "musicians"
         ],
         "yaxis": "y"
        },
        {
         "hovertemplate": "MEDIA POSTED=505�(3856)<br>BRAND=%{x}<br>CATEGORIES 2=%{y}<extra></extra>",
         "legendgroup": "505�(3856)",
         "marker": {
          "color": "rgb(129,114,179)",
          "symbol": "circle"
         },
         "mode": "markers",
         "name": "505�(3856)",
         "orientation": "v",
         "showlegend": true,
         "type": "scatter",
         "x": [
          "Floyd Mayweather"
         ],
         "xaxis": "x",
         "y": [
          "athletes"
         ],
         "yaxis": "y"
        },
        {
         "hovertemplate": "MEDIA POSTED=2.9k�(776)<br>BRAND=%{x}<br>CATEGORIES 2=%{y}<extra></extra>",
         "legendgroup": "2.9k�(776)",
         "marker": {
          "color": "rgb(147,120,96)",
          "symbol": "circle"
         },
         "mode": "markers",
         "name": "2.9k�(776)",
         "orientation": "v",
         "showlegend": true,
         "type": "scatter",
         "x": [
          "Vogue"
         ],
         "xaxis": "x",
         "y": [
          null
         ],
         "yaxis": "y"
        },
        {
         "hovertemplate": "MEDIA POSTED=577�(3639)<br>BRAND=%{x}<br>CATEGORIES 2=%{y}<extra></extra>",
         "legendgroup": "577�(3639)",
         "marker": {
          "color": "rgb(218,139,195)",
          "symbol": "circle"
         },
         "mode": "markers",
         "name": "577�(3639)",
         "orientation": "v",
         "showlegend": true,
         "type": "scatter",
         "x": [
          "Sergio Ramos"
         ],
         "xaxis": "x",
         "y": [
          "athletes"
         ],
         "yaxis": "y"
        },
        {
         "hovertemplate": "MEDIA POSTED=2.1k�(1177)<br>BRAND=%{x}<br>CATEGORIES 2=%{y}<extra></extra>",
         "legendgroup": "2.1k�(1177)",
         "marker": {
          "color": "rgb(140,140,140)",
          "symbol": "circle"
         },
         "mode": "markers",
         "name": "2.1k�(1177)",
         "orientation": "v",
         "showlegend": true,
         "type": "scatter",
         "x": [
          "Tata Werneck"
         ],
         "xaxis": "x",
         "y": [
          "tv"
         ],
         "yaxis": "y"
        },
        {
         "hovertemplate": "MEDIA POSTED=3.2k�(667)<br>BRAND=%{x}<br>CATEGORIES 2=%{y}<extra></extra>",
         "legendgroup": "3.2k�(667)",
         "marker": {
          "color": "rgb(204,185,116)",
          "symbol": "circle"
         },
         "mode": "markers",
         "name": "3.2k�(667)",
         "orientation": "v",
         "showlegend": true,
         "type": "scatter",
         "x": [
          "Daddy Yankee"
         ],
         "xaxis": "x",
         "y": [
          "musicians"
         ],
         "yaxis": "y"
        },
        {
         "hovertemplate": "MEDIA POSTED=1.5k�(1784)<br>BRAND=%{x}<br>CATEGORIES 2=%{y}<extra></extra>",
         "legendgroup": "1.5k�(1784)",
         "marker": {
          "color": "rgb(100,181,205)",
          "symbol": "circle"
         },
         "mode": "markers",
         "name": "1.5k�(1784)",
         "orientation": "v",
         "showlegend": true,
         "type": "scatter",
         "x": [
          "Victoria Beckham"
         ],
         "xaxis": "x",
         "y": [
          "entrepreneurs"
         ],
         "yaxis": "y"
        },
        {
         "hovertemplate": "MEDIA POSTED=1.9k�(1356)<br>BRAND=%{x}<br>CATEGORIES 2=%{y}<extra></extra>",
         "legendgroup": "1.9k�(1356)",
         "marker": {
          "color": "rgb(76,114,176)",
          "symbol": "circle"
         },
         "mode": "markers",
         "name": "1.9k�(1356)",
         "orientation": "v",
         "showlegend": true,
         "type": "scatter",
         "x": [
          "Dior Official"
         ],
         "xaxis": "x",
         "y": [
          "luxury"
         ],
         "yaxis": "y"
        },
        {
         "hovertemplate": "MEDIA POSTED=3.3k�(636)<br>BRAND=%{x}<br>CATEGORIES 2=%{y}<extra></extra>",
         "legendgroup": "3.3k�(636)",
         "marker": {
          "color": "rgb(221,132,82)",
          "symbol": "circle"
         },
         "mode": "markers",
         "name": "3.3k�(636)",
         "orientation": "v",
         "showlegend": true,
         "type": "scatter",
         "x": [
          "M�A�C Cosmetics"
         ],
         "xaxis": "x",
         "y": [
          "retail"
         ],
         "yaxis": "y"
        },
        {
         "hovertemplate": "MEDIA POSTED=718�(3207)<br>BRAND=%{x}<br>CATEGORIES 2=%{y}<extra></extra>",
         "legendgroup": "718�(3207)",
         "marker": {
          "color": "rgb(85,168,104)",
          "symbol": "circle"
         },
         "mode": "markers",
         "name": "718�(3207)",
         "orientation": "v",
         "showlegend": true,
         "type": "scatter",
         "x": [
          "Channing Tatum"
         ],
         "xaxis": "x",
         "y": [
          "actors"
         ],
         "yaxis": "y"
        },
        {
         "hovertemplate": "MEDIA POSTED=133�(5050)<br>BRAND=%{x}<br>CATEGORIES 2=%{y}<extra></extra>",
         "legendgroup": "133�(5050)",
         "marker": {
          "color": "rgb(196,78,82)",
          "symbol": "circle"
         },
         "mode": "markers",
         "name": "133�(5050)",
         "orientation": "v",
         "showlegend": true,
         "type": "scatter",
         "x": [
          "Robert Downey Jr."
         ],
         "xaxis": "x",
         "y": [
          "tv"
         ],
         "yaxis": "y"
        },
        {
         "hovertemplate": "MEDIA POSTED=3.6k�(551)<br>BRAND=%{x}<br>CATEGORIES 2=%{y}<extra></extra>",
         "legendgroup": "3.6k�(551)",
         "marker": {
          "color": "rgb(129,114,179)",
          "symbol": "circle"
         },
         "mode": "markers",
         "name": "3.6k�(551)",
         "orientation": "v",
         "showlegend": true,
         "type": "scatter",
         "x": [
          "elliegoulding"
         ],
         "xaxis": "x",
         "y": [
          "musicians"
         ],
         "yaxis": "y"
        },
        {
         "hovertemplate": "MEDIA POSTED=1.4k�(1836)<br>BRAND=%{x}<br>CATEGORIES 2=%{y}<extra></extra>",
         "legendgroup": "1.4k�(1836)",
         "marker": {
          "color": "rgb(147,120,96)",
          "symbol": "circle"
         },
         "mode": "markers",
         "name": "1.4k�(1836)",
         "orientation": "v",
         "showlegend": true,
         "type": "scatter",
         "x": [
          "50 Cent"
         ],
         "xaxis": "x",
         "y": [
          "musicians"
         ],
         "yaxis": "y"
        },
        {
         "hovertemplate": "MEDIA POSTED=1.3k�(2054)<br>BRAND=%{x}<br>CATEGORIES 2=%{y}<extra></extra>",
         "legendgroup": "1.3k�(2054)",
         "marker": {
          "color": "rgb(218,139,195)",
          "symbol": "circle"
         },
         "mode": "markers",
         "name": "1.3k�(2054)",
         "orientation": "v",
         "showlegend": true,
         "type": "scatter",
         "x": [
          "Starbucks Coffee"
         ],
         "xaxis": "x",
         "y": [
          null
         ],
         "yaxis": "y"
        },
        {
         "hovertemplate": "MEDIA POSTED=8.9k�(67)<br>BRAND=%{x}<br>CATEGORIES 2=%{y}<extra></extra>",
         "legendgroup": "8.9k�(67)",
         "marker": {
          "color": "rgb(140,140,140)",
          "symbol": "circle"
         },
         "mode": "markers",
         "name": "8.9k�(67)",
         "orientation": "v",
         "showlegend": true,
         "type": "scatter",
         "x": [
          "Anastasia Beverly Hills"
         ],
         "xaxis": "x",
         "y": [
          null
         ],
         "yaxis": "y"
        },
        {
         "hovertemplate": "MEDIA POSTED=2.7k�(876)<br>BRAND=%{x}<br>CATEGORIES 2=%{y}<extra></extra>",
         "legendgroup": "2.7k�(876)",
         "marker": {
          "color": "rgb(204,185,116)",
          "symbol": "circle"
         },
         "mode": "markers",
         "name": "2.7k�(876)",
         "orientation": "v",
         "showlegend": true,
         "type": "scatter",
         "x": [
          "Luan Santana"
         ],
         "xaxis": "x",
         "y": [
          "musicians"
         ],
         "yaxis": "y"
        },
        {
         "hovertemplate": "MEDIA POSTED=2.4k�(1020)<br>BRAND=%{x}<br>CATEGORIES 2=%{y}<extra></extra>",
         "legendgroup": "2.4k�(1020)",
         "marker": {
          "color": "rgb(100,181,205)",
          "symbol": "circle"
         },
         "mode": "markers",
         "name": "2.4k�(1020)",
         "orientation": "v",
         "showlegend": true,
         "type": "scatter",
         "x": [
          "Chloe Grace Moretz"
         ],
         "xaxis": "x",
         "y": [
          "actors"
         ],
         "yaxis": "y"
        },
        {
         "hovertemplate": "MEDIA POSTED=1k�(2496)<br>BRAND=%{x}<br>CATEGORIES 2=%{y}<extra></extra>",
         "legendgroup": "1k�(2496)",
         "marker": {
          "color": "rgb(76,114,176)",
          "symbol": "circle"
         },
         "mode": "markers",
         "name": "1k�(2496)",
         "orientation": "v",
         "showlegend": true,
         "type": "scatter",
         "x": [
          "adidas"
         ],
         "xaxis": "x",
         "y": [
          "sport"
         ],
         "yaxis": "y"
        },
        {
         "hovertemplate": "MEDIA POSTED=3.8k�(496)<br>BRAND=%{x}<br>CATEGORIES 2=%{y}<extra></extra>",
         "legendgroup": "3.8k�(496)",
         "marker": {
          "color": "rgb(221,132,82)",
          "symbol": "circle"
         },
         "mode": "markers",
         "name": "3.8k�(496)",
         "orientation": "v",
         "showlegend": true,
         "type": "scatter",
         "x": [
          "forever21"
         ],
         "xaxis": "x",
         "y": [
          null
         ],
         "yaxis": "y"
        },
        {
         "hovertemplate": "MEDIA POSTED=2.6k�(899)<br>BRAND=%{x}<br>CATEGORIES 2=%{y}<extra></extra>",
         "legendgroup": "2.6k�(899)",
         "marker": {
          "color": "rgb(85,168,104)",
          "symbol": "circle"
         },
         "mode": "markers",
         "name": "2.6k�(899)",
         "orientation": "v",
         "showlegend": true,
         "type": "scatter",
         "x": [
          "Gucci"
         ],
         "xaxis": "x",
         "y": [
          "luxury"
         ],
         "yaxis": "y"
        },
        {
         "hovertemplate": "MEDIA POSTED=148�(5008)<br>BRAND=%{x}<br>CATEGORIES 2=%{y}<extra></extra>",
         "legendgroup": "148�(5008)",
         "marker": {
          "color": "rgb(196,78,82)",
          "symbol": "circle"
         },
         "mode": "markers",
         "name": "148�(5008)",
         "orientation": "v",
         "showlegend": true,
         "type": "scatter",
         "x": [
          "Louis Tomlinson"
         ],
         "xaxis": "x",
         "y": [
          "musicians"
         ],
         "yaxis": "y"
        },
        {
         "hovertemplate": "MEDIA POSTED=1.9k�(1366)<br>BRAND=%{x}<br>CATEGORIES 2=%{y}<extra></extra>",
         "legendgroup": "1.9k�(1366)",
         "marker": {
          "color": "rgb(129,114,179)",
          "symbol": "circle"
         },
         "mode": "markers",
         "name": "1.9k�(1366)",
         "orientation": "v",
         "showlegend": true,
         "type": "scatter",
         "x": [
          "G-DRAGON"
         ],
         "xaxis": "x",
         "y": [
          "fashion"
         ],
         "yaxis": "y"
        },
        {
         "hovertemplate": "MEDIA POSTED=1.7k�(1508)<br>BRAND=%{x}<br>CATEGORIES 2=%{y}<extra></extra>",
         "legendgroup": "1.7k�(1508)",
         "marker": {
          "color": "rgb(147,120,96)",
          "symbol": "circle"
         },
         "mode": "markers",
         "name": "1.7k�(1508)",
         "orientation": "v",
         "showlegend": true,
         "type": "scatter",
         "x": [
          "DanialvesD2 My Twitter"
         ],
         "xaxis": "x",
         "y": [
          "athletes"
         ],
         "yaxis": "y"
        },
        {
         "hovertemplate": "MEDIA POSTED=3.9k�(471)<br>BRAND=%{x}<br>CATEGORIES 2=%{y}<extra></extra>",
         "legendgroup": "3.9k�(471)",
         "marker": {
          "color": "rgb(218,139,195)",
          "symbol": "circle"
         },
         "mode": "markers",
         "name": "3.9k�(471)",
         "orientation": "v",
         "showlegend": true,
         "type": "scatter",
         "x": [
          "Dolce & Gabbana"
         ],
         "xaxis": "x",
         "y": [
          "luxury"
         ],
         "yaxis": "y"
        },
        {
         "hovertemplate": "MEDIA POSTED=2.5k�(948)<br>BRAND=%{x}<br>CATEGORIES 2=%{y}<extra></extra>",
         "legendgroup": "2.5k�(948)",
         "marker": {
          "color": "rgb(140,140,140)",
          "symbol": "circle"
         },
         "mode": "markers",
         "name": "2.5k�(948)",
         "orientation": "v",
         "showlegend": true,
         "type": "scatter",
         "x": [
          "Tyga / T-Raww"
         ],
         "xaxis": "x",
         "y": [
          "musicians"
         ],
         "yaxis": "y"
        },
        {
         "hovertemplate": "MEDIA POSTED=396�(4219)<br>BRAND=%{x}<br>CATEGORIES 2=%{y}<extra></extra>",
         "legendgroup": "396�(4219)",
         "marker": {
          "color": "rgb(204,185,116)",
          "symbol": "circle"
         },
         "mode": "markers",
         "name": "396�(4219)",
         "orientation": "v",
         "showlegend": true,
         "type": "scatter",
         "x": [
          "Paul Labile Pogba"
         ],
         "xaxis": "x",
         "y": [
          "athletes"
         ],
         "yaxis": "y"
        },
        {
         "hovertemplate": "MEDIA POSTED=231�(4753)<br>BRAND=%{x}<br>CATEGORIES 2=%{y}<extra></extra>",
         "legendgroup": "231�(4753)",
         "marker": {
          "color": "rgb(100,181,205)",
          "symbol": "circle"
         },
         "mode": "markers",
         "name": "231�(4753)",
         "orientation": "v",
         "showlegend": true,
         "type": "scatter",
         "x": [
          "Barack Obama"
         ],
         "xaxis": "x",
         "y": [
          "political"
         ],
         "yaxis": "y"
        }
       ],
       "layout": {
        "legend": {
         "title": {
          "text": "MEDIA POSTED"
         },
         "tracegroupgap": 0
        },
        "margin": {
         "t": 60
        },
        "template": {
         "data": {
          "bar": [
           {
            "error_x": {
             "color": "rgb(36,36,36)"
            },
            "error_y": {
             "color": "rgb(36,36,36)"
            },
            "marker": {
             "line": {
              "color": "rgb(234,234,242)",
              "width": 0.5
             }
            },
            "type": "bar"
           }
          ],
          "barpolar": [
           {
            "marker": {
             "line": {
              "color": "rgb(234,234,242)",
              "width": 0.5
             }
            },
            "type": "barpolar"
           }
          ],
          "carpet": [
           {
            "aaxis": {
             "endlinecolor": "rgb(36,36,36)",
             "gridcolor": "white",
             "linecolor": "white",
             "minorgridcolor": "white",
             "startlinecolor": "rgb(36,36,36)"
            },
            "baxis": {
             "endlinecolor": "rgb(36,36,36)",
             "gridcolor": "white",
             "linecolor": "white",
             "minorgridcolor": "white",
             "startlinecolor": "rgb(36,36,36)"
            },
            "type": "carpet"
           }
          ],
          "choropleth": [
           {
            "colorbar": {
             "outlinewidth": 0,
             "tickcolor": "rgb(36,36,36)",
             "ticklen": 8,
             "ticks": "outside",
             "tickwidth": 2
            },
            "type": "choropleth"
           }
          ],
          "contour": [
           {
            "colorbar": {
             "outlinewidth": 0,
             "tickcolor": "rgb(36,36,36)",
             "ticklen": 8,
             "ticks": "outside",
             "tickwidth": 2
            },
            "colorscale": [
             [
              0,
              "rgb(2,4,25)"
             ],
             [
              0.06274509803921569,
              "rgb(24,15,41)"
             ],
             [
              0.12549019607843137,
              "rgb(47,23,57)"
             ],
             [
              0.18823529411764706,
              "rgb(71,28,72)"
             ],
             [
              0.25098039215686274,
              "rgb(97,30,82)"
             ],
             [
              0.3137254901960784,
              "rgb(123,30,89)"
             ],
             [
              0.3764705882352941,
              "rgb(150,27,91)"
             ],
             [
              0.4392156862745098,
              "rgb(177,22,88)"
             ],
             [
              0.5019607843137255,
              "rgb(203,26,79)"
             ],
             [
              0.5647058823529412,
              "rgb(223,47,67)"
             ],
             [
              0.6274509803921569,
              "rgb(236,76,61)"
             ],
             [
              0.6901960784313725,
              "rgb(242,107,73)"
             ],
             [
              0.7529411764705882,
              "rgb(244,135,95)"
             ],
             [
              0.8156862745098039,
              "rgb(245,162,122)"
             ],
             [
              0.8784313725490196,
              "rgb(246,188,153)"
             ],
             [
              0.9411764705882353,
              "rgb(247,212,187)"
             ],
             [
              1,
              "rgb(250,234,220)"
             ]
            ],
            "type": "contour"
           }
          ],
          "contourcarpet": [
           {
            "colorbar": {
             "outlinewidth": 0,
             "tickcolor": "rgb(36,36,36)",
             "ticklen": 8,
             "ticks": "outside",
             "tickwidth": 2
            },
            "type": "contourcarpet"
           }
          ],
          "heatmap": [
           {
            "colorbar": {
             "outlinewidth": 0,
             "tickcolor": "rgb(36,36,36)",
             "ticklen": 8,
             "ticks": "outside",
             "tickwidth": 2
            },
            "colorscale": [
             [
              0,
              "rgb(2,4,25)"
             ],
             [
              0.06274509803921569,
              "rgb(24,15,41)"
             ],
             [
              0.12549019607843137,
              "rgb(47,23,57)"
             ],
             [
              0.18823529411764706,
              "rgb(71,28,72)"
             ],
             [
              0.25098039215686274,
              "rgb(97,30,82)"
             ],
             [
              0.3137254901960784,
              "rgb(123,30,89)"
             ],
             [
              0.3764705882352941,
              "rgb(150,27,91)"
             ],
             [
              0.4392156862745098,
              "rgb(177,22,88)"
             ],
             [
              0.5019607843137255,
              "rgb(203,26,79)"
             ],
             [
              0.5647058823529412,
              "rgb(223,47,67)"
             ],
             [
              0.6274509803921569,
              "rgb(236,76,61)"
             ],
             [
              0.6901960784313725,
              "rgb(242,107,73)"
             ],
             [
              0.7529411764705882,
              "rgb(244,135,95)"
             ],
             [
              0.8156862745098039,
              "rgb(245,162,122)"
             ],
             [
              0.8784313725490196,
              "rgb(246,188,153)"
             ],
             [
              0.9411764705882353,
              "rgb(247,212,187)"
             ],
             [
              1,
              "rgb(250,234,220)"
             ]
            ],
            "type": "heatmap"
           }
          ],
          "heatmapgl": [
           {
            "colorbar": {
             "outlinewidth": 0,
             "tickcolor": "rgb(36,36,36)",
             "ticklen": 8,
             "ticks": "outside",
             "tickwidth": 2
            },
            "colorscale": [
             [
              0,
              "rgb(2,4,25)"
             ],
             [
              0.06274509803921569,
              "rgb(24,15,41)"
             ],
             [
              0.12549019607843137,
              "rgb(47,23,57)"
             ],
             [
              0.18823529411764706,
              "rgb(71,28,72)"
             ],
             [
              0.25098039215686274,
              "rgb(97,30,82)"
             ],
             [
              0.3137254901960784,
              "rgb(123,30,89)"
             ],
             [
              0.3764705882352941,
              "rgb(150,27,91)"
             ],
             [
              0.4392156862745098,
              "rgb(177,22,88)"
             ],
             [
              0.5019607843137255,
              "rgb(203,26,79)"
             ],
             [
              0.5647058823529412,
              "rgb(223,47,67)"
             ],
             [
              0.6274509803921569,
              "rgb(236,76,61)"
             ],
             [
              0.6901960784313725,
              "rgb(242,107,73)"
             ],
             [
              0.7529411764705882,
              "rgb(244,135,95)"
             ],
             [
              0.8156862745098039,
              "rgb(245,162,122)"
             ],
             [
              0.8784313725490196,
              "rgb(246,188,153)"
             ],
             [
              0.9411764705882353,
              "rgb(247,212,187)"
             ],
             [
              1,
              "rgb(250,234,220)"
             ]
            ],
            "type": "heatmapgl"
           }
          ],
          "histogram": [
           {
            "marker": {
             "colorbar": {
              "outlinewidth": 0,
              "tickcolor": "rgb(36,36,36)",
              "ticklen": 8,
              "ticks": "outside",
              "tickwidth": 2
             }
            },
            "type": "histogram"
           }
          ],
          "histogram2d": [
           {
            "colorbar": {
             "outlinewidth": 0,
             "tickcolor": "rgb(36,36,36)",
             "ticklen": 8,
             "ticks": "outside",
             "tickwidth": 2
            },
            "colorscale": [
             [
              0,
              "rgb(2,4,25)"
             ],
             [
              0.06274509803921569,
              "rgb(24,15,41)"
             ],
             [
              0.12549019607843137,
              "rgb(47,23,57)"
             ],
             [
              0.18823529411764706,
              "rgb(71,28,72)"
             ],
             [
              0.25098039215686274,
              "rgb(97,30,82)"
             ],
             [
              0.3137254901960784,
              "rgb(123,30,89)"
             ],
             [
              0.3764705882352941,
              "rgb(150,27,91)"
             ],
             [
              0.4392156862745098,
              "rgb(177,22,88)"
             ],
             [
              0.5019607843137255,
              "rgb(203,26,79)"
             ],
             [
              0.5647058823529412,
              "rgb(223,47,67)"
             ],
             [
              0.6274509803921569,
              "rgb(236,76,61)"
             ],
             [
              0.6901960784313725,
              "rgb(242,107,73)"
             ],
             [
              0.7529411764705882,
              "rgb(244,135,95)"
             ],
             [
              0.8156862745098039,
              "rgb(245,162,122)"
             ],
             [
              0.8784313725490196,
              "rgb(246,188,153)"
             ],
             [
              0.9411764705882353,
              "rgb(247,212,187)"
             ],
             [
              1,
              "rgb(250,234,220)"
             ]
            ],
            "type": "histogram2d"
           }
          ],
          "histogram2dcontour": [
           {
            "colorbar": {
             "outlinewidth": 0,
             "tickcolor": "rgb(36,36,36)",
             "ticklen": 8,
             "ticks": "outside",
             "tickwidth": 2
            },
            "colorscale": [
             [
              0,
              "rgb(2,4,25)"
             ],
             [
              0.06274509803921569,
              "rgb(24,15,41)"
             ],
             [
              0.12549019607843137,
              "rgb(47,23,57)"
             ],
             [
              0.18823529411764706,
              "rgb(71,28,72)"
             ],
             [
              0.25098039215686274,
              "rgb(97,30,82)"
             ],
             [
              0.3137254901960784,
              "rgb(123,30,89)"
             ],
             [
              0.3764705882352941,
              "rgb(150,27,91)"
             ],
             [
              0.4392156862745098,
              "rgb(177,22,88)"
             ],
             [
              0.5019607843137255,
              "rgb(203,26,79)"
             ],
             [
              0.5647058823529412,
              "rgb(223,47,67)"
             ],
             [
              0.6274509803921569,
              "rgb(236,76,61)"
             ],
             [
              0.6901960784313725,
              "rgb(242,107,73)"
             ],
             [
              0.7529411764705882,
              "rgb(244,135,95)"
             ],
             [
              0.8156862745098039,
              "rgb(245,162,122)"
             ],
             [
              0.8784313725490196,
              "rgb(246,188,153)"
             ],
             [
              0.9411764705882353,
              "rgb(247,212,187)"
             ],
             [
              1,
              "rgb(250,234,220)"
             ]
            ],
            "type": "histogram2dcontour"
           }
          ],
          "mesh3d": [
           {
            "colorbar": {
             "outlinewidth": 0,
             "tickcolor": "rgb(36,36,36)",
             "ticklen": 8,
             "ticks": "outside",
             "tickwidth": 2
            },
            "type": "mesh3d"
           }
          ],
          "parcoords": [
           {
            "line": {
             "colorbar": {
              "outlinewidth": 0,
              "tickcolor": "rgb(36,36,36)",
              "ticklen": 8,
              "ticks": "outside",
              "tickwidth": 2
             }
            },
            "type": "parcoords"
           }
          ],
          "pie": [
           {
            "automargin": true,
            "type": "pie"
           }
          ],
          "scatter": [
           {
            "marker": {
             "colorbar": {
              "outlinewidth": 0,
              "tickcolor": "rgb(36,36,36)",
              "ticklen": 8,
              "ticks": "outside",
              "tickwidth": 2
             }
            },
            "type": "scatter"
           }
          ],
          "scatter3d": [
           {
            "line": {
             "colorbar": {
              "outlinewidth": 0,
              "tickcolor": "rgb(36,36,36)",
              "ticklen": 8,
              "ticks": "outside",
              "tickwidth": 2
             }
            },
            "marker": {
             "colorbar": {
              "outlinewidth": 0,
              "tickcolor": "rgb(36,36,36)",
              "ticklen": 8,
              "ticks": "outside",
              "tickwidth": 2
             }
            },
            "type": "scatter3d"
           }
          ],
          "scattercarpet": [
           {
            "marker": {
             "colorbar": {
              "outlinewidth": 0,
              "tickcolor": "rgb(36,36,36)",
              "ticklen": 8,
              "ticks": "outside",
              "tickwidth": 2
             }
            },
            "type": "scattercarpet"
           }
          ],
          "scattergeo": [
           {
            "marker": {
             "colorbar": {
              "outlinewidth": 0,
              "tickcolor": "rgb(36,36,36)",
              "ticklen": 8,
              "ticks": "outside",
              "tickwidth": 2
             }
            },
            "type": "scattergeo"
           }
          ],
          "scattergl": [
           {
            "marker": {
             "colorbar": {
              "outlinewidth": 0,
              "tickcolor": "rgb(36,36,36)",
              "ticklen": 8,
              "ticks": "outside",
              "tickwidth": 2
             }
            },
            "type": "scattergl"
           }
          ],
          "scattermapbox": [
           {
            "marker": {
             "colorbar": {
              "outlinewidth": 0,
              "tickcolor": "rgb(36,36,36)",
              "ticklen": 8,
              "ticks": "outside",
              "tickwidth": 2
             }
            },
            "type": "scattermapbox"
           }
          ],
          "scatterpolar": [
           {
            "marker": {
             "colorbar": {
              "outlinewidth": 0,
              "tickcolor": "rgb(36,36,36)",
              "ticklen": 8,
              "ticks": "outside",
              "tickwidth": 2
             }
            },
            "type": "scatterpolar"
           }
          ],
          "scatterpolargl": [
           {
            "marker": {
             "colorbar": {
              "outlinewidth": 0,
              "tickcolor": "rgb(36,36,36)",
              "ticklen": 8,
              "ticks": "outside",
              "tickwidth": 2
             }
            },
            "type": "scatterpolargl"
           }
          ],
          "scatterternary": [
           {
            "marker": {
             "colorbar": {
              "outlinewidth": 0,
              "tickcolor": "rgb(36,36,36)",
              "ticklen": 8,
              "ticks": "outside",
              "tickwidth": 2
             }
            },
            "type": "scatterternary"
           }
          ],
          "surface": [
           {
            "colorbar": {
             "outlinewidth": 0,
             "tickcolor": "rgb(36,36,36)",
             "ticklen": 8,
             "ticks": "outside",
             "tickwidth": 2
            },
            "colorscale": [
             [
              0,
              "rgb(2,4,25)"
             ],
             [
              0.06274509803921569,
              "rgb(24,15,41)"
             ],
             [
              0.12549019607843137,
              "rgb(47,23,57)"
             ],
             [
              0.18823529411764706,
              "rgb(71,28,72)"
             ],
             [
              0.25098039215686274,
              "rgb(97,30,82)"
             ],
             [
              0.3137254901960784,
              "rgb(123,30,89)"
             ],
             [
              0.3764705882352941,
              "rgb(150,27,91)"
             ],
             [
              0.4392156862745098,
              "rgb(177,22,88)"
             ],
             [
              0.5019607843137255,
              "rgb(203,26,79)"
             ],
             [
              0.5647058823529412,
              "rgb(223,47,67)"
             ],
             [
              0.6274509803921569,
              "rgb(236,76,61)"
             ],
             [
              0.6901960784313725,
              "rgb(242,107,73)"
             ],
             [
              0.7529411764705882,
              "rgb(244,135,95)"
             ],
             [
              0.8156862745098039,
              "rgb(245,162,122)"
             ],
             [
              0.8784313725490196,
              "rgb(246,188,153)"
             ],
             [
              0.9411764705882353,
              "rgb(247,212,187)"
             ],
             [
              1,
              "rgb(250,234,220)"
             ]
            ],
            "type": "surface"
           }
          ],
          "table": [
           {
            "cells": {
             "fill": {
              "color": "rgb(231,231,240)"
             },
             "line": {
              "color": "white"
             }
            },
            "header": {
             "fill": {
              "color": "rgb(183,183,191)"
             },
             "line": {
              "color": "white"
             }
            },
            "type": "table"
           }
          ]
         },
         "layout": {
          "annotationdefaults": {
           "arrowcolor": "rgb(67,103,167)"
          },
          "autotypenumbers": "strict",
          "coloraxis": {
           "colorbar": {
            "outlinewidth": 0,
            "tickcolor": "rgb(36,36,36)",
            "ticklen": 8,
            "ticks": "outside",
            "tickwidth": 2
           }
          },
          "colorscale": {
           "sequential": [
            [
             0,
             "rgb(2,4,25)"
            ],
            [
             0.06274509803921569,
             "rgb(24,15,41)"
            ],
            [
             0.12549019607843137,
             "rgb(47,23,57)"
            ],
            [
             0.18823529411764706,
             "rgb(71,28,72)"
            ],
            [
             0.25098039215686274,
             "rgb(97,30,82)"
            ],
            [
             0.3137254901960784,
             "rgb(123,30,89)"
            ],
            [
             0.3764705882352941,
             "rgb(150,27,91)"
            ],
            [
             0.4392156862745098,
             "rgb(177,22,88)"
            ],
            [
             0.5019607843137255,
             "rgb(203,26,79)"
            ],
            [
             0.5647058823529412,
             "rgb(223,47,67)"
            ],
            [
             0.6274509803921569,
             "rgb(236,76,61)"
            ],
            [
             0.6901960784313725,
             "rgb(242,107,73)"
            ],
            [
             0.7529411764705882,
             "rgb(244,135,95)"
            ],
            [
             0.8156862745098039,
             "rgb(245,162,122)"
            ],
            [
             0.8784313725490196,
             "rgb(246,188,153)"
            ],
            [
             0.9411764705882353,
             "rgb(247,212,187)"
            ],
            [
             1,
             "rgb(250,234,220)"
            ]
           ],
           "sequentialminus": [
            [
             0,
             "rgb(2,4,25)"
            ],
            [
             0.06274509803921569,
             "rgb(24,15,41)"
            ],
            [
             0.12549019607843137,
             "rgb(47,23,57)"
            ],
            [
             0.18823529411764706,
             "rgb(71,28,72)"
            ],
            [
             0.25098039215686274,
             "rgb(97,30,82)"
            ],
            [
             0.3137254901960784,
             "rgb(123,30,89)"
            ],
            [
             0.3764705882352941,
             "rgb(150,27,91)"
            ],
            [
             0.4392156862745098,
             "rgb(177,22,88)"
            ],
            [
             0.5019607843137255,
             "rgb(203,26,79)"
            ],
            [
             0.5647058823529412,
             "rgb(223,47,67)"
            ],
            [
             0.6274509803921569,
             "rgb(236,76,61)"
            ],
            [
             0.6901960784313725,
             "rgb(242,107,73)"
            ],
            [
             0.7529411764705882,
             "rgb(244,135,95)"
            ],
            [
             0.8156862745098039,
             "rgb(245,162,122)"
            ],
            [
             0.8784313725490196,
             "rgb(246,188,153)"
            ],
            [
             0.9411764705882353,
             "rgb(247,212,187)"
            ],
            [
             1,
             "rgb(250,234,220)"
            ]
           ]
          },
          "colorway": [
           "rgb(76,114,176)",
           "rgb(221,132,82)",
           "rgb(85,168,104)",
           "rgb(196,78,82)",
           "rgb(129,114,179)",
           "rgb(147,120,96)",
           "rgb(218,139,195)",
           "rgb(140,140,140)",
           "rgb(204,185,116)",
           "rgb(100,181,205)"
          ],
          "font": {
           "color": "rgb(36,36,36)"
          },
          "geo": {
           "bgcolor": "white",
           "lakecolor": "white",
           "landcolor": "rgb(234,234,242)",
           "showlakes": true,
           "showland": true,
           "subunitcolor": "white"
          },
          "hoverlabel": {
           "align": "left"
          },
          "hovermode": "closest",
          "paper_bgcolor": "white",
          "plot_bgcolor": "rgb(234,234,242)",
          "polar": {
           "angularaxis": {
            "gridcolor": "white",
            "linecolor": "white",
            "showgrid": true,
            "ticks": ""
           },
           "bgcolor": "rgb(234,234,242)",
           "radialaxis": {
            "gridcolor": "white",
            "linecolor": "white",
            "showgrid": true,
            "ticks": ""
           }
          },
          "scene": {
           "xaxis": {
            "backgroundcolor": "rgb(234,234,242)",
            "gridcolor": "white",
            "gridwidth": 2,
            "linecolor": "white",
            "showbackground": true,
            "showgrid": true,
            "ticks": "",
            "zerolinecolor": "white"
           },
           "yaxis": {
            "backgroundcolor": "rgb(234,234,242)",
            "gridcolor": "white",
            "gridwidth": 2,
            "linecolor": "white",
            "showbackground": true,
            "showgrid": true,
            "ticks": "",
            "zerolinecolor": "white"
           },
           "zaxis": {
            "backgroundcolor": "rgb(234,234,242)",
            "gridcolor": "white",
            "gridwidth": 2,
            "linecolor": "white",
            "showbackground": true,
            "showgrid": true,
            "ticks": "",
            "zerolinecolor": "white"
           }
          },
          "shapedefaults": {
           "fillcolor": "rgb(67,103,167)",
           "line": {
            "width": 0
           },
           "opacity": 0.5
          },
          "ternary": {
           "aaxis": {
            "gridcolor": "white",
            "linecolor": "white",
            "showgrid": true,
            "ticks": ""
           },
           "baxis": {
            "gridcolor": "white",
            "linecolor": "white",
            "showgrid": true,
            "ticks": ""
           },
           "bgcolor": "rgb(234,234,242)",
           "caxis": {
            "gridcolor": "white",
            "linecolor": "white",
            "showgrid": true,
            "ticks": ""
           }
          },
          "xaxis": {
           "automargin": true,
           "gridcolor": "white",
           "linecolor": "white",
           "showgrid": true,
           "ticks": "",
           "title": {
            "standoff": 15
           },
           "zerolinecolor": "white"
          },
          "yaxis": {
           "automargin": true,
           "gridcolor": "white",
           "linecolor": "white",
           "showgrid": true,
           "ticks": "",
           "title": {
            "standoff": 15
           },
           "zerolinecolor": "white"
          }
         }
        },
        "xaxis": {
         "anchor": "y",
         "domain": [
          0,
          1
         ],
         "title": {
          "text": "BRAND"
         }
        },
        "yaxis": {
         "anchor": "x",
         "domain": [
          0,
          1
         ],
         "title": {
          "text": "CATEGORIES 2"
         }
        }
       }
      }
     },
     "metadata": {},
     "output_type": "display_data"
    }
   ],
   "source": [
    "fig = px.scatter(df, x=\"BRAND\", y=\"CATEGORIES 2\", color='MEDIA POSTED', template='seaborn')\n",
    "fig.show()"
   ]
  },
  {
   "cell_type": "code",
   "execution_count": 89,
   "metadata": {},
   "outputs": [
    {
     "data": {
      "application/vnd.plotly.v1+json": {
       "config": {
        "plotlyServerURL": "https://plot.ly"
       },
       "data": [
        {
         "alignmentgroup": "True",
         "customdata": [
          [
           "2.62%�(1342)",
           "105.4M�(=)"
          ],
          [
           "1.96%�(2040)",
           "95.2M�(=)"
          ],
          [
           "1.43%�(2759)",
           "92.3M�(=)"
          ],
          [
           "2.53%�(1427)",
           "90.6M�(=)"
          ],
          [
           "1.39%�(2812)",
           "89.3M�(=)"
          ],
          [
           "2.62%�(1340)",
           "85.1M�(=)"
          ],
          [
           "1.89%�(2127)",
           "81.8M�(=)"
          ],
          [
           "1.66%�(2408)",
           "77.9M�(=)"
          ],
          [
           "1.24%�(3043)",
           "73.3M�(=)"
          ],
          [
           "1.78%�(2272)",
           "70.9M�(=)"
          ],
          [
           "0.93%�(3525)",
           "70.8M�(=)"
          ],
          [
           "1.76%�(2288)",
           "68.2M�(=)"
          ],
          [
           "1.14%�(3184)",
           "65.8M�(=)"
          ],
          [
           "1.52%�(2617)",
           "64M�(=)"
          ],
          [
           "4.27%�(481)",
           "61.9M�(=)"
          ],
          [
           "2.16%�(1799)",
           "60.2M�(=)"
          ],
          [
           "1.50%�(2657)",
           "59.6M�(=)"
          ],
          [
           "1.41%�(2784)",
           "57.8M�(=)"
          ],
          [
           "1.23%�(3052)",
           "55.1M�(=)"
          ],
          [
           "2.65%�(1320)",
           "51.3M�(=)"
          ],
          [
           "1.24%�(3030)",
           "50.7M�(=)"
          ],
          [
           "1.03%�(3358)",
           "49.1M�(=)"
          ],
          [
           "1.53%�(2606)",
           "47.3M�(=)"
          ],
          [
           "0.68%�(3906)",
           "45.9M�(=)"
          ],
          [
           "1.78%�(2271)",
           "43.3M�(=)"
          ],
          [
           "2.02%�(1975)",
           "41.8M�(=)"
          ],
          [
           "1.42%�(2767)",
           "39.6M�(=)"
          ],
          [
           "1.43%�(2763)",
           "38.2M�(=)"
          ],
          [
           "1.55%�(2584)",
           "36.2M�(=)"
          ],
          [
           "3.02%�(1032)",
           "36M�(=)"
          ],
          [
           "2.42%�(1525)",
           "35M�(=)"
          ],
          [
           "3.23%�(919)",
           "31.7M�(=)"
          ],
          [
           "1.33%�(2900)",
           "31.1M�(=)"
          ],
          [
           "1.76%�(2299)",
           "30.2M�(=)"
          ],
          [
           "2.06%�(1921)",
           "28.4M�(=)"
          ],
          [
           "2.44%�(1501)",
           "27.8M�(=)"
          ],
          [
           "1.63%�(2473)",
           "27.2M�(=)"
          ],
          [
           "1.45%�(2716)",
           "27M�(=)"
          ],
          [
           "2.88%�(1136)",
           "25.3M�(=)"
          ],
          [
           "3.20%�(937)",
           "25M�(=)"
          ],
          [
           "4.95%�(343)",
           "23.8M�(=)"
          ],
          [
           "2.63%�(1337)",
           "22.7M�(=)"
          ],
          [
           "3.52%�(754)",
           "21.7M�(=)"
          ],
          [
           "7.29%�(107)",
           "21.4M�(=)"
          ],
          [
           "1.33%�(2899)",
           "20.4M�(=)"
          ],
          [
           "1.13%�(3211)",
           "20.1M�(=)"
          ],
          [
           "12.39%�(27)",
           "19.4M�(=)"
          ],
          [
           "1.59%�(2529)",
           "18.7M�(=)"
          ],
          [
           "2.50%�(1453)",
           "18.7M�(=)"
          ],
          [
           "7.59%�(92)",
           "18.3M�(=)"
          ],
          [
           "2.95%�(1085)",
           "18.2M�(=)"
          ],
          [
           "1.00%�(3410)",
           "18.1M�(=)"
          ],
          [
           "1.21%�(3097)",
           "17.7M�(=)"
          ],
          [
           "10.00%�(45)",
           "17.2M�(=)"
          ],
          [
           "0.89%�(3594)",
           "17.1M�(=)"
          ],
          [
           "5.43%�(254)",
           "16.9M�(=)"
          ],
          [
           "3.28%�(885)",
           "16.6M�(=)"
          ],
          [
           "1.45%�(2731)",
           "16.6M�(=)"
          ],
          [
           "2.59%�(1373)",
           "16.5M�(=)"
          ],
          [
           "1.02%�(3378)",
           "16.4M�(=)"
          ],
          [
           "1.22%�(3085)",
           "16.3M�(=)"
          ],
          [
           "1.48%�(2682)",
           "15.4M�(=)"
          ],
          [
           "1.87%�(2149)",
           "15.3M�(=)"
          ],
          [
           "3.31%�(865)",
           "15.2M�(=)"
          ],
          [
           "0.89%�(3599)",
           "15.2M�(=)"
          ],
          [
           "2.33%�(1613)",
           "15.1M�(=)"
          ],
          [
           "3.97%�(572)",
           "15M�(=)"
          ],
          [
           "2.04%�(1940)",
           "14.7M�(=)"
          ],
          [
           "2.45%�(1496)",
           "14.6M�(=)"
          ],
          [
           "1.55%�(2587)",
           "14.6M�(=)"
          ],
          [
           "1.29%�(2942)",
           "14.5M�(=)"
          ],
          [
           "1.52%�(2627)",
           "14.3M�(=)"
          ],
          [
           "0.74%�(3829)",
           "14.2M�(=)"
          ],
          [
           "0.46%�(4159)",
           "14M�(=)"
          ],
          [
           "1.50%�(2659)",
           "14M�(=)"
          ],
          [
           "1.08%�(3293)",
           "13.7M�(=)"
          ],
          [
           "3.12%�(982)",
           "13.7M�(=)"
          ],
          [
           "0.83%�(3690)",
           "13.6M�(=)"
          ],
          [
           "0.61%�(3991)",
           "13.3M�(=)"
          ],
          [
           "1.45%�(2728)",
           "13.3M�(=)"
          ],
          [
           "0.74%�(3826)",
           "13.1M�(=)"
          ],
          [
           "0.70%�(3872)",
           "13M�(=)"
          ],
          [
           "4.72%�(370)",
           "13M�(=)"
          ],
          [
           "3.65%�(693)",
           "12.9M�(+1)"
          ],
          [
           "1.75%�(2300)",
           "12.9M�(-1)"
          ],
          [
           "0.89%�(3588)",
           "12.9M�(=)"
          ],
          [
           "3.19%�(944)",
           "12.6M�(=)"
          ],
          [
           "1.05%�(3325)",
           "12.3M�(=)"
          ],
          [
           "1.64%�(2439)",
           "12.2M�(=)"
          ],
          [
           "4.10%�(535)",
           "12.2M�(=)"
          ],
          [
           "1.52%�(2619)",
           "12.1M�(=)"
          ],
          [
           "1.68%�(2388)",
           "12.1M�(=)"
          ],
          [
           "0.55%�(4073)",
           "12M�(=)"
          ],
          [
           "11.42%�(32)",
           "11.8M�(=)"
          ],
          [
           "4.45%�(422)",
           "11.8M�(=)"
          ],
          [
           "1.62%�(2477)",
           "11.7M�(=)"
          ],
          [
           "0.48%�(4142)",
           "11.7M�(=)"
          ],
          [
           "1.31%�(2922)",
           "11.6M�(=)"
          ],
          [
           "6.11%�(170)",
           "11.5M�(=)"
          ],
          [
           "3.37%�(826)",
           "11.5M�(=)"
          ]
         ],
         "hovertemplate": "BRAND=%{x}<br>CATEGORIES 2=%{y}<br>ER=%{customdata[0]}<br>FOLLOWERS=%{customdata[1]}<br>RANK=%{marker.color}<extra></extra>",
         "legendgroup": "",
         "marker": {
          "color": [
           1,
           2,
           3,
           4,
           5,
           6,
           7,
           8,
           9,
           10,
           11,
           12,
           13,
           14,
           15,
           16,
           17,
           18,
           19,
           20,
           21,
           22,
           23,
           24,
           25,
           26,
           27,
           28,
           29,
           30,
           31,
           32,
           33,
           34,
           35,
           36,
           37,
           38,
           39,
           40,
           41,
           42,
           43,
           44,
           45,
           46,
           47,
           48,
           49,
           50,
           51,
           52,
           53,
           54,
           55,
           56,
           57,
           58,
           59,
           60,
           61,
           62,
           63,
           64,
           65,
           66,
           67,
           68,
           69,
           70,
           71,
           72,
           73,
           74,
           75,
           76,
           77,
           78,
           79,
           80,
           81,
           82,
           83,
           84,
           85,
           86,
           87,
           88,
           89,
           90,
           91,
           92,
           93,
           94,
           95,
           96,
           97,
           98,
           99,
           100
          ],
          "coloraxis": "coloraxis"
         },
         "name": "",
         "offsetgroup": "",
         "orientation": "v",
         "showlegend": false,
         "textposition": "auto",
         "type": "bar",
         "x": [
          "Selena Gomez",
          "Taylor Swift",
          "Ariana Grande",
          "Beyonce",
          "Kim Kardashian West",
          "Cristiano Ronaldo",
          "Kylie",
          "Justin Bieber",
          "therock",
          "Kendall",
          "Nicki Minaj",
          "nike",
          "National Geographic",
          "Nj",
          "Leo Messi",
          "Khloe",
          "KATY PERRY",
          "Miley Cyrus",
          "Jennifer Lopez",
          "Demi Lovato",
          "Kourtney Kardashian",
          "Victoria's Secret",
          "badgalriri",
          "Kevin Hart",
          "FC Barcelona",
          "Real Madrid C.F.",
          "Justin Timberlake",
          "Ellen",
          "Cara Delevingne",
          "Zendaya",
          "9gag",
          "David Beckham",
          "champagnepapi",
          "Vin Diesel",
          "Shakira",
          "James Rodr�guez",
          "Gigi Hadid",
          "LeBron James",
          "Gareth Bale",
          "Nike Football (Soccer)",
          "Zac Efron",
          "Vanessa Hudgens",
          "IAmZlatan",
          "Emma Watson",
          "xoxo, Joanne",
          "NBA",
          "harrystyles",
          "Scott Disick",
          "Luis Suarez",
          "Niall Horan",
          "NASA",
          "H&M",
          "Bruna Marquezine _",
          "One Direction",
          "CHANEL",
          "Shawn Mendes",
          "Lucy Hale",
          "euanitta",
          "Karim Benzema",
          "Marina Ruy Barbosa",
          "adidas Originals",
          "David Luiz",
          "Andres Iniesta",
          "Ashley Benson",
          "ZARA Official",
          "Manchester United",
          "Shay Mitchell",
          "Marcelo Vieira Jr.",
          "BELLA",
          "Ciara",
          "Britney Spears",
          "National Geographic Travel",
          "Louis Vuitton Official",
          "snoopdogg",
          "Floyd Mayweather",
          "Vogue",
          "Sergio Ramos",
          "Tata Werneck",
          "Daddy Yankee",
          "Victoria Beckham",
          "Dior Official",
          "M�A�C Cosmetics",
          "Channing Tatum",
          "Robert Downey Jr.",
          "elliegoulding",
          "50 Cent",
          "Starbucks Coffee",
          "Anastasia Beverly Hills",
          "Luan Santana",
          "Chloe Grace Moretz",
          "adidas",
          "forever21",
          "Gucci",
          "Louis Tomlinson",
          "G-DRAGON",
          "DanialvesD2 My Twitter",
          "Dolce & Gabbana",
          "Tyga / T-Raww",
          "Paul Labile Pogba",
          "Barack Obama"
         ],
         "xaxis": "x",
         "y": [
          "musicians",
          "musicians",
          "musicians",
          "musicians",
          "tv",
          "athletes",
          "models",
          "musicians",
          "athletes",
          "models",
          "musicians",
          "sport",
          null,
          "athletes",
          "athletes",
          "tv",
          "musicians",
          "musicians",
          "musicians",
          "musicians",
          "tv",
          null,
          "musicians",
          "actors",
          "football",
          "football",
          "musicians",
          "tv",
          "models",
          "musicians",
          null,
          "athletes",
          "musicians",
          "actors",
          "musicians",
          "athletes",
          "models",
          "athletes",
          "athletes",
          "sport",
          "actors",
          "actors",
          "athletes",
          "actors",
          "musicians",
          "basketball",
          "musicians",
          "tv",
          "athletes",
          "musicians",
          null,
          "retail",
          "models",
          "musicians",
          "luxury",
          "musicians",
          "actors",
          "musicians",
          "athletes",
          "actors",
          "sport",
          "athletes",
          "athletes",
          "actors",
          "retail",
          "football",
          "actors",
          "athletes",
          "media",
          "musicians",
          "musicians",
          null,
          "luxury",
          "musicians",
          "athletes",
          null,
          "athletes",
          "tv",
          "musicians",
          "entrepreneurs",
          "luxury",
          "retail",
          "actors",
          "tv",
          "musicians",
          "musicians",
          null,
          null,
          "musicians",
          "actors",
          "sport",
          null,
          "luxury",
          "musicians",
          "fashion",
          "athletes",
          "luxury",
          "musicians",
          "athletes",
          "political"
         ],
         "yaxis": "y"
        }
       ],
       "layout": {
        "barmode": "relative",
        "coloraxis": {
         "colorbar": {
          "title": {
           "text": "RANK"
          }
         },
         "colorscale": [
          [
           0,
           "rgb(2,4,25)"
          ],
          [
           0.0625,
           "rgb(24,15,41)"
          ],
          [
           0.125,
           "rgb(47,23,57)"
          ],
          [
           0.1875,
           "rgb(71,28,72)"
          ],
          [
           0.25,
           "rgb(97,30,82)"
          ],
          [
           0.3125,
           "rgb(123,30,89)"
          ],
          [
           0.375,
           "rgb(150,27,91)"
          ],
          [
           0.4375,
           "rgb(177,22,88)"
          ],
          [
           0.5,
           "rgb(203,26,79)"
          ],
          [
           0.5625,
           "rgb(223,47,67)"
          ],
          [
           0.625,
           "rgb(236,76,61)"
          ],
          [
           0.6875,
           "rgb(242,107,73)"
          ],
          [
           0.75,
           "rgb(244,135,95)"
          ],
          [
           0.8125,
           "rgb(245,162,122)"
          ],
          [
           0.875,
           "rgb(246,188,153)"
          ],
          [
           0.9375,
           "rgb(247,212,187)"
          ],
          [
           1,
           "rgb(250,234,220)"
          ]
         ]
        },
        "height": 400,
        "legend": {
         "tracegroupgap": 0
        },
        "margin": {
         "t": 60
        },
        "template": {
         "data": {
          "bar": [
           {
            "error_x": {
             "color": "rgb(36,36,36)"
            },
            "error_y": {
             "color": "rgb(36,36,36)"
            },
            "marker": {
             "line": {
              "color": "rgb(234,234,242)",
              "width": 0.5
             }
            },
            "type": "bar"
           }
          ],
          "barpolar": [
           {
            "marker": {
             "line": {
              "color": "rgb(234,234,242)",
              "width": 0.5
             }
            },
            "type": "barpolar"
           }
          ],
          "carpet": [
           {
            "aaxis": {
             "endlinecolor": "rgb(36,36,36)",
             "gridcolor": "white",
             "linecolor": "white",
             "minorgridcolor": "white",
             "startlinecolor": "rgb(36,36,36)"
            },
            "baxis": {
             "endlinecolor": "rgb(36,36,36)",
             "gridcolor": "white",
             "linecolor": "white",
             "minorgridcolor": "white",
             "startlinecolor": "rgb(36,36,36)"
            },
            "type": "carpet"
           }
          ],
          "choropleth": [
           {
            "colorbar": {
             "outlinewidth": 0,
             "tickcolor": "rgb(36,36,36)",
             "ticklen": 8,
             "ticks": "outside",
             "tickwidth": 2
            },
            "type": "choropleth"
           }
          ],
          "contour": [
           {
            "colorbar": {
             "outlinewidth": 0,
             "tickcolor": "rgb(36,36,36)",
             "ticklen": 8,
             "ticks": "outside",
             "tickwidth": 2
            },
            "colorscale": [
             [
              0,
              "rgb(2,4,25)"
             ],
             [
              0.06274509803921569,
              "rgb(24,15,41)"
             ],
             [
              0.12549019607843137,
              "rgb(47,23,57)"
             ],
             [
              0.18823529411764706,
              "rgb(71,28,72)"
             ],
             [
              0.25098039215686274,
              "rgb(97,30,82)"
             ],
             [
              0.3137254901960784,
              "rgb(123,30,89)"
             ],
             [
              0.3764705882352941,
              "rgb(150,27,91)"
             ],
             [
              0.4392156862745098,
              "rgb(177,22,88)"
             ],
             [
              0.5019607843137255,
              "rgb(203,26,79)"
             ],
             [
              0.5647058823529412,
              "rgb(223,47,67)"
             ],
             [
              0.6274509803921569,
              "rgb(236,76,61)"
             ],
             [
              0.6901960784313725,
              "rgb(242,107,73)"
             ],
             [
              0.7529411764705882,
              "rgb(244,135,95)"
             ],
             [
              0.8156862745098039,
              "rgb(245,162,122)"
             ],
             [
              0.8784313725490196,
              "rgb(246,188,153)"
             ],
             [
              0.9411764705882353,
              "rgb(247,212,187)"
             ],
             [
              1,
              "rgb(250,234,220)"
             ]
            ],
            "type": "contour"
           }
          ],
          "contourcarpet": [
           {
            "colorbar": {
             "outlinewidth": 0,
             "tickcolor": "rgb(36,36,36)",
             "ticklen": 8,
             "ticks": "outside",
             "tickwidth": 2
            },
            "type": "contourcarpet"
           }
          ],
          "heatmap": [
           {
            "colorbar": {
             "outlinewidth": 0,
             "tickcolor": "rgb(36,36,36)",
             "ticklen": 8,
             "ticks": "outside",
             "tickwidth": 2
            },
            "colorscale": [
             [
              0,
              "rgb(2,4,25)"
             ],
             [
              0.06274509803921569,
              "rgb(24,15,41)"
             ],
             [
              0.12549019607843137,
              "rgb(47,23,57)"
             ],
             [
              0.18823529411764706,
              "rgb(71,28,72)"
             ],
             [
              0.25098039215686274,
              "rgb(97,30,82)"
             ],
             [
              0.3137254901960784,
              "rgb(123,30,89)"
             ],
             [
              0.3764705882352941,
              "rgb(150,27,91)"
             ],
             [
              0.4392156862745098,
              "rgb(177,22,88)"
             ],
             [
              0.5019607843137255,
              "rgb(203,26,79)"
             ],
             [
              0.5647058823529412,
              "rgb(223,47,67)"
             ],
             [
              0.6274509803921569,
              "rgb(236,76,61)"
             ],
             [
              0.6901960784313725,
              "rgb(242,107,73)"
             ],
             [
              0.7529411764705882,
              "rgb(244,135,95)"
             ],
             [
              0.8156862745098039,
              "rgb(245,162,122)"
             ],
             [
              0.8784313725490196,
              "rgb(246,188,153)"
             ],
             [
              0.9411764705882353,
              "rgb(247,212,187)"
             ],
             [
              1,
              "rgb(250,234,220)"
             ]
            ],
            "type": "heatmap"
           }
          ],
          "heatmapgl": [
           {
            "colorbar": {
             "outlinewidth": 0,
             "tickcolor": "rgb(36,36,36)",
             "ticklen": 8,
             "ticks": "outside",
             "tickwidth": 2
            },
            "colorscale": [
             [
              0,
              "rgb(2,4,25)"
             ],
             [
              0.06274509803921569,
              "rgb(24,15,41)"
             ],
             [
              0.12549019607843137,
              "rgb(47,23,57)"
             ],
             [
              0.18823529411764706,
              "rgb(71,28,72)"
             ],
             [
              0.25098039215686274,
              "rgb(97,30,82)"
             ],
             [
              0.3137254901960784,
              "rgb(123,30,89)"
             ],
             [
              0.3764705882352941,
              "rgb(150,27,91)"
             ],
             [
              0.4392156862745098,
              "rgb(177,22,88)"
             ],
             [
              0.5019607843137255,
              "rgb(203,26,79)"
             ],
             [
              0.5647058823529412,
              "rgb(223,47,67)"
             ],
             [
              0.6274509803921569,
              "rgb(236,76,61)"
             ],
             [
              0.6901960784313725,
              "rgb(242,107,73)"
             ],
             [
              0.7529411764705882,
              "rgb(244,135,95)"
             ],
             [
              0.8156862745098039,
              "rgb(245,162,122)"
             ],
             [
              0.8784313725490196,
              "rgb(246,188,153)"
             ],
             [
              0.9411764705882353,
              "rgb(247,212,187)"
             ],
             [
              1,
              "rgb(250,234,220)"
             ]
            ],
            "type": "heatmapgl"
           }
          ],
          "histogram": [
           {
            "marker": {
             "colorbar": {
              "outlinewidth": 0,
              "tickcolor": "rgb(36,36,36)",
              "ticklen": 8,
              "ticks": "outside",
              "tickwidth": 2
             }
            },
            "type": "histogram"
           }
          ],
          "histogram2d": [
           {
            "colorbar": {
             "outlinewidth": 0,
             "tickcolor": "rgb(36,36,36)",
             "ticklen": 8,
             "ticks": "outside",
             "tickwidth": 2
            },
            "colorscale": [
             [
              0,
              "rgb(2,4,25)"
             ],
             [
              0.06274509803921569,
              "rgb(24,15,41)"
             ],
             [
              0.12549019607843137,
              "rgb(47,23,57)"
             ],
             [
              0.18823529411764706,
              "rgb(71,28,72)"
             ],
             [
              0.25098039215686274,
              "rgb(97,30,82)"
             ],
             [
              0.3137254901960784,
              "rgb(123,30,89)"
             ],
             [
              0.3764705882352941,
              "rgb(150,27,91)"
             ],
             [
              0.4392156862745098,
              "rgb(177,22,88)"
             ],
             [
              0.5019607843137255,
              "rgb(203,26,79)"
             ],
             [
              0.5647058823529412,
              "rgb(223,47,67)"
             ],
             [
              0.6274509803921569,
              "rgb(236,76,61)"
             ],
             [
              0.6901960784313725,
              "rgb(242,107,73)"
             ],
             [
              0.7529411764705882,
              "rgb(244,135,95)"
             ],
             [
              0.8156862745098039,
              "rgb(245,162,122)"
             ],
             [
              0.8784313725490196,
              "rgb(246,188,153)"
             ],
             [
              0.9411764705882353,
              "rgb(247,212,187)"
             ],
             [
              1,
              "rgb(250,234,220)"
             ]
            ],
            "type": "histogram2d"
           }
          ],
          "histogram2dcontour": [
           {
            "colorbar": {
             "outlinewidth": 0,
             "tickcolor": "rgb(36,36,36)",
             "ticklen": 8,
             "ticks": "outside",
             "tickwidth": 2
            },
            "colorscale": [
             [
              0,
              "rgb(2,4,25)"
             ],
             [
              0.06274509803921569,
              "rgb(24,15,41)"
             ],
             [
              0.12549019607843137,
              "rgb(47,23,57)"
             ],
             [
              0.18823529411764706,
              "rgb(71,28,72)"
             ],
             [
              0.25098039215686274,
              "rgb(97,30,82)"
             ],
             [
              0.3137254901960784,
              "rgb(123,30,89)"
             ],
             [
              0.3764705882352941,
              "rgb(150,27,91)"
             ],
             [
              0.4392156862745098,
              "rgb(177,22,88)"
             ],
             [
              0.5019607843137255,
              "rgb(203,26,79)"
             ],
             [
              0.5647058823529412,
              "rgb(223,47,67)"
             ],
             [
              0.6274509803921569,
              "rgb(236,76,61)"
             ],
             [
              0.6901960784313725,
              "rgb(242,107,73)"
             ],
             [
              0.7529411764705882,
              "rgb(244,135,95)"
             ],
             [
              0.8156862745098039,
              "rgb(245,162,122)"
             ],
             [
              0.8784313725490196,
              "rgb(246,188,153)"
             ],
             [
              0.9411764705882353,
              "rgb(247,212,187)"
             ],
             [
              1,
              "rgb(250,234,220)"
             ]
            ],
            "type": "histogram2dcontour"
           }
          ],
          "mesh3d": [
           {
            "colorbar": {
             "outlinewidth": 0,
             "tickcolor": "rgb(36,36,36)",
             "ticklen": 8,
             "ticks": "outside",
             "tickwidth": 2
            },
            "type": "mesh3d"
           }
          ],
          "parcoords": [
           {
            "line": {
             "colorbar": {
              "outlinewidth": 0,
              "tickcolor": "rgb(36,36,36)",
              "ticklen": 8,
              "ticks": "outside",
              "tickwidth": 2
             }
            },
            "type": "parcoords"
           }
          ],
          "pie": [
           {
            "automargin": true,
            "type": "pie"
           }
          ],
          "scatter": [
           {
            "marker": {
             "colorbar": {
              "outlinewidth": 0,
              "tickcolor": "rgb(36,36,36)",
              "ticklen": 8,
              "ticks": "outside",
              "tickwidth": 2
             }
            },
            "type": "scatter"
           }
          ],
          "scatter3d": [
           {
            "line": {
             "colorbar": {
              "outlinewidth": 0,
              "tickcolor": "rgb(36,36,36)",
              "ticklen": 8,
              "ticks": "outside",
              "tickwidth": 2
             }
            },
            "marker": {
             "colorbar": {
              "outlinewidth": 0,
              "tickcolor": "rgb(36,36,36)",
              "ticklen": 8,
              "ticks": "outside",
              "tickwidth": 2
             }
            },
            "type": "scatter3d"
           }
          ],
          "scattercarpet": [
           {
            "marker": {
             "colorbar": {
              "outlinewidth": 0,
              "tickcolor": "rgb(36,36,36)",
              "ticklen": 8,
              "ticks": "outside",
              "tickwidth": 2
             }
            },
            "type": "scattercarpet"
           }
          ],
          "scattergeo": [
           {
            "marker": {
             "colorbar": {
              "outlinewidth": 0,
              "tickcolor": "rgb(36,36,36)",
              "ticklen": 8,
              "ticks": "outside",
              "tickwidth": 2
             }
            },
            "type": "scattergeo"
           }
          ],
          "scattergl": [
           {
            "marker": {
             "colorbar": {
              "outlinewidth": 0,
              "tickcolor": "rgb(36,36,36)",
              "ticklen": 8,
              "ticks": "outside",
              "tickwidth": 2
             }
            },
            "type": "scattergl"
           }
          ],
          "scattermapbox": [
           {
            "marker": {
             "colorbar": {
              "outlinewidth": 0,
              "tickcolor": "rgb(36,36,36)",
              "ticklen": 8,
              "ticks": "outside",
              "tickwidth": 2
             }
            },
            "type": "scattermapbox"
           }
          ],
          "scatterpolar": [
           {
            "marker": {
             "colorbar": {
              "outlinewidth": 0,
              "tickcolor": "rgb(36,36,36)",
              "ticklen": 8,
              "ticks": "outside",
              "tickwidth": 2
             }
            },
            "type": "scatterpolar"
           }
          ],
          "scatterpolargl": [
           {
            "marker": {
             "colorbar": {
              "outlinewidth": 0,
              "tickcolor": "rgb(36,36,36)",
              "ticklen": 8,
              "ticks": "outside",
              "tickwidth": 2
             }
            },
            "type": "scatterpolargl"
           }
          ],
          "scatterternary": [
           {
            "marker": {
             "colorbar": {
              "outlinewidth": 0,
              "tickcolor": "rgb(36,36,36)",
              "ticklen": 8,
              "ticks": "outside",
              "tickwidth": 2
             }
            },
            "type": "scatterternary"
           }
          ],
          "surface": [
           {
            "colorbar": {
             "outlinewidth": 0,
             "tickcolor": "rgb(36,36,36)",
             "ticklen": 8,
             "ticks": "outside",
             "tickwidth": 2
            },
            "colorscale": [
             [
              0,
              "rgb(2,4,25)"
             ],
             [
              0.06274509803921569,
              "rgb(24,15,41)"
             ],
             [
              0.12549019607843137,
              "rgb(47,23,57)"
             ],
             [
              0.18823529411764706,
              "rgb(71,28,72)"
             ],
             [
              0.25098039215686274,
              "rgb(97,30,82)"
             ],
             [
              0.3137254901960784,
              "rgb(123,30,89)"
             ],
             [
              0.3764705882352941,
              "rgb(150,27,91)"
             ],
             [
              0.4392156862745098,
              "rgb(177,22,88)"
             ],
             [
              0.5019607843137255,
              "rgb(203,26,79)"
             ],
             [
              0.5647058823529412,
              "rgb(223,47,67)"
             ],
             [
              0.6274509803921569,
              "rgb(236,76,61)"
             ],
             [
              0.6901960784313725,
              "rgb(242,107,73)"
             ],
             [
              0.7529411764705882,
              "rgb(244,135,95)"
             ],
             [
              0.8156862745098039,
              "rgb(245,162,122)"
             ],
             [
              0.8784313725490196,
              "rgb(246,188,153)"
             ],
             [
              0.9411764705882353,
              "rgb(247,212,187)"
             ],
             [
              1,
              "rgb(250,234,220)"
             ]
            ],
            "type": "surface"
           }
          ],
          "table": [
           {
            "cells": {
             "fill": {
              "color": "rgb(231,231,240)"
             },
             "line": {
              "color": "white"
             }
            },
            "header": {
             "fill": {
              "color": "rgb(183,183,191)"
             },
             "line": {
              "color": "white"
             }
            },
            "type": "table"
           }
          ]
         },
         "layout": {
          "annotationdefaults": {
           "arrowcolor": "rgb(67,103,167)"
          },
          "autotypenumbers": "strict",
          "coloraxis": {
           "colorbar": {
            "outlinewidth": 0,
            "tickcolor": "rgb(36,36,36)",
            "ticklen": 8,
            "ticks": "outside",
            "tickwidth": 2
           }
          },
          "colorscale": {
           "sequential": [
            [
             0,
             "rgb(2,4,25)"
            ],
            [
             0.06274509803921569,
             "rgb(24,15,41)"
            ],
            [
             0.12549019607843137,
             "rgb(47,23,57)"
            ],
            [
             0.18823529411764706,
             "rgb(71,28,72)"
            ],
            [
             0.25098039215686274,
             "rgb(97,30,82)"
            ],
            [
             0.3137254901960784,
             "rgb(123,30,89)"
            ],
            [
             0.3764705882352941,
             "rgb(150,27,91)"
            ],
            [
             0.4392156862745098,
             "rgb(177,22,88)"
            ],
            [
             0.5019607843137255,
             "rgb(203,26,79)"
            ],
            [
             0.5647058823529412,
             "rgb(223,47,67)"
            ],
            [
             0.6274509803921569,
             "rgb(236,76,61)"
            ],
            [
             0.6901960784313725,
             "rgb(242,107,73)"
            ],
            [
             0.7529411764705882,
             "rgb(244,135,95)"
            ],
            [
             0.8156862745098039,
             "rgb(245,162,122)"
            ],
            [
             0.8784313725490196,
             "rgb(246,188,153)"
            ],
            [
             0.9411764705882353,
             "rgb(247,212,187)"
            ],
            [
             1,
             "rgb(250,234,220)"
            ]
           ],
           "sequentialminus": [
            [
             0,
             "rgb(2,4,25)"
            ],
            [
             0.06274509803921569,
             "rgb(24,15,41)"
            ],
            [
             0.12549019607843137,
             "rgb(47,23,57)"
            ],
            [
             0.18823529411764706,
             "rgb(71,28,72)"
            ],
            [
             0.25098039215686274,
             "rgb(97,30,82)"
            ],
            [
             0.3137254901960784,
             "rgb(123,30,89)"
            ],
            [
             0.3764705882352941,
             "rgb(150,27,91)"
            ],
            [
             0.4392156862745098,
             "rgb(177,22,88)"
            ],
            [
             0.5019607843137255,
             "rgb(203,26,79)"
            ],
            [
             0.5647058823529412,
             "rgb(223,47,67)"
            ],
            [
             0.6274509803921569,
             "rgb(236,76,61)"
            ],
            [
             0.6901960784313725,
             "rgb(242,107,73)"
            ],
            [
             0.7529411764705882,
             "rgb(244,135,95)"
            ],
            [
             0.8156862745098039,
             "rgb(245,162,122)"
            ],
            [
             0.8784313725490196,
             "rgb(246,188,153)"
            ],
            [
             0.9411764705882353,
             "rgb(247,212,187)"
            ],
            [
             1,
             "rgb(250,234,220)"
            ]
           ]
          },
          "colorway": [
           "rgb(76,114,176)",
           "rgb(221,132,82)",
           "rgb(85,168,104)",
           "rgb(196,78,82)",
           "rgb(129,114,179)",
           "rgb(147,120,96)",
           "rgb(218,139,195)",
           "rgb(140,140,140)",
           "rgb(204,185,116)",
           "rgb(100,181,205)"
          ],
          "font": {
           "color": "rgb(36,36,36)"
          },
          "geo": {
           "bgcolor": "white",
           "lakecolor": "white",
           "landcolor": "rgb(234,234,242)",
           "showlakes": true,
           "showland": true,
           "subunitcolor": "white"
          },
          "hoverlabel": {
           "align": "left"
          },
          "hovermode": "closest",
          "paper_bgcolor": "white",
          "plot_bgcolor": "rgb(234,234,242)",
          "polar": {
           "angularaxis": {
            "gridcolor": "white",
            "linecolor": "white",
            "showgrid": true,
            "ticks": ""
           },
           "bgcolor": "rgb(234,234,242)",
           "radialaxis": {
            "gridcolor": "white",
            "linecolor": "white",
            "showgrid": true,
            "ticks": ""
           }
          },
          "scene": {
           "xaxis": {
            "backgroundcolor": "rgb(234,234,242)",
            "gridcolor": "white",
            "gridwidth": 2,
            "linecolor": "white",
            "showbackground": true,
            "showgrid": true,
            "ticks": "",
            "zerolinecolor": "white"
           },
           "yaxis": {
            "backgroundcolor": "rgb(234,234,242)",
            "gridcolor": "white",
            "gridwidth": 2,
            "linecolor": "white",
            "showbackground": true,
            "showgrid": true,
            "ticks": "",
            "zerolinecolor": "white"
           },
           "zaxis": {
            "backgroundcolor": "rgb(234,234,242)",
            "gridcolor": "white",
            "gridwidth": 2,
            "linecolor": "white",
            "showbackground": true,
            "showgrid": true,
            "ticks": "",
            "zerolinecolor": "white"
           }
          },
          "shapedefaults": {
           "fillcolor": "rgb(67,103,167)",
           "line": {
            "width": 0
           },
           "opacity": 0.5
          },
          "ternary": {
           "aaxis": {
            "gridcolor": "white",
            "linecolor": "white",
            "showgrid": true,
            "ticks": ""
           },
           "baxis": {
            "gridcolor": "white",
            "linecolor": "white",
            "showgrid": true,
            "ticks": ""
           },
           "bgcolor": "rgb(234,234,242)",
           "caxis": {
            "gridcolor": "white",
            "linecolor": "white",
            "showgrid": true,
            "ticks": ""
           }
          },
          "xaxis": {
           "automargin": true,
           "gridcolor": "white",
           "linecolor": "white",
           "showgrid": true,
           "ticks": "",
           "title": {
            "standoff": 15
           },
           "zerolinecolor": "white"
          },
          "yaxis": {
           "automargin": true,
           "gridcolor": "white",
           "linecolor": "white",
           "showgrid": true,
           "ticks": "",
           "title": {
            "standoff": 15
           },
           "zerolinecolor": "white"
          }
         }
        },
        "xaxis": {
         "anchor": "y",
         "domain": [
          0,
          1
         ],
         "title": {
          "text": "BRAND"
         }
        },
        "yaxis": {
         "anchor": "x",
         "domain": [
          0,
          1
         ],
         "title": {
          "text": "CATEGORIES 2"
         }
        }
       }
      }
     },
     "metadata": {},
     "output_type": "display_data"
    }
   ],
   "source": [
    "px.bar(df, x=\"BRAND\", y=\"CATEGORIES 2\", color=\"RANK\",\n",
    "             hover_data=[\"ER\", \"FOLLOWERS\"],\n",
    "             height=400,template='seaborn')\n",
    "             "
   ]
  },
  {
   "cell_type": "code",
   "execution_count": 11,
   "metadata": {},
   "outputs": [],
   "source": [
    "most_types =df.groupby('CATEGORIES 1',as_index=False).mean()"
   ]
  },
  {
   "cell_type": "code",
   "execution_count": 8,
   "metadata": {},
   "outputs": [
    {
     "data": {
      "text/html": [
       "<div>\n",
       "<style scoped>\n",
       "    .dataframe tbody tr th:only-of-type {\n",
       "        vertical-align: middle;\n",
       "    }\n",
       "\n",
       "    .dataframe tbody tr th {\n",
       "        vertical-align: top;\n",
       "    }\n",
       "\n",
       "    .dataframe thead th {\n",
       "        text-align: right;\n",
       "    }\n",
       "</style>\n",
       "<table border=\"1\" class=\"dataframe\">\n",
       "  <thead>\n",
       "    <tr style=\"text-align: right;\">\n",
       "      <th></th>\n",
       "      <th>CATEGORIES 2</th>\n",
       "      <th>RANK</th>\n",
       "    </tr>\n",
       "  </thead>\n",
       "  <tbody>\n",
       "    <tr>\n",
       "      <th>0</th>\n",
       "      <td>actors</td>\n",
       "      <td>55.090909</td>\n",
       "    </tr>\n",
       "    <tr>\n",
       "      <th>1</th>\n",
       "      <td>athletes</td>\n",
       "      <td>48.888889</td>\n",
       "    </tr>\n",
       "    <tr>\n",
       "      <th>2</th>\n",
       "      <td>basketball</td>\n",
       "      <td>46.000000</td>\n",
       "    </tr>\n",
       "    <tr>\n",
       "      <th>3</th>\n",
       "      <td>entrepreneurs</td>\n",
       "      <td>80.000000</td>\n",
       "    </tr>\n",
       "    <tr>\n",
       "      <th>4</th>\n",
       "      <td>fashion</td>\n",
       "      <td>95.000000</td>\n",
       "    </tr>\n",
       "  </tbody>\n",
       "</table>\n",
       "</div>"
      ],
      "text/plain": [
       "    CATEGORIES 2       RANK\n",
       "0         actors  55.090909\n",
       "1       athletes  48.888889\n",
       "2     basketball  46.000000\n",
       "3  entrepreneurs  80.000000\n",
       "4        fashion  95.000000"
      ]
     },
     "execution_count": 8,
     "metadata": {},
     "output_type": "execute_result"
    }
   ],
   "source": [
    "most_types.head()"
   ]
  },
  {
   "cell_type": "code",
   "execution_count": null,
   "metadata": {},
   "outputs": [],
   "source": [
    "px.pie(data_frame = most_types,labels = 'BRAND',values= 'CATEGORIES 1',names='RANK')"
   ]
  },
  {
   "cell_type": "code",
   "execution_count": 18,
   "metadata": {},
   "outputs": [],
   "source": [
    "df[['FOLLOWERS','MEDIA POSTED']]=df[['FOLLOWERS','MEDIA POSTED']].astype(str)"
   ]
  },
  {
   "cell_type": "code",
   "execution_count": 19,
   "metadata": {},
   "outputs": [
    {
     "data": {
      "text/plain": [
       "<bound method NDFrame.head of     RANK                   BRAND CATEGORIES 1 CATEGORIES 2   FOLLOWERS  \\\n",
       "0      1            Selena Gomez  celebrities    musicians  105.4M�(=)   \n",
       "1      2            Taylor Swift  celebrities    musicians   95.2M�(=)   \n",
       "2      3           Ariana Grande  celebrities    musicians   92.3M�(=)   \n",
       "3      4                 Beyonce  celebrities    musicians   90.6M�(=)   \n",
       "4      5     Kim Kardashian West  celebrities           tv   89.3M�(=)   \n",
       "..   ...                     ...          ...          ...         ...   \n",
       "95    96  DanialvesD2 My Twitter  celebrities     athletes   11.7M�(=)   \n",
       "96    97         Dolce & Gabbana      fashion       luxury   11.7M�(=)   \n",
       "97    98           Tyga / T-Raww  celebrities    musicians   11.6M�(=)   \n",
       "98    99       Paul Labile Pogba  celebrities     athletes   11.5M�(=)   \n",
       "99   100            Barack Obama  celebrities    political   11.5M�(=)   \n",
       "\n",
       "              ER iPOSTS ON HASHTAG MEDIA POSTED  \n",
       "0   2.62%�(1342)        14.5M�(48)  1.2k�(2135)  \n",
       "1   1.96%�(2040)        10.5M�(66)   958�(2669)  \n",
       "2   1.43%�(2759)        16.9M�(41)   2.8k�(824)  \n",
       "3   2.53%�(1427)         9.2M�(70)  1.4k�(1897)  \n",
       "4   1.39%�(2812)        5.1M�(130)   3.6k�(550)  \n",
       "..           ...               ...          ...  \n",
       "95  1.62%�(2477)     122.4k�(1486)  1.7k�(1508)  \n",
       "96  0.48%�(4142)        6.1M�(105)   3.9k�(471)  \n",
       "97  1.31%�(2922)        1.2M�(421)   2.5k�(948)  \n",
       "98   6.11%�(170)      77.6k�(1745)   396�(4219)  \n",
       "99   3.37%�(826)        2.5M�(240)   231�(4753)  \n",
       "\n",
       "[100 rows x 8 columns]>"
      ]
     },
     "execution_count": 19,
     "metadata": {},
     "output_type": "execute_result"
    }
   ],
   "source": [
    "df.head"
   ]
  }
 ],
 "metadata": {
  "interpreter": {
   "hash": "b46284d71e8e999d898e946ffc6e0c80f3970ca827bf9a751f6a0d692b1de781"
  },
  "kernelspec": {
   "display_name": "Python 3.9.2 64-bit",
   "name": "python3"
  },
  "language_info": {
   "codemirror_mode": {
    "name": "ipython",
    "version": 3
   },
   "file_extension": ".py",
   "mimetype": "text/x-python",
   "name": "python",
   "nbconvert_exporter": "python",
   "pygments_lexer": "ipython3",
   "version": "3.9.2"
  },
  "orig_nbformat": 4
 },
 "nbformat": 4,
 "nbformat_minor": 2
}
